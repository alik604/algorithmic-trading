{
 "cells": [
  {
   "cell_type": "markdown",
   "metadata": {},
   "source": [
    "# Written Summer 2019. Refactored in summer 2021, damn my code was bad. \n",
    "> Whether you should buy above or below the SMA\n",
    "\n",
    "This code has a mistake. `invPerMonth` is just that. my loop ignores left overmoney. ie 120-100 = 20, That $20 disappears\n",
    "\n",
    "Note `df2 = dataset.iloc[ : :20, :] # every 20th, all columns`, this is on a (apx.) monthly basis, as there are (apx.) 20 trading days a month... use `consider_every_Nth_day`"
   ]
  },
  {
   "cell_type": "code",
   "execution_count": 1,
   "metadata": {},
   "outputs": [],
   "source": [
    "consider_every_Nth_day = 1 # 20 \n",
    "share = 'SPY'"
   ]
  },
  {
   "cell_type": "code",
   "execution_count": 2,
   "metadata": {
    "colab": {
     "base_uri": "https://localhost:8080/",
     "height": 459
    },
    "colab_type": "code",
    "id": "ZFRj4XIEkjN_",
    "outputId": "153216d4-ff57-4d42-c8fd-4c73dc318e31"
   },
   "outputs": [],
   "source": [
    "# Importing the libraries\n",
    "import math\n",
    "import numpy as np\n",
    "import pandas as pd\n",
    "import matplotlib.pyplot as plt\n",
    "plt.style.use('fivethirtyeight')\n",
    "\n",
    "# from pandas_datareader import data as pdr\n",
    "import yfinance as yf\n",
    "import warnings\n",
    "warnings.filterwarnings(\"ignore\")"
   ]
  },
  {
   "cell_type": "code",
   "execution_count": 3,
   "metadata": {
    "colab": {
     "base_uri": "https://localhost:8080/",
     "height": 252
    },
    "colab_type": "code",
    "id": "dulAplofkoht",
    "outputId": "a5ff8fc1-32cc-4f55-e19b-a55aff43b426"
   },
   "outputs": [
    {
     "name": "stdout",
     "output_type": "stream",
     "text": [
      "[*********************100%***********************]  1 of 1 completed\n"
     ]
    },
    {
     "data": {
      "text/html": [
       "<div>\n",
       "<style scoped>\n",
       "    .dataframe tbody tr th:only-of-type {\n",
       "        vertical-align: middle;\n",
       "    }\n",
       "\n",
       "    .dataframe tbody tr th {\n",
       "        vertical-align: top;\n",
       "    }\n",
       "\n",
       "    .dataframe thead th {\n",
       "        text-align: right;\n",
       "    }\n",
       "</style>\n",
       "<table border=\"1\" class=\"dataframe\">\n",
       "  <thead>\n",
       "    <tr style=\"text-align: right;\">\n",
       "      <th></th>\n",
       "      <th>Close</th>\n",
       "    </tr>\n",
       "    <tr>\n",
       "      <th>Date</th>\n",
       "      <th></th>\n",
       "    </tr>\n",
       "  </thead>\n",
       "  <tbody>\n",
       "    <tr>\n",
       "      <th>2003-03-14</th>\n",
       "      <td>84.129997</td>\n",
       "    </tr>\n",
       "    <tr>\n",
       "      <th>2003-03-17</th>\n",
       "      <td>86.779999</td>\n",
       "    </tr>\n",
       "    <tr>\n",
       "      <th>2003-03-18</th>\n",
       "      <td>87.290001</td>\n",
       "    </tr>\n",
       "    <tr>\n",
       "      <th>2003-03-19</th>\n",
       "      <td>87.959999</td>\n",
       "    </tr>\n",
       "    <tr>\n",
       "      <th>2003-03-20</th>\n",
       "      <td>88.150002</td>\n",
       "    </tr>\n",
       "  </tbody>\n",
       "</table>\n",
       "</div>"
      ],
      "text/plain": [
       "                Close\n",
       "Date                 \n",
       "2003-03-14  84.129997\n",
       "2003-03-17  86.779999\n",
       "2003-03-18  87.290001\n",
       "2003-03-19  87.959999\n",
       "2003-03-20  88.150002"
      ]
     },
     "execution_count": 3,
     "metadata": {},
     "output_type": "execute_result"
    }
   ],
   "source": [
    "dataset = yf.download(share,\"2003-3-14\") #, start=\"2017-01-01\"\n",
    "dataset = dataset.drop(columns=['Open','High', 'Low','Adj Close','Volume'])\n",
    "dataset.head()\n"
   ]
  },
  {
   "cell_type": "code",
   "execution_count": 4,
   "metadata": {
    "colab": {
     "base_uri": "https://localhost:8080/",
     "height": 235
    },
    "colab_type": "code",
    "id": "X8j8XenptQwk",
    "outputId": "be61ccfd-bd54-41fb-fc65-8a2ea33c6ff1"
   },
   "outputs": [
    {
     "data": {
      "text/html": [
       "<div>\n",
       "<style scoped>\n",
       "    .dataframe tbody tr th:only-of-type {\n",
       "        vertical-align: middle;\n",
       "    }\n",
       "\n",
       "    .dataframe tbody tr th {\n",
       "        vertical-align: top;\n",
       "    }\n",
       "\n",
       "    .dataframe thead th {\n",
       "        text-align: right;\n",
       "    }\n",
       "</style>\n",
       "<table border=\"1\" class=\"dataframe\">\n",
       "  <thead>\n",
       "    <tr style=\"text-align: right;\">\n",
       "      <th></th>\n",
       "      <th>Close</th>\n",
       "    </tr>\n",
       "    <tr>\n",
       "      <th>Date</th>\n",
       "      <th></th>\n",
       "    </tr>\n",
       "  </thead>\n",
       "  <tbody>\n",
       "    <tr>\n",
       "      <th>2003-03-14</th>\n",
       "      <td>84.129997</td>\n",
       "    </tr>\n",
       "    <tr>\n",
       "      <th>2003-03-17</th>\n",
       "      <td>86.779999</td>\n",
       "    </tr>\n",
       "    <tr>\n",
       "      <th>2003-03-18</th>\n",
       "      <td>87.290001</td>\n",
       "    </tr>\n",
       "    <tr>\n",
       "      <th>2003-03-19</th>\n",
       "      <td>87.959999</td>\n",
       "    </tr>\n",
       "    <tr>\n",
       "      <th>2003-03-20</th>\n",
       "      <td>88.150002</td>\n",
       "    </tr>\n",
       "  </tbody>\n",
       "</table>\n",
       "</div>"
      ],
      "text/plain": [
       "                Close\n",
       "Date                 \n",
       "2003-03-14  84.129997\n",
       "2003-03-17  86.779999\n",
       "2003-03-18  87.290001\n",
       "2003-03-19  87.959999\n",
       "2003-03-20  88.150002"
      ]
     },
     "execution_count": 4,
     "metadata": {},
     "output_type": "execute_result"
    }
   ],
   "source": [
    "df2 = dataset.iloc[ : :consider_every_Nth_day, :] # every 20th, all columns\n",
    "df2.head()"
   ]
  },
  {
   "cell_type": "code",
   "execution_count": 5,
   "metadata": {
    "colab": {
     "base_uri": "https://localhost:8080/",
     "height": 68
    },
    "colab_type": "code",
    "id": "y7B3T5Tt2tQ9",
    "outputId": "a80bdb99-a903-48b2-a259-bd3be815bd94"
   },
   "outputs": [
    {
     "name": "stdout",
     "output_type": "stream",
     "text": [
      "Money left: 1065.6699999999933\n",
      "Numb of shares:30047\n",
      "Numb of shares * last closing + Money left  = 13252393.28\n"
     ]
    }
   ],
   "source": [
    "invPerMonth = 1000\n",
    "total =0\n",
    "shares=0 \n",
    "\n",
    "for i, row in df2.iterrows():\n",
    "   # print(\"\\n\" + str(i) +\" | \"+ str(row.Close.round(2)))\n",
    "    numShares = math.floor((invPerMonth)/row.Close.round(2))\n",
    "    shares+=numShares\n",
    "    invPerMonth -= (row.Close.round(2) * numShares)\n",
    "    \n",
    "    invPerMonth += 1000\n",
    "   # print(\"numShares:\" , numShares)\n",
    "   # print(\"shares:\" , shares)\n",
    "   # print(\"invPerMonth:\" , invPerMonth)\n",
    "\n",
    "base_strategy = int(dataset.tail(1).Close*shares)\n",
    "value_of_shares_at_end = dataset.tail(1).Close.values[0]*shares\n",
    "print(f\"Money left: {invPerMonth}\")\n",
    "print(f\"Numb of shares:{shares}\")\n",
    "print(f\"Numb of shares * last closing + Money left  = {value_of_shares_at_end+invPerMonth:.2f}\")"
   ]
  },
  {
   "cell_type": "code",
   "execution_count": 6,
   "metadata": {},
   "outputs": [],
   "source": [
    "# Note the odd usage\n",
    "def simulate_buy_below_MA(window=1):\n",
    "    df2['MA'] = df2.rolling(window=window).mean().fillna(df2.Close[0])\n",
    "    \n",
    "    invPerMonth = 1000\n",
    "    total =0\n",
    "    shares=0 \n",
    "    for i, row in df2.iterrows():\n",
    "       # print(\"\\n\" + str(i) +\" | \"+ str(row.Close.round(2)))\n",
    "        if((row.Close.round(2) <= row.MA.round(2)) and not math.isnan(row.MA.round(2))):\n",
    "          numb_new_shares = math.floor((invPerMonth)/row.Close.round(2))\n",
    "          shares += numb_new_shares\n",
    "          invPerMonth -= (row.Close.round(2) * numb_new_shares)\n",
    "          #print(\"\\n close: \" + str(i) +\" | \"+ str(row.Close.round(2)))\n",
    "          #print(\" MA:    \"+str(i) +\" | \"+ str(row.MA.round(2)))\n",
    "        invPerMonth += 1000\n",
    "       # print(\"numb_new_shares:\" , numb_new_shares)\n",
    "       # print(\"shares:\" , shares)\n",
    "       # print(\"invPerMonth:\" , invPerMonth)\n",
    "    value_of_shares_at_end = dataset.tail(1).Close.values[0]*shares\n",
    "    print(f'Window size is {window}')\n",
    "    print(f\"Money left: {invPerMonth}\")\n",
    "    print(f\"Numb of shares:{shares}\")\n",
    "    print(f\"Numb of shares * last closing + Money left  = {value_of_shares_at_end+invPerMonth:.2f}\")\n",
    "    print(f\"Total: {value_of_shares_at_end + invPerMonth:.2f}\")\n",
    "    print(f'Total with base_strategy: {base_strategy:.2f}')\n",
    "    print(f'Improvement over base_strategy: {value_of_shares_at_end + invPerMonth - base_strategy:.2f}')\n",
    "    print(f'===================================\\n')"
   ]
  },
  {
   "cell_type": "code",
   "execution_count": 7,
   "metadata": {
    "colab": {
     "base_uri": "https://localhost:8080/",
     "height": 85
    },
    "colab_type": "code",
    "id": "ad0eWexT2wVU",
    "outputId": "7010148a-9994-424d-e076-ded3858dafad"
   },
   "outputs": [
    {
     "name": "stdout",
     "output_type": "stream",
     "text": [
      "Window size is 0\n",
      "Money left: 3089053.02\n",
      "Numb of shares:18364\n",
      "Numb of shares * last closing + Money left  = 11187944.10\n",
      "Total: 11187944.10\n",
      "Total with base_strategy: 13251327.00\n",
      "Improvement over base_strategy: -2063382.90\n",
      "===================================\n",
      "\n",
      "Window size is 1\n",
      "Money left: 1065.6699999999933\n",
      "Numb of shares:30047\n",
      "Numb of shares * last closing + Money left  = 13252393.28\n",
      "Total: 13252393.28\n",
      "Total with base_strategy: 13251327.00\n",
      "Improvement over base_strategy: 1066.28\n",
      "===================================\n",
      "\n",
      "Window size is 10\n",
      "Money left: 5128.620000000016\n",
      "Numb of shares:30049\n",
      "Numb of shares * last closing + Money left  = 13257338.27\n",
      "Total: 13257338.27\n",
      "Total with base_strategy: 13251327.00\n",
      "Improvement over base_strategy: 6011.27\n",
      "===================================\n",
      "\n",
      "Window size is 20\n",
      "Money left: 6007.080000000024\n",
      "Numb of shares:30006\n",
      "Numb of shares * last closing + Money left  = 13239252.87\n",
      "Total: 13239252.87\n",
      "Total with base_strategy: 13251327.00\n",
      "Improvement over base_strategy: -12074.13\n",
      "===================================\n",
      "\n",
      "Window size is 30\n",
      "Money left: 6145.720000000034\n",
      "Numb of shares:29950\n",
      "Numb of shares * last closing + Money left  = 13214694.39\n",
      "Total: 13214694.39\n",
      "Total with base_strategy: 13251327.00\n",
      "Improvement over base_strategy: -36632.61\n",
      "===================================\n",
      "\n",
      "Window size is 45\n",
      "Money left: 26379.84000000002\n",
      "Numb of shares:29918\n",
      "Numb of shares * last closing + Money left  = 13220815.87\n",
      "Total: 13220815.87\n",
      "Total with base_strategy: 13251327.00\n",
      "Improvement over base_strategy: -30511.13\n",
      "===================================\n",
      "\n",
      "Window size is 90\n",
      "Money left: 183096.83000000002\n",
      "Numb of shares:29245\n",
      "Numb of shares * last closing + Money left  = 13080726.41\n",
      "Total: 13080726.41\n",
      "Total with base_strategy: 13251327.00\n",
      "Improvement over base_strategy: -170600.59\n",
      "===================================\n",
      "\n",
      "Window size is 180\n",
      "Money left: 272198.5900000001\n",
      "Numb of shares:28980\n",
      "Numb of shares * last closing + Money left  = 13052957.87\n",
      "Total: 13052957.87\n",
      "Total with base_strategy: 13251327.00\n",
      "Improvement over base_strategy: -198369.13\n",
      "===================================\n",
      "\n",
      "Window size is 360\n",
      "Money left: 301267.0399999999\n",
      "Numb of shares:28390\n",
      "Numb of shares * last closing + Money left  = 12821824.53\n",
      "Total: 12821824.53\n",
      "Total with base_strategy: 13251327.00\n",
      "Improvement over base_strategy: -429502.47\n",
      "===================================\n",
      "\n",
      "Window size is 720\n",
      "Money left: 319048.78\n",
      "Numb of shares:27943\n",
      "Numb of shares * last closing + Money left  = 12642470.33\n",
      "Total: 12642470.33\n",
      "Total with base_strategy: 13251327.00\n",
      "Improvement over base_strategy: -608856.67\n",
      "===================================\n",
      "\n"
     ]
    }
   ],
   "source": [
    "simulate_buy_below_MA(0)\n",
    "simulate_buy_below_MA(1)\n",
    "simulate_buy_below_MA(10)\n",
    "simulate_buy_below_MA(20)\n",
    "simulate_buy_below_MA(30)\n",
    "simulate_buy_below_MA(45)\n",
    "simulate_buy_below_MA(90)\n",
    "simulate_buy_below_MA(180)\n",
    "simulate_buy_below_MA(360)\n",
    "simulate_buy_below_MA(720)"
   ]
  },
  {
   "cell_type": "code",
   "execution_count": 8,
   "metadata": {
    "colab": {
     "base_uri": "https://localhost:8080/",
     "height": 85
    },
    "colab_type": "code",
    "id": "_uConx9n5nNe",
    "outputId": "981a221c-f3cd-4f23-8211-56780716c6fd"
   },
   "outputs": [],
   "source": [
    "def simulate_buy_above_MA(window=1):\n",
    "    df2['MA'] = df2.rolling(window=window).mean().fillna(df2.Close[0])\n",
    "    \n",
    "    invPerMonth = 1000\n",
    "    total =0\n",
    "    shares=0 \n",
    "    for i, row in df2.iterrows():\n",
    "       # print(\"\\n\" + str(i) +\" | \"+ str(row.Close.round(2)))\n",
    "        if((row.Close.round(2) >= row.MA.round(2)) and not math.isnan(row.MA.round(2))):\n",
    "          numb_new_shares = math.floor((invPerMonth)/row.Close.round(2))\n",
    "          shares += numb_new_shares\n",
    "          invPerMonth -= (row.Close.round(2) * numb_new_shares)\n",
    "          #print(\"\\n close: \" + str(i) +\" | \"+ str(row.Close.round(2)))\n",
    "          #print(\" MA:    \"+str(i) +\" | \"+ str(row.MA.round(2)))\n",
    "        invPerMonth += 1000\n",
    "       # print(\"numb_new_shares:\" , numb_new_shares)\n",
    "       # print(\"shares:\" , shares)\n",
    "       # print(\"invPerMonth:\" , invPerMonth)\n",
    "    value_of_shares_at_end = dataset.tail(1).Close.values[0]*shares\n",
    "\n",
    "    print(f'Window size is {window}')\n",
    "    print(f\"Money left: {invPerMonth}\")\n",
    "    print(f\"Numb of shares:{shares}\")\n",
    "    print(f\"Numb of shares * last closing + Money left  = {value_of_shares_at_end+invPerMonth:.2f}\")\n",
    "    print(f\"Total: {value_of_shares_at_end + invPerMonth:.2f}\")\n",
    "    print(f'Total with base_strategy: {base_strategy:.2f}')\n",
    "    print(f'Improvement over base_strategy: {value_of_shares_at_end + invPerMonth - base_strategy:.2f}')\n",
    "    print(f'===================================\\n')"
   ]
  },
  {
   "cell_type": "code",
   "execution_count": 9,
   "metadata": {
    "colab": {
     "base_uri": "https://localhost:8080/",
     "height": 85
    },
    "colab_type": "code",
    "id": "CHi6DutK59QX",
    "outputId": "d645df7e-ff28-47e9-8cb8-2d901487129a"
   },
   "outputs": [
    {
     "name": "stdout",
     "output_type": "stream",
     "text": [
      "Window size is 0\n",
      "Money left: 1120.2899999999902\n",
      "Numb of shares:29997\n",
      "Numb of shares * last closing + Money left  = 13230396.90\n",
      "Total: 13230396.90\n",
      "Total with base_strategy: 13251327.00\n",
      "Improvement over base_strategy: -20930.10\n",
      "===================================\n",
      "\n",
      "Window size is 1\n",
      "Money left: 1065.6699999999933\n",
      "Numb of shares:30047\n",
      "Numb of shares * last closing + Money left  = 13252393.28\n",
      "Total: 13252393.28\n",
      "Total with base_strategy: 13251327.00\n",
      "Improvement over base_strategy: 1066.28\n",
      "===================================\n",
      "\n",
      "Window size is 10\n",
      "Money left: 1223.9600000000066\n",
      "Numb of shares:29990\n",
      "Numb of shares * last closing + Money left  = 13227413.43\n",
      "Total: 13227413.43\n",
      "Total with base_strategy: 13251327.00\n",
      "Improvement over base_strategy: -23913.57\n",
      "===================================\n",
      "\n",
      "Window size is 20\n",
      "Money left: 1151.649999999999\n",
      "Numb of shares:29980\n",
      "Numb of shares * last closing + Money left  = 13222930.92\n",
      "Total: 13222930.92\n",
      "Total with base_strategy: 13251327.00\n",
      "Improvement over base_strategy: -28396.08\n",
      "===================================\n",
      "\n",
      "Window size is 30\n",
      "Money left: 1058.849999999988\n",
      "Numb of shares:29918\n",
      "Numb of shares * last closing + Money left  = 13195494.88\n",
      "Total: 13195494.88\n",
      "Total with base_strategy: 13251327.00\n",
      "Improvement over base_strategy: -55832.12\n",
      "===================================\n",
      "\n",
      "Window size is 45\n",
      "Money left: 1358.8300000000077\n",
      "Numb of shares:29939\n",
      "Numb of shares * last closing + Money left  = 13205056.28\n",
      "Total: 13205056.28\n",
      "Total with base_strategy: 13251327.00\n",
      "Improvement over base_strategy: -46270.72\n",
      "===================================\n",
      "\n",
      "Window size is 90\n",
      "Money left: 1282.989999999958\n",
      "Numb of shares:30231\n",
      "Numb of shares * last closing + Money left  = 13333758.28\n",
      "Total: 13333758.28\n",
      "Total with base_strategy: 13251327.00\n",
      "Improvement over base_strategy: 82431.28\n",
      "===================================\n",
      "\n",
      "Window size is 180\n",
      "Money left: 1147.8899999999783\n",
      "Numb of shares:29984\n",
      "Numb of shares * last closing + Money left  = 13224691.24\n",
      "Total: 13224691.24\n",
      "Total with base_strategy: 13251327.00\n",
      "Improvement over base_strategy: -26635.76\n",
      "===================================\n",
      "\n",
      "Window size is 360\n",
      "Money left: 1440.5900000000288\n",
      "Numb of shares:29978\n",
      "Numb of shares * last closing + Money left  = 13222337.82\n",
      "Total: 13222337.82\n",
      "Total with base_strategy: 13251327.00\n",
      "Improvement over base_strategy: -28989.18\n",
      "===================================\n",
      "\n",
      "Window size is 720\n",
      "Money left: 1067.6299999999737\n",
      "Numb of shares:29306\n",
      "Numb of shares * last closing + Money left  = 12925599.43\n",
      "Total: 12925599.43\n",
      "Total with base_strategy: 13251327.00\n",
      "Improvement over base_strategy: -325727.57\n",
      "===================================\n",
      "\n"
     ]
    }
   ],
   "source": [
    "simulate_buy_above_MA(0)\n",
    "simulate_buy_above_MA(1)\n",
    "simulate_buy_above_MA(10)\n",
    "simulate_buy_above_MA(20)\n",
    "simulate_buy_above_MA(30)\n",
    "simulate_buy_above_MA(45)\n",
    "simulate_buy_above_MA(90)\n",
    "simulate_buy_above_MA(180)\n",
    "simulate_buy_above_MA(360)\n",
    "simulate_buy_above_MA(720)"
   ]
  },
  {
   "cell_type": "markdown",
   "metadata": {
    "colab": {},
    "colab_type": "code",
    "id": "MpHn9TqAQEJH"
   },
   "source": [
    "## Who would have imagined its better than buy and hold, if you buy exclusively above the 90-day Moving Average"
   ]
  },
  {
   "cell_type": "code",
   "execution_count": 13,
   "metadata": {
    "colab": {
     "base_uri": "https://localhost:8080/",
     "height": 85
    },
    "colab_type": "code",
    "id": "maedIZ7V59Xe",
    "outputId": "f37efa3b-54f0-43fc-9b8d-fc6f37cb232e"
   },
   "outputs": [
    {
     "data": {
      "text/plain": [
       "<AxesSubplot:title={'center':\"Who would have imagined it's better than buy and hold, if you buy exclusively above the 90-day Moving Average\"}, xlabel='Date', ylabel='Price'>"
      ]
     },
     "execution_count": 13,
     "metadata": {},
     "output_type": "execute_result"
    },
    {
     "data": {
      "image/png": "[encoded data removed]",
      "text/plain": [
       "<Figure size 1296x648 with 1 Axes>"
      ]
     },
     "metadata": {},
     "output_type": "display_data"
    }
   ],
   "source": [
    "df2['MA'] = df2.rolling(window=90).mean()\n",
    "df2.plot(figsize=(18,9), linewidth=4, title=\"Who would have imagined it's better than buy and hold, if you buy exclusively above the 90-day Moving Average\", ylabel=\"Price\")"
   ]
  },
  {
   "cell_type": "code",
   "execution_count": null,
   "metadata": {},
   "outputs": [],
   "source": []
  }
 ],
 "metadata": {
  "accelerator": "TPU",
  "colab": {
   "name": "algo trading - SMA.ipynb",
   "provenance": []
  },
  "kernelspec": {
   "display_name": "Python 3",
   "language": "python",
   "name": "python3"
  },
  "language_info": {
   "codemirror_mode": {
    "name": "ipython",
    "version": 3
   },
   "file_extension": ".py",
   "mimetype": "text/x-python",
   "name": "python",
   "nbconvert_exporter": "python",
   "pygments_lexer": "ipython3",
   "version": "3.7.9"
  }
 },
 "nbformat": 4,
 "nbformat_minor": 4
}
