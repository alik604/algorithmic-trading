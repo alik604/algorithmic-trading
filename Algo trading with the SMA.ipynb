{
 "cells": [
  {
   "cell_type": "markdown",
   "metadata": {},
   "source": [
    "# Algo trading based only on the Simple Moving Average\n",
    "> Whether you should buy above or below the SMA\n",
    "\n",
    "\n",
    "\n",
    "### Written Summer 2019. Refactored in summer 2021, damn my code was bad. \n",
    "\n",
    "Note `df2 = dataset.iloc[ : :20, :] # every 20th, all columns`, this is on a (apx.) monthly basis, as there are (apx.) 20 trading days a month.. use `consider_every_Nth_day`\n",
    "\n",
    "I am assuming fractional shares, this doesnt matter much which you can invest every day (pay check) and the stock price is low"
   ]
  },
  {
   "cell_type": "code",
   "execution_count": 1,
   "metadata": {},
   "outputs": [],
   "source": [
    "consider_every_Nth_day = 1 # 20 \n",
    "invPerTimePeriod = 1000 / 20 # ration your 1000 per month every day\n",
    "STOCK = 'SPY'"
   ]
  },
  {
   "cell_type": "code",
   "execution_count": 2,
   "metadata": {
    "colab": {
     "base_uri": "https://localhost:8080/",
     "height": 459
    },
    "colab_type": "code",
    "id": "ZFRj4XIEkjN_",
    "outputId": "153216d4-ff57-4d42-c8fd-4c73dc318e31"
   },
   "outputs": [],
   "source": [
    "# Importing the libraries\n",
    "import numpy as np\n",
    "import pandas as pd\n",
    "import matplotlib.pyplot as plt\n",
    "plt.style.use('fivethirtyeight')\n",
    "\n",
    "import yfinance as yf\n",
    "import warnings\n",
    "warnings.filterwarnings(\"ignore\")"
   ]
  },
  {
   "cell_type": "code",
   "execution_count": 26,
   "metadata": {
    "colab": {
     "base_uri": "https://localhost:8080/",
     "height": 252
    },
    "colab_type": "code",
    "id": "dulAplofkoht",
    "outputId": "a5ff8fc1-32cc-4f55-e19b-a55aff43b426"
   },
   "outputs": [
    {
     "name": "stdout",
     "output_type": "stream",
     "text": [
      "[*********************100%***********************]  1 of 1 completed\n"
     ]
    },
    {
     "data": {
      "text/html": [
       "<div>\n",
       "<style scoped>\n",
       "    .dataframe tbody tr th:only-of-type {\n",
       "        vertical-align: middle;\n",
       "    }\n",
       "\n",
       "    .dataframe tbody tr th {\n",
       "        vertical-align: top;\n",
       "    }\n",
       "\n",
       "    .dataframe thead th {\n",
       "        text-align: right;\n",
       "    }\n",
       "</style>\n",
       "<table border=\"1\" class=\"dataframe\">\n",
       "  <thead>\n",
       "    <tr style=\"text-align: right;\">\n",
       "      <th></th>\n",
       "      <th>Close</th>\n",
       "    </tr>\n",
       "    <tr>\n",
       "      <th>Date</th>\n",
       "      <th></th>\n",
       "    </tr>\n",
       "  </thead>\n",
       "  <tbody>\n",
       "    <tr>\n",
       "      <th>2000-01-03</th>\n",
       "      <td>145.4375</td>\n",
       "    </tr>\n",
       "    <tr>\n",
       "      <th>2000-01-04</th>\n",
       "      <td>139.7500</td>\n",
       "    </tr>\n",
       "    <tr>\n",
       "      <th>2000-01-05</th>\n",
       "      <td>140.0000</td>\n",
       "    </tr>\n",
       "    <tr>\n",
       "      <th>2000-01-06</th>\n",
       "      <td>137.7500</td>\n",
       "    </tr>\n",
       "    <tr>\n",
       "      <th>2000-01-07</th>\n",
       "      <td>145.7500</td>\n",
       "    </tr>\n",
       "  </tbody>\n",
       "</table>\n",
       "</div>"
      ],
      "text/plain": [
       "               Close\n",
       "Date                \n",
       "2000-01-03  145.4375\n",
       "2000-01-04  139.7500\n",
       "2000-01-05  140.0000\n",
       "2000-01-06  137.7500\n",
       "2000-01-07  145.7500"
      ]
     },
     "execution_count": 26,
     "metadata": {},
     "output_type": "execute_result"
    }
   ],
   "source": [
    "start=\"2017-01-01\"\n",
    "start=\"2003-3-14\"\n",
    "start=\"2000-01-01\"\n",
    "df = yf.download(STOCK, start) \n",
    "df = df.drop(columns=['Open','High', 'Low','Adj Close','Volume'])\n",
    "df.head()\n"
   ]
  },
  {
   "cell_type": "code",
   "execution_count": 27,
   "metadata": {
    "colab": {
     "base_uri": "https://localhost:8080/",
     "height": 235
    },
    "colab_type": "code",
    "id": "X8j8XenptQwk",
    "outputId": "be61ccfd-bd54-41fb-fc65-8a2ea33c6ff1"
   },
   "outputs": [
    {
     "data": {
      "text/html": [
       "<div>\n",
       "<style scoped>\n",
       "    .dataframe tbody tr th:only-of-type {\n",
       "        vertical-align: middle;\n",
       "    }\n",
       "\n",
       "    .dataframe tbody tr th {\n",
       "        vertical-align: top;\n",
       "    }\n",
       "\n",
       "    .dataframe thead th {\n",
       "        text-align: right;\n",
       "    }\n",
       "</style>\n",
       "<table border=\"1\" class=\"dataframe\">\n",
       "  <thead>\n",
       "    <tr style=\"text-align: right;\">\n",
       "      <th></th>\n",
       "      <th>Close</th>\n",
       "    </tr>\n",
       "    <tr>\n",
       "      <th>Date</th>\n",
       "      <th></th>\n",
       "    </tr>\n",
       "  </thead>\n",
       "  <tbody>\n",
       "    <tr>\n",
       "      <th>2000-01-03</th>\n",
       "      <td>145.4375</td>\n",
       "    </tr>\n",
       "    <tr>\n",
       "      <th>2000-01-04</th>\n",
       "      <td>139.7500</td>\n",
       "    </tr>\n",
       "    <tr>\n",
       "      <th>2000-01-05</th>\n",
       "      <td>140.0000</td>\n",
       "    </tr>\n",
       "    <tr>\n",
       "      <th>2000-01-06</th>\n",
       "      <td>137.7500</td>\n",
       "    </tr>\n",
       "    <tr>\n",
       "      <th>2000-01-07</th>\n",
       "      <td>145.7500</td>\n",
       "    </tr>\n",
       "  </tbody>\n",
       "</table>\n",
       "</div>"
      ],
      "text/plain": [
       "               Close\n",
       "Date                \n",
       "2000-01-03  145.4375\n",
       "2000-01-04  139.7500\n",
       "2000-01-05  140.0000\n",
       "2000-01-06  137.7500\n",
       "2000-01-07  145.7500"
      ]
     },
     "execution_count": 27,
     "metadata": {},
     "output_type": "execute_result"
    }
   ],
   "source": [
    "df = df.iloc[ : :consider_every_Nth_day, :] # every 20th, all columns\n",
    "df.head()"
   ]
  },
  {
   "cell_type": "markdown",
   "metadata": {},
   "source": [
    "## Dollar cost averaging, like a boomer, `base_strategy`"
   ]
  },
  {
   "cell_type": "code",
   "execution_count": 28,
   "metadata": {},
   "outputs": [
    {
     "name": "stdout",
     "output_type": "stream",
     "text": [
      "Money left: 0.0\n",
      "Numb of shares: 1872.99\n",
      "Shares + Money 803627.13\n"
     ]
    }
   ],
   "source": [
    "base_strategy = 0 # Total base strategy\n",
    "\n",
    "money = 0\n",
    "shares = 0 \n",
    "\n",
    "for i, row in df.iterrows():\n",
    "    # print(\"\\n\" + str(i) +\" | \"+ str(row.Close.round(2)))\n",
    "    money += invPerTimePeriod\n",
    "    numShares = money/row.Close\n",
    "    shares += numShares\n",
    "    money -= (numShares * row.Close)\n",
    "        \n",
    "    # print(\"numShares:\" , numShares)\n",
    "    # print(\"shares:\" , shares)\n",
    "    # print(\"invPerTimePeriod:\" , invPerTimePeriod)\n",
    "\n",
    "value_of_shares_at_end = df.tail(1).Close.values[0]*shares\n",
    "base_strategy = round(value_of_shares_at_end+money, 2)\n",
    "print(f\"Money left: {money}\")\n",
    "print(f\"Numb of shares: {shares:.2f}\")\n",
    "print(f\"Shares + Money {value_of_shares_at_end+money:.2f}\")\n"
   ]
  },
  {
   "cell_type": "markdown",
   "metadata": {
    "colab": {
     "base_uri": "https://localhost:8080/",
     "height": 68
    },
    "colab_type": "code",
    "id": "y7B3T5Tt2tQ9",
    "outputId": "a80bdb99-a903-48b2-a259-bd3be815bd94"
   },
   "source": [
    "## Buying below the Nth SMA"
   ]
  },
  {
   "cell_type": "code",
   "execution_count": 29,
   "metadata": {},
   "outputs": [],
   "source": [
    "def simulate_buying_below_ma(window=3, below=True):\n",
    "    df['MA'] = df.Close.rolling(window=window).mean().fillna(df.Close[0])\n",
    "    \n",
    "    money = 0\n",
    "    shares = 0 \n",
    "\n",
    "    for i, row in df.iterrows():\n",
    "        money += invPerTimePeriod\n",
    "\n",
    "        diff = row.Close - row.MA\n",
    "        if (below and diff < 0) or (not below and diff >= 0):\n",
    "            numShares = money/row.Close\n",
    "            shares += numShares\n",
    "            money -= (numShares * row.Close)\n",
    "              \n",
    "        # print(\"numShares:\" , numShares)\n",
    "        # print(\"shares:\" , shares)\n",
    "        # print(\"invPerTimePeriod:\" , invPerTimePeriod)\n",
    "\n",
    "    value_of_shares_at_end = df.tail(1).Close.values[0]*shares\n",
    "\n",
    "    # reduced printing\n",
    "    if value_of_shares_at_end + money - base_strategy > 0:\n",
    "        print(f'Window size is {window}')\n",
    "        print(f\"Money left: {money}\")\n",
    "        if shares == 0: print(f\"Numb of shares: {shares:.2f}\")\n",
    "        print(f\"Shares + Money {value_of_shares_at_end+money:.2f}\")\n",
    "        print(f'Improvement over base_strategy: {value_of_shares_at_end + money - base_strategy:.2f}')\n",
    "        print(f'===================================\\n')"
   ]
  },
  {
   "cell_type": "code",
   "execution_count": 30,
   "metadata": {
    "colab": {
     "base_uri": "https://localhost:8080/",
     "height": 85
    },
    "colab_type": "code",
    "id": "ad0eWexT2wVU",
    "outputId": "7010148a-9994-424d-e076-ded3858dafad"
   },
   "outputs": [
    {
     "name": "stdout",
     "output_type": "stream",
     "text": [
      "Total with base_strategy: 803627.13\n",
      "Window size is 4\n",
      "Money left: 50.0\n",
      "Shares + Money 804378.11\n",
      "Improvement over base_strategy: 750.98\n",
      "===================================\n",
      "\n",
      "Window size is 8\n",
      "Money left: 50.0\n",
      "Shares + Money 804723.78\n",
      "Improvement over base_strategy: 1096.65\n",
      "===================================\n",
      "\n",
      "Window size is 12\n",
      "Money left: 50.0\n",
      "Shares + Money 804236.21\n",
      "Improvement over base_strategy: 609.08\n",
      "===================================\n",
      "\n",
      "Window size is 20\n",
      "Money left: 0.0\n",
      "Shares + Money 803653.67\n",
      "Improvement over base_strategy: 26.54\n",
      "===================================\n",
      "\n",
      "Window size is 45\n",
      "Money left: 0.0\n",
      "Shares + Money 803864.23\n",
      "Improvement over base_strategy: 237.10\n",
      "===================================\n",
      "\n",
      "Window size is 60\n",
      "Money left: 0.0\n",
      "Shares + Money 805732.75\n",
      "Improvement over base_strategy: 2105.62\n",
      "===================================\n",
      "\n"
     ]
    }
   ],
   "source": [
    "print(f'Total with base_strategy: {base_strategy:.2f}')\n",
    "simulate_buying_below_ma(0)\n",
    "simulate_buying_below_ma(1)\n",
    "simulate_buying_below_ma(4)\n",
    "simulate_buying_below_ma(8)\n",
    "simulate_buying_below_ma(12)\n",
    "simulate_buying_below_ma(16)\n",
    "\n",
    "\n",
    "simulate_buying_below_ma(20)\n",
    "simulate_buying_below_ma(30)\n",
    "simulate_buying_below_ma(45)\n",
    "simulate_buying_below_ma(60)\n",
    "simulate_buying_below_ma(90)\n",
    "simulate_buying_below_ma(180)\n",
    "simulate_buying_below_ma(360)\n",
    "simulate_buying_below_ma(720)"
   ]
  },
  {
   "cell_type": "markdown",
   "metadata": {
    "colab": {
     "base_uri": "https://localhost:8080/",
     "height": 85
    },
    "colab_type": "code",
    "id": "_uConx9n5nNe",
    "outputId": "981a221c-f3cd-4f23-8211-56780716c6fd"
   },
   "source": [
    "## What about buying above the Nth SMA"
   ]
  },
  {
   "cell_type": "code",
   "execution_count": 31,
   "metadata": {
    "colab": {
     "base_uri": "https://localhost:8080/",
     "height": 85
    },
    "colab_type": "code",
    "id": "CHi6DutK59QX",
    "outputId": "d645df7e-ff28-47e9-8cb8-2d901487129a"
   },
   "outputs": [
    {
     "name": "stdout",
     "output_type": "stream",
     "text": [
      "Window size is 1\n",
      "Money left: 0.0\n",
      "Shares + Money 803627.13\n",
      "Improvement over base_strategy: 0.00\n",
      "===================================\n",
      "\n",
      "Window size is 90\n",
      "Money left: 1050.0\n",
      "Shares + Money 807516.80\n",
      "Improvement over base_strategy: 3889.67\n",
      "===================================\n",
      "\n",
      "Window size is 180\n",
      "Money left: 1000.0\n",
      "Shares + Money 805160.36\n",
      "Improvement over base_strategy: 1533.23\n",
      "===================================\n",
      "\n",
      "Window size is 360\n",
      "Money left: 0.0\n",
      "Shares + Money 815170.92\n",
      "Improvement over base_strategy: 11543.79\n",
      "===================================\n",
      "\n"
     ]
    }
   ],
   "source": [
    "simulate_buying_below_ma(0, below=False)\n",
    "simulate_buying_below_ma(1, below=False)\n",
    "simulate_buying_below_ma(10, below=False)\n",
    "simulate_buying_below_ma(20, below=False)\n",
    "simulate_buying_below_ma(30, below=False)\n",
    "simulate_buying_below_ma(45, below=False)\n",
    "simulate_buying_below_ma(60, below=False)\n",
    "simulate_buying_below_ma(90, below=False)\n",
    "simulate_buying_below_ma(180, below=False)\n",
    "simulate_buying_below_ma(360, below=False)\n",
    "simulate_buying_below_ma(720, below=False)"
   ]
  },
  {
   "cell_type": "markdown",
   "metadata": {
    "colab": {},
    "colab_type": "code",
    "id": "MpHn9TqAQEJH"
   },
   "source": [
    "## Who would have imagined its better than buy and hold, if you buy exclusively above the 90-day Moving Average"
   ]
  },
  {
   "cell_type": "code",
   "execution_count": 32,
   "metadata": {
    "colab": {
     "base_uri": "https://localhost:8080/",
     "height": 85
    },
    "colab_type": "code",
    "id": "maedIZ7V59Xe",
    "outputId": "f37efa3b-54f0-43fc-9b8d-fc6f37cb232e"
   },
   "outputs": [
    {
     "data": {
      "text/plain": [
       "<AxesSubplot:title={'center':\"SPY and it's 90-day Moving Average\"}, xlabel='Date', ylabel='Price'>"
      ]
     },
     "execution_count": 32,
     "metadata": {},
     "output_type": "execute_result"
    },
    {
     "data": {
      "image/png": "[encoded data removed]",
      "text/plain": [
       "<Figure size 1296x648 with 1 Axes>"
      ]
     },
     "metadata": {},
     "output_type": "display_data"
    }
   ],
   "source": [
    "window = 90\n",
    "df['MA'] = df.Close.rolling(window=window).mean().fillna(df.Close[0])\n",
    "df.plot(figsize=(18,9), linewidth=4, title=f\"{STOCK} and it's {window}-day Moving Average\", ylabel=\"Price\")"
   ]
  },
  {
   "cell_type": "code",
   "execution_count": null,
   "metadata": {},
   "outputs": [],
   "source": []
  }
 ],
 "metadata": {
  "accelerator": "TPU",
  "colab": {
   "name": "algo trading - SMA.ipynb",
   "provenance": []
  },
  "kernelspec": {
   "display_name": "Python 3",
   "language": "python",
   "name": "python3"
  },
  "language_info": {
   "codemirror_mode": {
    "name": "ipython",
    "version": 3
   },
   "file_extension": ".py",
   "mimetype": "text/x-python",
   "name": "python",
   "nbconvert_exporter": "python",
   "pygments_lexer": "ipython3",
   "version": "3.9.9"
  }
 },
 "nbformat": 4,
 "nbformat_minor": 4
}
