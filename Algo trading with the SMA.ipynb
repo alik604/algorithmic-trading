{
 "cells": [
  {
   "cell_type": "markdown",
   "metadata": {},
   "source": [
    "# Written Summer 2019. Refactored in summer 2021, damn my code was bad. \n",
    "> Whether you should buy above or below the SMA\n",
    "\n",
    "This code has a mistake. `invPerMonth` is just that. my loop ignores left overmoney. ie 120-100 = 20, That $20 disappears\n",
    "\n",
    "Note `df2 = dataset.iloc[ : :20, :] # every 20th, all columns`, this is on a (apx.) monthly basis, as there are (apx.) 20 trading days a month... use `consider_every_Nth_day`"
   ]
  },
  {
   "cell_type": "code",
   "execution_count": 1,
   "metadata": {},
   "outputs": [],
   "source": [
    "consider_every_Nth_day = 1 # 20 \n",
    "share = 'SPY'"
   ]
  },
  {
   "cell_type": "code",
   "execution_count": 2,
   "metadata": {
    "colab": {
     "base_uri": "https://localhost:8080/",
     "height": 459
    },
    "colab_type": "code",
    "id": "ZFRj4XIEkjN_",
    "outputId": "153216d4-ff57-4d42-c8fd-4c73dc318e31"
   },
   "outputs": [],
   "source": [
    "# Importing the libraries\n",
    "import math\n",
    "import numpy as np\n",
    "import pandas as pd\n",
    "import matplotlib.pyplot as plt\n",
    "plt.style.use('fivethirtyeight')\n",
    "\n",
    "from pandas_datareader import data as pdr\n",
    "import yfinance as yf\n",
    "import warnings\n",
    "warnings.filterwarnings(\"ignore\")"
   ]
  },
  {
   "cell_type": "code",
   "execution_count": 3,
   "metadata": {
    "colab": {
     "base_uri": "https://localhost:8080/",
     "height": 252
    },
    "colab_type": "code",
    "id": "dulAplofkoht",
    "outputId": "a5ff8fc1-32cc-4f55-e19b-a55aff43b426"
   },
   "outputs": [
    {
     "name": "stdout",
     "output_type": "stream",
     "text": [
      "[*********************100%***********************]  1 of 1 completed\n"
     ]
    },
    {
     "data": {
      "text/html": [
       "<div>\n",
       "<style scoped>\n",
       "    .dataframe tbody tr th:only-of-type {\n",
       "        vertical-align: middle;\n",
       "    }\n",
       "\n",
       "    .dataframe tbody tr th {\n",
       "        vertical-align: top;\n",
       "    }\n",
       "\n",
       "    .dataframe thead th {\n",
       "        text-align: right;\n",
       "    }\n",
       "</style>\n",
       "<table border=\"1\" class=\"dataframe\">\n",
       "  <thead>\n",
       "    <tr style=\"text-align: right;\">\n",
       "      <th></th>\n",
       "      <th>Close</th>\n",
       "    </tr>\n",
       "    <tr>\n",
       "      <th>Date</th>\n",
       "      <th></th>\n",
       "    </tr>\n",
       "  </thead>\n",
       "  <tbody>\n",
       "    <tr>\n",
       "      <th>2003-03-14</th>\n",
       "      <td>84.129997</td>\n",
       "    </tr>\n",
       "    <tr>\n",
       "      <th>2003-03-17</th>\n",
       "      <td>86.779999</td>\n",
       "    </tr>\n",
       "    <tr>\n",
       "      <th>2003-03-18</th>\n",
       "      <td>87.290001</td>\n",
       "    </tr>\n",
       "    <tr>\n",
       "      <th>2003-03-19</th>\n",
       "      <td>87.959999</td>\n",
       "    </tr>\n",
       "    <tr>\n",
       "      <th>2003-03-20</th>\n",
       "      <td>88.150002</td>\n",
       "    </tr>\n",
       "  </tbody>\n",
       "</table>\n",
       "</div>"
      ],
      "text/plain": [
       "                Close\n",
       "Date                 \n",
       "2003-03-14  84.129997\n",
       "2003-03-17  86.779999\n",
       "2003-03-18  87.290001\n",
       "2003-03-19  87.959999\n",
       "2003-03-20  88.150002"
      ]
     },
     "execution_count": 3,
     "metadata": {},
     "output_type": "execute_result"
    }
   ],
   "source": [
    "dataset = yf.download(share,\"2003-3-14\") #, start=\"2017-01-01\"\n",
    "dataset = dataset.drop(columns=['Open','High', 'Low','Adj Close','Volume'])\n",
    "dataset.head()"
   ]
  },
  {
   "cell_type": "code",
   "execution_count": 4,
   "metadata": {
    "colab": {
     "base_uri": "https://localhost:8080/",
     "height": 235
    },
    "colab_type": "code",
    "id": "X8j8XenptQwk",
    "outputId": "be61ccfd-bd54-41fb-fc65-8a2ea33c6ff1"
   },
   "outputs": [
    {
     "data": {
      "text/html": [
       "<div>\n",
       "<style scoped>\n",
       "    .dataframe tbody tr th:only-of-type {\n",
       "        vertical-align: middle;\n",
       "    }\n",
       "\n",
       "    .dataframe tbody tr th {\n",
       "        vertical-align: top;\n",
       "    }\n",
       "\n",
       "    .dataframe thead th {\n",
       "        text-align: right;\n",
       "    }\n",
       "</style>\n",
       "<table border=\"1\" class=\"dataframe\">\n",
       "  <thead>\n",
       "    <tr style=\"text-align: right;\">\n",
       "      <th></th>\n",
       "      <th>Close</th>\n",
       "    </tr>\n",
       "    <tr>\n",
       "      <th>Date</th>\n",
       "      <th></th>\n",
       "    </tr>\n",
       "  </thead>\n",
       "  <tbody>\n",
       "    <tr>\n",
       "      <th>2003-03-14</th>\n",
       "      <td>84.129997</td>\n",
       "    </tr>\n",
       "    <tr>\n",
       "      <th>2003-03-17</th>\n",
       "      <td>86.779999</td>\n",
       "    </tr>\n",
       "    <tr>\n",
       "      <th>2003-03-18</th>\n",
       "      <td>87.290001</td>\n",
       "    </tr>\n",
       "    <tr>\n",
       "      <th>2003-03-19</th>\n",
       "      <td>87.959999</td>\n",
       "    </tr>\n",
       "    <tr>\n",
       "      <th>2003-03-20</th>\n",
       "      <td>88.150002</td>\n",
       "    </tr>\n",
       "  </tbody>\n",
       "</table>\n",
       "</div>"
      ],
      "text/plain": [
       "                Close\n",
       "Date                 \n",
       "2003-03-14  84.129997\n",
       "2003-03-17  86.779999\n",
       "2003-03-18  87.290001\n",
       "2003-03-19  87.959999\n",
       "2003-03-20  88.150002"
      ]
     },
     "execution_count": 4,
     "metadata": {},
     "output_type": "execute_result"
    }
   ],
   "source": [
    "df2 = dataset.iloc[ : :consider_every_Nth_day, :] # every 20th, all columns\n",
    "df2.head()"
   ]
  },
  {
   "cell_type": "code",
   "execution_count": 5,
   "metadata": {
    "colab": {
     "base_uri": "https://localhost:8080/",
     "height": 68
    },
    "colab_type": "code",
    "id": "y7B3T5Tt2tQ9",
    "outputId": "a80bdb99-a903-48b2-a259-bd3be815bd94"
   },
   "outputs": [
    {
     "name": "stdout",
     "output_type": "stream",
     "text": [
      "invPerMonth:  1143.1399999999935\n",
      "Numb of shares:30010\n",
      "Numb of shares * last closing = 12917204.08\n"
     ]
    }
   ],
   "source": [
    "invPerMonth = 1000\n",
    "total =0\n",
    "shares=0 \n",
    "\n",
    "for i, row in df2.iterrows():\n",
    "   # print(\"\\n\" + str(i) +\" | \"+ str(row.Close.round(2)))\n",
    "    numShares = math.floor((invPerMonth)/row.Close.round(2))\n",
    "    shares+=numShares\n",
    "    invPerMonth -= (row.Close.round(2) * numShares)\n",
    "    \n",
    "    invPerMonth += 1000\n",
    "   # print(\"numShares:\" , numShares)\n",
    "   # print(\"shares:\" , shares)\n",
    "   # print(\"invPerMonth:\" , invPerMonth)\n",
    "\n",
    "base_strategy = int(dataset.tail(1).Close*shares)\n",
    "value_of_shares_at_end = dataset.tail(1).Close.values[0]*shares\n",
    "print(\"invPerMonth: \",invPerMonth)\n",
    "print(f\"Numb of shares:{shares}\")\n",
    "print(f\"Numb of shares * last closing = {value_of_shares_at_end:.2f}\")"
   ]
  },
  {
   "cell_type": "code",
   "execution_count": 6,
   "metadata": {},
   "outputs": [],
   "source": [
    "# Note the odd usage\n",
    "def simulate_buy_below_MA(window=1):\n",
    "    df2['MA'] = df2.rolling(window=window).mean()\n",
    "    \n",
    "    invPerMonth = 1000\n",
    "    total =0\n",
    "    shares=0 \n",
    "    for i, row in df2.iterrows():\n",
    "       # print(\"\\n\" + str(i) +\" | \"+ str(row.Close.round(2)))\n",
    "        if((row.Close.round(2) <= row.MA.round(2)) and not math.isnan(row.MA.round(2))):\n",
    "          numb_new_shares = math.floor((invPerMonth)/row.Close.round(2))\n",
    "          shares += numb_new_shares\n",
    "          invPerMonth -= (row.Close.round(2) * numb_new_shares)\n",
    "          #print(\"\\n close: \" + str(i) +\" | \"+ str(row.Close.round(2)))\n",
    "          #print(\" MA:    \"+str(i) +\" | \"+ str(row.MA.round(2)))\n",
    "        invPerMonth += 1000\n",
    "       # print(\"numb_new_shares:\" , numb_new_shares)\n",
    "       # print(\"shares:\" , shares)\n",
    "       # print(\"invPerMonth:\" , invPerMonth)\n",
    "    value_of_shares_at_end = dataset.tail(1).Close.values[0]*shares\n",
    "    print(f'Window size is {window}')\n",
    "    print(f\"InvPerMonth: {invPerMonth:.2f}\")\n",
    "    print(f\"Numb of shares:{shares}\")\n",
    "    print(f\"Numb of shares * last closing = {value_of_shares_at_end:.2f}\")\n",
    "    print(f\"Total: {value_of_shares_at_end + invPerMonth:.2f}\")\n",
    "    print(f'Total with base_strategy: {base_strategy:.2f}')\n",
    "    print(f'Improvement over base_strategy: {value_of_shares_at_end + invPerMonth - base_strategy:.2f}')\n",
    "    print(f'===================================\\n')"
   ]
  },
  {
   "cell_type": "code",
   "execution_count": 7,
   "metadata": {
    "colab": {
     "base_uri": "https://localhost:8080/",
     "height": 85
    },
    "colab_type": "code",
    "id": "ad0eWexT2wVU",
    "outputId": "7010148a-9994-424d-e076-ded3858dafad"
   },
   "outputs": [
    {
     "name": "stdout",
     "output_type": "stream",
     "text": [
      "Window size is 0\n",
      "InvPerMonth: 4609000.00\n",
      "Numb of shares:0\n",
      "Numb of shares * last closing = 0.00\n",
      "Total: 4609000.00\n",
      "Total with base_strategy: 12917204.00\n",
      "Improvement over base_strategy: -8308204.00\n",
      "===================================\n",
      "\n",
      "Window size is 1\n",
      "InvPerMonth: 1143.14\n",
      "Numb of shares:30010\n",
      "Numb of shares * last closing = 12917204.08\n",
      "Total: 12918347.22\n",
      "Total with base_strategy: 12917204.00\n",
      "Improvement over base_strategy: 1143.22\n",
      "===================================\n",
      "\n",
      "Window size is 10\n",
      "InvPerMonth: 9387.83\n",
      "Numb of shares:30002\n",
      "Numb of shares * last closing = 12913760.64\n",
      "Total: 12923148.47\n",
      "Total with base_strategy: 12917204.00\n",
      "Improvement over base_strategy: 5944.47\n",
      "===================================\n",
      "\n",
      "Window size is 20\n",
      "InvPerMonth: 9145.88\n",
      "Numb of shares:29960\n",
      "Numb of shares * last closing = 12895682.58\n",
      "Total: 12904828.46\n",
      "Total with base_strategy: 12917204.00\n",
      "Improvement over base_strategy: -12375.54\n",
      "===================================\n",
      "\n",
      "Window size is 30\n",
      "InvPerMonth: 10121.64\n",
      "Numb of shares:29901\n",
      "Numb of shares * last closing = 12870287.21\n",
      "Total: 12880408.85\n",
      "Total with base_strategy: 12917204.00\n",
      "Improvement over base_strategy: -36795.15\n",
      "===================================\n",
      "\n",
      "Window size is 45\n",
      "InvPerMonth: 10155.72\n",
      "Numb of shares:29917\n",
      "Numb of shares * last closing = 12877174.09\n",
      "Total: 12887329.81\n",
      "Total with base_strategy: 12917204.00\n",
      "Improvement over base_strategy: -29874.19\n",
      "===================================\n",
      "\n",
      "Window size is 90\n",
      "InvPerMonth: 167265.55\n",
      "Numb of shares:29242\n",
      "Numb of shares * last closing = 12586633.85\n",
      "Total: 12753899.40\n",
      "Total with base_strategy: 12917204.00\n",
      "Improvement over base_strategy: -163304.60\n",
      "===================================\n",
      "\n",
      "Window size is 180\n",
      "InvPerMonth: 256210.81\n",
      "Numb of shares:28977\n",
      "Numb of shares * last closing = 12472569.90\n",
      "Total: 12728780.71\n",
      "Total with base_strategy: 12917204.00\n",
      "Improvement over base_strategy: -188423.29\n",
      "===================================\n",
      "\n",
      "Window size is 360\n",
      "InvPerMonth: 285056.64\n",
      "Numb of shares:28388\n",
      "Numb of shares * last closing = 12219046.63\n",
      "Total: 12504103.27\n",
      "Total with base_strategy: 12917204.00\n",
      "Improvement over base_strategy: -413100.73\n",
      "===================================\n",
      "\n",
      "Window size is 720\n",
      "InvPerMonth: 303028.24\n",
      "Numb of shares:27939\n",
      "Numb of shares * last closing = 12025783.57\n",
      "Total: 12328811.81\n",
      "Total with base_strategy: 12917204.00\n",
      "Improvement over base_strategy: -588392.19\n",
      "===================================\n",
      "\n"
     ]
    }
   ],
   "source": [
    "simulate_buy_below_MA(0)\n",
    "simulate_buy_below_MA(1)\n",
    "simulate_buy_below_MA(10)\n",
    "simulate_buy_below_MA(20)\n",
    "simulate_buy_below_MA(30)\n",
    "simulate_buy_below_MA(45)\n",
    "simulate_buy_below_MA(90)\n",
    "simulate_buy_below_MA(180)\n",
    "simulate_buy_below_MA(360)\n",
    "simulate_buy_below_MA(720)"
   ]
  },
  {
   "cell_type": "code",
   "execution_count": 8,
   "metadata": {
    "colab": {
     "base_uri": "https://localhost:8080/",
     "height": 85
    },
    "colab_type": "code",
    "id": "_uConx9n5nNe",
    "outputId": "981a221c-f3cd-4f23-8211-56780716c6fd"
   },
   "outputs": [],
   "source": [
    "def simulate_buy_above_MA(window=1):\n",
    "    df2['MA'] = df2.rolling(window=window).mean()\n",
    "    \n",
    "    invPerMonth = 1000\n",
    "    total =0\n",
    "    shares=0 \n",
    "    for i, row in df2.iterrows():\n",
    "       # print(\"\\n\" + str(i) +\" | \"+ str(row.Close.round(2)))\n",
    "        if((row.Close.round(2) >= row.MA.round(2)) and not math.isnan(row.MA.round(2))):\n",
    "          numb_new_shares = math.floor((invPerMonth)/row.Close.round(2))\n",
    "          shares += numb_new_shares\n",
    "          invPerMonth -= (row.Close.round(2) * numb_new_shares)\n",
    "          #print(\"\\n close: \" + str(i) +\" | \"+ str(row.Close.round(2)))\n",
    "          #print(\" MA:    \"+str(i) +\" | \"+ str(row.MA.round(2)))\n",
    "        invPerMonth += 1000\n",
    "       # print(\"numb_new_shares:\" , numb_new_shares)\n",
    "       # print(\"shares:\" , shares)\n",
    "       # print(\"invPerMonth:\" , invPerMonth)\n",
    "    value_of_shares_at_end = dataset.tail(1).Close.values[0]*shares\n",
    "\n",
    "    print(f'Window size is {window}')\n",
    "    print(f\"InvPerMonth: {invPerMonth:.2f}\")\n",
    "    print(f\"Numb of shares:{shares}\")\n",
    "    print(f\"Numb of shares * last closing = {value_of_shares_at_end:.2f}\") #dataset.tail, not df2.tail\n",
    "    print(f\"Total: {value_of_shares_at_end + invPerMonth:.2f}\")\n",
    "    print(f'Total with base_strategy: {base_strategy:.2f}')\n",
    "    print(f'Improvement over base_strategy: {value_of_shares_at_end + invPerMonth - base_strategy:.2f}')\n",
    "    print(f'===================================\\n')"
   ]
  },
  {
   "cell_type": "code",
   "execution_count": 9,
   "metadata": {
    "colab": {
     "base_uri": "https://localhost:8080/",
     "height": 85
    },
    "colab_type": "code",
    "id": "CHi6DutK59QX",
    "outputId": "d645df7e-ff28-47e9-8cb8-2d901487129a"
   },
   "outputs": [
    {
     "name": "stdout",
     "output_type": "stream",
     "text": [
      "Window size is 0\n",
      "InvPerMonth: 4609000.00\n",
      "Numb of shares:0\n",
      "Numb of shares * last closing = 0.00\n",
      "Total: 4609000.00\n",
      "Total with base_strategy: 12917204.00\n",
      "Improvement over base_strategy: -8308204.00\n",
      "===================================\n",
      "\n",
      "Window size is 1\n",
      "InvPerMonth: 1143.14\n",
      "Numb of shares:30010\n",
      "Numb of shares * last closing = 12917204.08\n",
      "Total: 12918347.22\n",
      "Total with base_strategy: 12917204.00\n",
      "Improvement over base_strategy: 1143.22\n",
      "===================================\n",
      "\n",
      "Window size is 10\n",
      "InvPerMonth: 1297.20\n",
      "Numb of shares:29952\n",
      "Numb of shares * last closing = 12892239.14\n",
      "Total: 12893536.34\n",
      "Total with base_strategy: 12917204.00\n",
      "Improvement over base_strategy: -23667.66\n",
      "===================================\n",
      "\n",
      "Window size is 20\n",
      "InvPerMonth: 1127.58\n",
      "Numb of shares:29943\n",
      "Numb of shares * last closing = 12888365.27\n",
      "Total: 12889492.85\n",
      "Total with base_strategy: 12917204.00\n",
      "Improvement over base_strategy: -27711.15\n",
      "===================================\n",
      "\n",
      "Window size is 30\n",
      "InvPerMonth: 1148.55\n",
      "Numb of shares:29873\n",
      "Numb of shares * last closing = 12858235.17\n",
      "Total: 12859383.72\n",
      "Total with base_strategy: 12917204.00\n",
      "Improvement over base_strategy: -57820.28\n",
      "===================================\n",
      "\n",
      "Window size is 45\n",
      "InvPerMonth: 1338.10\n",
      "Numb of shares:29875\n",
      "Numb of shares * last closing = 12859096.03\n",
      "Total: 12860434.13\n",
      "Total with base_strategy: 12917204.00\n",
      "Improvement over base_strategy: -56769.87\n",
      "===================================\n",
      "\n",
      "Window size is 90\n",
      "InvPerMonth: 1262.95\n",
      "Numb of shares:30144\n",
      "Numb of shares * last closing = 12974881.70\n",
      "Total: 12976144.65\n",
      "Total with base_strategy: 12917204.00\n",
      "Improvement over base_strategy: 58940.65\n",
      "===================================\n",
      "\n",
      "Window size is 180\n",
      "InvPerMonth: 1240.08\n",
      "Numb of shares:29803\n",
      "Numb of shares * last closing = 12828105.07\n",
      "Total: 12829345.15\n",
      "Total with base_strategy: 12917204.00\n",
      "Improvement over base_strategy: -87858.85\n",
      "===================================\n",
      "\n",
      "Window size is 360\n",
      "InvPerMonth: 1266.32\n",
      "Numb of shares:29803\n",
      "Numb of shares * last closing = 12828105.07\n",
      "Total: 12829371.39\n",
      "Total with base_strategy: 12917204.00\n",
      "Improvement over base_strategy: -87832.61\n",
      "===================================\n",
      "\n",
      "Window size is 720\n",
      "InvPerMonth: 1267.44\n",
      "Numb of shares:28525\n",
      "Numb of shares * last closing = 12278015.54\n",
      "Total: 12279282.98\n",
      "Total with base_strategy: 12917204.00\n",
      "Improvement over base_strategy: -637921.02\n",
      "===================================\n",
      "\n"
     ]
    }
   ],
   "source": [
    "simulate_buy_above_MA(0)\n",
    "simulate_buy_above_MA(1)\n",
    "simulate_buy_above_MA(10)\n",
    "simulate_buy_above_MA(20)\n",
    "simulate_buy_above_MA(30)\n",
    "simulate_buy_above_MA(45)\n",
    "simulate_buy_above_MA(90)\n",
    "simulate_buy_above_MA(180)\n",
    "simulate_buy_above_MA(360)\n",
    "simulate_buy_above_MA(720)"
   ]
  },
  {
   "cell_type": "markdown",
   "metadata": {
    "colab": {},
    "colab_type": "code",
    "id": "MpHn9TqAQEJH"
   },
   "source": [
    "## Who would have imagined its better than buy and hold if you buy exclusively above the 90-day Moving Average"
   ]
  },
  {
   "cell_type": "code",
   "execution_count": 10,
   "metadata": {
    "colab": {
     "base_uri": "https://localhost:8080/",
     "height": 85
    },
    "colab_type": "code",
    "id": "maedIZ7V59Xe",
    "outputId": "f37efa3b-54f0-43fc-9b8d-fc6f37cb232e"
   },
   "outputs": [
    {
     "data": {
      "text/plain": [
       "<AxesSubplot:xlabel='Date'>"
      ]
     },
     "execution_count": 10,
     "metadata": {},
     "output_type": "execute_result"
    },
    {
     "data": {
      "image/png": "[encoded data removed]",
      "text/plain": [
       "<Figure size 1296x648 with 1 Axes>"
      ]
     },
     "metadata": {},
     "output_type": "display_data"
    }
   ],
   "source": [
    "df2['MA'] = df2.rolling(window=90).mean()\n",
    "df2.plot(figsize=(18,9))"
   ]
  },
  {
   "cell_type": "code",
   "execution_count": null,
   "metadata": {},
   "outputs": [],
   "source": []
  }
 ],
 "metadata": {
  "accelerator": "TPU",
  "colab": {
   "name": "algo trading - SMA.ipynb",
   "provenance": []
  },
  "kernelspec": {
   "display_name": "Python 3",
   "language": "python",
   "name": "python3"
  },
  "language_info": {
   "codemirror_mode": {
    "name": "ipython",
    "version": 3
   },
   "file_extension": ".py",
   "mimetype": "text/x-python",
   "name": "python",
   "nbconvert_exporter": "python",
   "pygments_lexer": "ipython3",
   "version": "3.7.9"
  }
 },
 "nbformat": 4,
 "nbformat_minor": 4
}
