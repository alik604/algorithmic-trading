{
 "cells": [
  {
   "cell_type": "markdown",
   "metadata": {},
   "source": [
    "# Get the theoretical price of `$XEG`via intraday data\n",
    "my friends version `DK_Real time ETF price from holdings.ipynb` seems to be more accurate"
   ]
  },
  {
   "cell_type": "code",
   "execution_count": 1,
   "metadata": {
    "colab": {
     "base_uri": "https://localhost:8080/",
     "height": 399
    },
    "colab_type": "code",
    "id": "ZFRj4XIEkjN_",
    "outputId": "3ad245e3-e559-4159-c871-a8474da52d98"
   },
   "outputs": [
    {
     "name": "stdout",
     "output_type": "stream",
     "text": [
      "Warning - Certain functionality \n",
      "             requires requests_html, which is not installed.\n",
      "             \n",
      "             Install using: \n",
      "             pip install requests_html\n",
      "             \n",
      "             After installation, you may have to restart your Python session.\n"
     ]
    }
   ],
   "source": [
    "# Importing the libraries\n",
    "import math\n",
    "import datetime\n",
    "\n",
    "import numpy as np\n",
    "import pandas as pd\n",
    "\n",
    "import matplotlib.pyplot as plt\n",
    "plt.style.use('fivethirtyeight')\n",
    "plt.rcParams['figure.figsize'] = (15, 9)   # Change the size of plots\n",
    "\n",
    "from IPython.core.interactiveshell import InteractiveShell\n",
    "InteractiveShell.ast_node_interactivity = \"all\"\n",
    "\n",
    "# !pip yfinance\n",
    "import yfinance as yf\n",
    "\n",
    "# https://github.com/atreadw1492/yahoo_fin\n",
    "# !pip install yahoo_fin\n",
    "from yahoo_fin.stock_info import * # get_data, tickers_sp500, tickers_nasdaq, tickers_other, get_quote_table \n",
    "\n",
    "# !pip install ta\n",
    "import ta "
   ]
  },
  {
   "cell_type": "code",
   "execution_count": 2,
   "metadata": {},
   "outputs": [],
   "source": [
    "# get_quote_table('aapl')\n",
    "# get_data('aapl')"
   ]
  },
  {
   "cell_type": "code",
   "execution_count": 3,
   "metadata": {},
   "outputs": [],
   "source": [
    "start = datetime.datetime(2016,1,1)\n",
    "# start = datetime.datetime(2020,3,21)\n",
    "end = datetime.date.today()\n",
    "\n",
    "Billion = 1000000000  \n",
    "Million = 1000000  \n",
    "\n",
    "def get_marketcap(symbol):\n",
    "    tmp = get_quote_table(symbol)['Market Cap']\n",
    "    if 'B' in tmp:\n",
    "        return  Billion * float(tmp[:-1])\n",
    "    elif 'M' in tmp:\n",
    "        return  Million * float(tmp[:-1])\n",
    "    else:\n",
    "        print(f'What????, {tmp}')"
   ]
  },
  {
   "cell_type": "code",
   "execution_count": 4,
   "metadata": {},
   "outputs": [],
   "source": [
    "# Correct as of 18 may https://www.blackrock.com/ca/investors/en/products/239839/ishares-sptsx-capped-energy-index-etf\n",
    "symbols = ['CNQ.to', 'SU.to', 'CVE.to', 'IMO.to', 'TOU.to', 'ARX.to', 'WCP.to', 'PSK.to', 'CPG.to', 'PXT.to', 'MEG.to', 'ERF.to', 'VET.to']\n",
    "weights = [25.51, 24.45, 11.96, 8.41, 7.67, 5.90, 2.80, 2.69, 2.56, 2.55, 2.08, 1.89, 1.50] # 0.03 in cash \n",
    "weights = np.array(weights)/100 \n",
    "symbol_weights = dict(zip(symbols, weights))"
   ]
  },
  {
   "cell_type": "code",
   "execution_count": 5,
   "metadata": {
    "colab": {
     "base_uri": "https://localhost:8080/",
     "height": 696
    },
    "colab_type": "code",
    "id": "dulAplofkoht",
    "outputId": "ef972aad-5f61-4db9-beee-260d5e7d4cbf"
   },
   "outputs": [
    {
     "name": "stdout",
     "output_type": "stream",
     "text": [
      "CNQ.to\t Weighted price is 45.64 * 0.26 = 11.64\n",
      "SU.to\t Weighted price is 30.61 * 0.24 = 7.48\n",
      "CVE.to\t Weighted price is 12.21 * 0.12 = 1.46\n",
      "IMO.to\t Weighted price is 41.17 * 0.08 = 3.46\n",
      "TOU.to\t Weighted price is 32.62 * 0.08 = 2.50\n",
      "ARX.to\t Weighted price is 9.89 * 0.06 = 0.58\n",
      "WCP.to\t Weighted price is 6.38 * 0.03 = 0.18\n",
      "PSK.to\t Weighted price is 13.84 * 0.03 = 0.37\n",
      "CPG.to\t Weighted price is 5.63 * 0.03 = 0.14\n",
      "PXT.to\t Weighted price is 22.52 * 0.03 = 0.57\n",
      "MEG.to\t Weighted price is 8.78 * 0.02 = 0.18\n",
      "ERF.to\t Weighted price is 8.59 * 0.02 = 0.16\n",
      "VET.to\t Weighted price is 10.85 * 0.01 = 0.16\n",
      "\n",
      "Computed price 1094474329.62 Expected price 9.15. computed_price_alt 28.91\n"
     ]
    }
   ],
   "source": [
    "# dataset = dict()\n",
    "# dataset['XEG.TO'] = yf.download('XEG.TO', start, end)[\"Adj Close\"]\n",
    "\n",
    "computed_price = 0.03/100 # cash held     \n",
    "computed_price_alt = 0.03/100\n",
    "for symbol in symbols:\n",
    "#     dataset[symbol] = yf.download(symbol, start, end)[\"Adj Close\"]\n",
    "   \n",
    "    marketcap = get_marketcap(symbol)\n",
    "    price = get_live_price(symbol)\n",
    "    weight = symbol_weights[symbol]\n",
    "    \n",
    "    price_of_this =  0 # or price *weight\n",
    "    computed_price += (weight * marketcap) / price\n",
    "    computed_price_alt += weight*price\n",
    "    print(f'{symbol}\\t Weighted price is {price:.2f} * {weight:.2f} = {weight * price:.2f}')\n",
    "    \n",
    "# stocks = pd.DataFrame(dataset)\n",
    "print(f'\\nComputed price {computed_price:.2f} Expected price {get_live_price(\"XEG.to\"):.2f}. computed_price_alt {computed_price_alt:.2f}')"
   ]
  },
  {
   "cell_type": "markdown",
   "metadata": {},
   "source": [
    "#### XEG.CA Split History:    Aug 6, 2008 - 4:1\n",
    "\n",
    "> I didnt know weights were of market cap"
   ]
  },
  {
   "cell_type": "code",
   "execution_count": 6,
   "metadata": {},
   "outputs": [
    {
     "name": "stdout",
     "output_type": "stream",
     "text": [
      "Computed price 1094474329.62 Expected price 9.15. computed_price_alt 7.23\n"
     ]
    }
   ],
   "source": [
    "# computed_price_adj = computed_price/4\n",
    "computed_price__alt_adj = computed_price_alt/4\n",
    "\n",
    "print(f'Computed price {computed_price:.2f} Expected price {get_live_price(\"XEG.to\"):.2f}. computed_price_alt {computed_price__alt_adj:.2f}')"
   ]
  },
  {
   "cell_type": "code",
   "execution_count": 7,
   "metadata": {},
   "outputs": [
    {
     "data": {
      "text/plain": [
       "7.176880849948075"
      ]
     },
     "execution_count": 7,
     "metadata": {},
     "output_type": "execute_result"
    },
    {
     "data": {
      "text/plain": [
       "7.22803495016098"
      ]
     },
     "execution_count": 7,
     "metadata": {},
     "output_type": "execute_result"
    }
   ],
   "source": [
    "XEG_shares_outstanding = 152500000\n",
    "computed_price/XEG_shares_outstanding\n",
    "\n",
    "computed_price__alt_adj"
   ]
  },
  {
   "cell_type": "markdown",
   "metadata": {},
   "source": [
    "## Another way...\n",
    "prices * norm(weights*marketcaps)"
   ]
  },
  {
   "cell_type": "code",
   "execution_count": 8,
   "metadata": {},
   "outputs": [
    {
     "data": {
      "text/plain": [
       "[13794787600.0,\n",
       " 11278296000.0,\n",
       " 2946106800.0000005,\n",
       " 2541670200.0000005,\n",
       " 743069600.0,\n",
       " 422086000.0,\n",
       " 112979999.99999999,\n",
       " 82825100.0,\n",
       " 83840000.0,\n",
       " 73491000.0,\n",
       " 55369600.0,\n",
       " 41674500.0,\n",
       " 25935000.0,\n",
       " 358250.7]"
      ]
     },
     "execution_count": 8,
     "metadata": {},
     "output_type": "execute_result"
    },
    {
     "data": {
      "text/plain": [
       "0.9999999999999999"
      ]
     },
     "execution_count": 8,
     "metadata": {},
     "output_type": "execute_result"
    },
    {
     "data": {
      "text/plain": [
       "array([4.28376431e-01, 3.50230561e-01, 9.14869264e-02, 7.89277546e-02,\n",
       "       2.30749115e-02, 1.31072474e-02, 3.50842439e-03, 2.57200921e-03,\n",
       "       2.60352541e-03, 2.28215274e-03, 1.71941985e-03, 1.29413907e-03,\n",
       "       8.05372513e-04, 1.11249380e-05])"
      ]
     },
     "execution_count": 8,
     "metadata": {},
     "output_type": "execute_result"
    }
   ],
   "source": [
    "myList = [symbol_weights[symbol] * get_marketcap(symbol) for symbol in symbols]\n",
    "# To correctly normalize\n",
    "myList.append(358250.70) # * 0.03/100 # cash, \n",
    "\n",
    "myList\n",
    "weights_times_marketcap_normalized = np.array(myList)/sum(myList)\n",
    "sum(weights_times_marketcap_normalized)\n",
    "weights_times_marketcap_normalized"
   ]
  },
  {
   "cell_type": "code",
   "execution_count": 9,
   "metadata": {},
   "outputs": [
    {
     "data": {
      "text/plain": [
       "8.920872530455075"
      ]
     },
     "execution_count": 9,
     "metadata": {},
     "output_type": "execute_result"
    }
   ],
   "source": [
    "summer = (0.03/100)\n",
    "for i in range(len(symbols)): \n",
    "    summer += weights_times_marketcap_normalized[i] * get_live_price(symbols[i])\n",
    "summer/4    "
   ]
  },
  {
   "cell_type": "code",
   "execution_count": null,
   "metadata": {},
   "outputs": [],
   "source": []
  }
 ],
 "metadata": {
  "colab": {
   "collapsed_sections": [],
   "include_colab_link": true,
   "name": "stock algo trading - CCI.ipynb",
   "provenance": [],
   "version": "0.3.2"
  },
  "kernelspec": {
   "display_name": "Python 3",
   "language": "python",
   "name": "python3"
  },
  "language_info": {
   "codemirror_mode": {
    "name": "ipython",
    "version": 3
   },
   "file_extension": ".py",
   "mimetype": "text/x-python",
   "name": "python",
   "nbconvert_exporter": "python",
   "pygments_lexer": "ipython3",
   "version": "3.9.9"
  }
 },
 "nbformat": 4,
 "nbformat_minor": 4
}
