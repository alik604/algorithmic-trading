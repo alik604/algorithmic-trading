{
 "cells": [
  {
   "cell_type": "markdown",
   "metadata": {
    "colab_type": "text",
    "id": "view-in-github"
   },
   "source": [
    "<a href=\"https://colab.research.google.com/github/alik604/Notebooks/blob/master/Time%20Series/stock_algo_trading_CCI.ipynb\" target=\"_parent\"><img src=\"https://colab.research.google.com/assets/colab-badge.svg\" alt=\"Open In Colab\"/></a>"
   ]
  },
  {
   "cell_type": "code",
   "execution_count": 26,
   "metadata": {
    "colab": {
     "base_uri": "https://localhost:8080/",
     "height": 399
    },
    "colab_type": "code",
    "id": "ZFRj4XIEkjN_",
    "outputId": "3ad245e3-e559-4159-c871-a8474da52d98"
   },
   "outputs": [],
   "source": [
    "# Importing the libraries\n",
    "import math\n",
    "import datetime\n",
    "\n",
    "import numpy as np\n",
    "import pandas as pd\n",
    "\n",
    "import matplotlib.pyplot as plt\n",
    "plt.style.use('fivethirtyeight')\n",
    "plt.rcParams['figure.figsize'] = (15, 9)   # Change the size of plots\n",
    "\n",
    "from IPython.core.interactiveshell import InteractiveShell\n",
    "InteractiveShell.ast_node_interactivity = \"all\"\n",
    "\n",
    "# !pip yfinance\n",
    "import yfinance as yf\n",
    "import pandas_datareader.data as web\n",
    "\n",
    "# https://github.com/atreadw1492/yahoo_fin\n",
    "# !pip install yahoo_fin\n",
    "from yahoo_fin.stock_info import * # get_data, tickers_sp500, tickers_nasdaq, tickers_other, get_quote_table \n",
    "\n",
    "# !pip install ta\n",
    "import ta "
   ]
  },
  {
   "cell_type": "code",
   "execution_count": 5,
   "metadata": {},
   "outputs": [],
   "source": [
    "# get_quote_table('aapl')\n",
    "# get_data('aapl')"
   ]
  },
  {
   "cell_type": "code",
   "execution_count": 6,
   "metadata": {},
   "outputs": [],
   "source": [
    "def get_marketcap(symbol):\n",
    "    tmp = get_quote_table(symbol)['Market Cap']\n",
    "    if 'B' in tmp:\n",
    "        return  Billion * float(tmp[:-1])\n",
    "    elif 'M' in tmp:\n",
    "        return  Million * float(tmp[:-1])\n",
    "    else:\n",
    "        print(f'What????, {tmp}')"
   ]
  },
  {
   "cell_type": "code",
   "execution_count": 7,
   "metadata": {},
   "outputs": [],
   "source": [
    "start = datetime.datetime(2016,1,1)\n",
    "# start = datetime.datetime(2020,3,21)\n",
    "end = datetime.date.today()\n",
    "\n",
    "Billion = 1000000000  \n",
    "Million = 1000000  "
   ]
  },
  {
   "cell_type": "code",
   "execution_count": 46,
   "metadata": {},
   "outputs": [],
   "source": [
    "# Correct as of 18 may https://www.blackrock.com/ca/investors/en/products/239839/ishares-sptsx-capped-energy-index-etf\n",
    "symbols = ['CNQ.to', 'SU.to', 'CVE.to', 'IMO.to', 'TOU.to', 'ARX.to', 'WCP.to', 'PSK.to', 'CPG.to', 'PXT.to', 'MEG.to', 'ERF.to', 'VET.to']\n",
    "weights = [25.51, 24.45, 11.96, 8.41, 7.67, 5.90, 2.80, 2.69, 2.56, 2.55, 2.08, 1.89, 1.50] # 0.03 in cash \n",
    "weights = np.array(weights)/100 \n",
    "shares = [7727120, 10785231, 15338743, 2700800, 3348020, 8089551, 6037818, 2437335, 6504409, 1591625, 3489344, 3142452, 1947090]\n",
    "cash = [358251, 2417]\n",
    "shares = np.array(shares).astype(int)\n",
    "symbol_weights = dict(zip(symbols, weights))\n",
    "symbol_shares = dict(zip(symbols, shares))\n",
    "\n"
   ]
  },
  {
   "cell_type": "code",
   "execution_count": 51,
   "metadata": {
    "colab": {
     "base_uri": "https://localhost:8080/",
     "height": 696
    },
    "colab_type": "code",
    "id": "dulAplofkoht",
    "outputId": "ef972aad-5f61-4db9-beee-260d5e7d4cbf"
   },
   "outputs": [
    {
     "name": "stdout",
     "output_type": "stream",
     "text": [
      "1.2061500549316406\n",
      "CNQ.to\t Weighted price is 41.86 * 7727120 = 323457247.91625977\n",
      "SU.to\t Weighted price is 28.79 * 10785231 = 310506810.3641739\n",
      "CVE.to\t Weighted price is 9.91 * 15338743 = 152006940.78949356\n",
      "IMO.to\t Weighted price is 39.33 * 2700800 = 106222468.9453125\n",
      "TOU.to\t Weighted price is 29.25 * 3348020 = 97929585.0\n",
      "ARX.to\t Weighted price is 9.31 * 8089551 = 75313723.20451069\n",
      "WCP.to\t Weighted price is 5.86 * 6037818 = 35381614.28613567\n",
      "PSK.to\t Weighted price is 13.77 * 2437335 = 33562104.06572342\n",
      "CPG.to\t Weighted price is 5.01 * 6504409 = 32587090.578741074\n",
      "PXT.to\t Weighted price is 20.34 * 1591625 = 32373652.7428627\n",
      "MEG.to\t Weighted price is 7.68 * 3489344 = 26798161.321014404\n",
      "ERF.to\t Weighted price is 7.66 * 3142452 = 24071181.840499878\n",
      "VET.to\t Weighted price is 9.61 * 1947090 = 18711534.2315197\n",
      "\n",
      "Computed price 1269283281.5509 Expected price 8.3100\n"
     ]
    }
   ],
   "source": [
    "# dataset = dict()\n",
    "# dataset['XEG.TO'] = yf.download('XEG.TO', start, end)[\"Adj Close\"]\n",
    "  \n",
    "xchange_Rate = web.DataReader('USDCAD=X','yahoo')['Adj Close']\n",
    "print(xchange_Rate.iloc[-1])\n",
    "\n",
    "computed_price = (cash[0] + cash[1]*xchange_Rate.iloc[-1])# cash held   \n",
    "\n",
    "for symbol in symbols:\n",
    "#     dataset[symbol] = yf.download(symbol, start, end)[\"Adj Close\"]\n",
    "   \n",
    "    price = get_live_price(symbol)\n",
    "    \n",
    "    computed_price += (symbol_shares[symbol] * price)\n",
    "    \n",
    "    print(f'{symbol}\\t Weighted price is {price:.2f} * {symbol_shares[symbol]} = {price * symbol_shares[symbol]}')\n",
    "    \n",
    "# stocks = pd.DataFrame(dataset)\n",
    "print(f'\\nComputed price {computed_price:.4f} Expected price {get_live_price(\"XEG.to\"):.4f}')"
   ]
  },
  {
   "cell_type": "markdown",
   "metadata": {},
   "source": [
    "#### XEG.CA Split History:    Aug 6, 2008 - 4:1"
   ]
  },
  {
   "cell_type": "code",
   "execution_count": 52,
   "metadata": {},
   "outputs": [
    {
     "name": "stdout",
     "output_type": "stream",
     "text": [
      "Computed price 317320820.3877325058 Expected price 8.31\n"
     ]
    }
   ],
   "source": [
    "computed_price_adj = computed_price/4\n",
    "print(f'Computed price {computed_price_adj:.10f} Expected price {get_live_price(\"XEG.to\"):.2f}')"
   ]
  },
  {
   "cell_type": "code",
   "execution_count": 53,
   "metadata": {},
   "outputs": [
    {
     "data": {
      "text/plain": [
       "8.323169059350361"
      ]
     },
     "execution_count": 53,
     "metadata": {},
     "output_type": "execute_result"
    }
   ],
   "source": [
    "XEG_shares_outstanding = 152500000\n",
    "computed_price/XEG_shares_outstanding"
   ]
  },
  {
   "cell_type": "code",
   "execution_count": 54,
   "metadata": {},
   "outputs": [],
   "source": [
    "# stocks.head(5)\n",
    "# stocks.tail(5)"
   ]
  },
  {
   "cell_type": "code",
   "execution_count": 13,
   "metadata": {},
   "outputs": [],
   "source": [
    "# stocks.shape[0]\n",
    "# stocks=stocks.dropna()\n",
    "# stocks.shape[0]\n",
    "# stocks.plot(grid=True, figsize=(18, 6))"
   ]
  },
  {
   "cell_type": "code",
   "execution_count": 6,
   "metadata": {},
   "outputs": [],
   "source": [
    "# def normIt(myDf):\n",
    "#    return (myDf - myDf.mean()) / (myDf.max() - myDf.min())\n",
    "\n",
    "# stocks_norm = normIt(stocks)\n",
    "# stocks_norm.shape[0]\n",
    "# stocks_norm= stocks_norm.dropna()\n",
    "# stocks_norm.shape[0]\n",
    "# stocks_norm.plot(grid=True, figsize=(18, 6))"
   ]
  },
  {
   "cell_type": "code",
   "execution_count": 18,
   "metadata": {},
   "outputs": [
    {
     "name": "stdout",
     "output_type": "stream",
     "text": [
      "7.168155103184917\n"
     ]
    }
   ],
   "source": []
  },
  {
   "cell_type": "code",
   "execution_count": null,
   "metadata": {},
   "outputs": [],
   "source": []
  },
  {
   "cell_type": "code",
   "execution_count": null,
   "metadata": {},
   "outputs": [],
   "source": []
  },
  {
   "cell_type": "code",
   "execution_count": null,
   "metadata": {},
   "outputs": [],
   "source": []
  },
  {
   "cell_type": "code",
   "execution_count": null,
   "metadata": {},
   "outputs": [],
   "source": []
  },
  {
   "cell_type": "code",
   "execution_count": null,
   "metadata": {},
   "outputs": [],
   "source": []
  }
 ],
 "metadata": {
  "colab": {
   "collapsed_sections": [],
   "include_colab_link": true,
   "name": "stock algo trading - CCI.ipynb",
   "provenance": [],
   "version": "0.3.2"
  },
  "kernelspec": {
   "display_name": "Python 3",
   "language": "python",
   "name": "python3"
  },
  "language_info": {
   "codemirror_mode": {
    "name": "ipython",
    "version": 3
   },
   "file_extension": ".py",
   "mimetype": "text/x-python",
   "name": "python",
   "nbconvert_exporter": "python",
   "pygments_lexer": "ipython3",
   "version": "3.7.9"
  }
 },
 "nbformat": 4,
 "nbformat_minor": 4
}
