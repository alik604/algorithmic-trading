{
 "cells": [
  {
   "cell_type": "markdown",
   "metadata": {},
   "source": [
    "# Maunally Computing....\n",
    "> Maunally computing, the Boomer way - if boomers coder in 🅱ython\n",
    "\n",
    "Adapted from [harsh14796's project](https://github.com/harsh14796/Stock-Market-Analysis-With-Python) amoung other sources\n"
   ]
  },
  {
   "cell_type": "code",
   "execution_count": 14,
   "metadata": {},
   "outputs": [],
   "source": [
    "from utils import get_data, normalize_data, zero_shift, daily_returns, daily_change\n",
    "\n",
    "import numpy as np\n",
    "import pandas as pd\n",
    "\n",
    "# !pip install yfinance networkx\n",
    "import yfinance as yf\n",
    "\n",
    "# multiple outputs per cells. does not mix well with plt as they return stull that will be printed\n",
    "from IPython.core.interactiveshell import InteractiveShell\n",
    "InteractiveShell.ast_node_interactivity = \"all\"\n",
    "\n",
    "import datetime\n",
    "\n",
    "import seaborn as sns\n",
    "import matplotlib.pyplot as plt\n",
    "\n",
    "# defaults for plt\n",
    "%matplotlib inline\n",
    "plt.style.use('fivethirtyeight')                # first, small enchancements, xlabels, ylabels, legand sizing...   \n",
    "plt.rcParams['lines.linewidth'] = 2             # Change linewidth of plots\n",
    "plt.rcParams['figure.figsize'] = (12, 8)        # Change the size of plots\n",
    "  \n",
    "start = datetime.datetime(2016,1,1)\n",
    "# start = datetime.datetime(2018, 2, 1)\n",
    "# end = datetime.datetime(2020, 9, 13)\n",
    "end = datetime.date.today()"
   ]
  },
  {
   "cell_type": "code",
   "execution_count": 2,
   "metadata": {},
   "outputs": [
    {
     "name": "stdout",
     "output_type": "stream",
     "text": [
      "[*********************100%***********************]  1 of 1 completed\n",
      "[*********************100%***********************]  1 of 1 completed\n",
      "[*********************100%***********************]  1 of 1 completed\n",
      "[*********************100%***********************]  1 of 1 completed\n",
      "[*********************100%***********************]  1 of 1 completed\n",
      "shape of the dataframe: (8270, 5)\n",
      "shape of the dataframe - after droping NA: (5576, 5)\n"
     ]
    },
    {
     "data": {
      "text/html": [
       "<div>\n",
       "<style scoped>\n",
       "    .dataframe tbody tr th:only-of-type {\n",
       "        vertical-align: middle;\n",
       "    }\n",
       "\n",
       "    .dataframe tbody tr th {\n",
       "        vertical-align: top;\n",
       "    }\n",
       "\n",
       "    .dataframe thead th {\n",
       "        text-align: right;\n",
       "    }\n",
       "</style>\n",
       "<table border=\"1\" class=\"dataframe\">\n",
       "  <thead>\n",
       "    <tr style=\"text-align: right;\">\n",
       "      <th></th>\n",
       "      <th>XIU.TO</th>\n",
       "      <th>AAPL</th>\n",
       "      <th>AMZN</th>\n",
       "      <th>SPY</th>\n",
       "      <th>QQQ</th>\n",
       "    </tr>\n",
       "    <tr>\n",
       "      <th>Date</th>\n",
       "      <th></th>\n",
       "      <th></th>\n",
       "      <th></th>\n",
       "      <th></th>\n",
       "      <th></th>\n",
       "    </tr>\n",
       "  </thead>\n",
       "  <tbody>\n",
       "    <tr>\n",
       "      <th>1999-10-04</th>\n",
       "      <td>6.185672</td>\n",
       "      <td>0.492876</td>\n",
       "      <td>77.0625</td>\n",
       "      <td>86.591599</td>\n",
       "      <td>53.258965</td>\n",
       "    </tr>\n",
       "    <tr>\n",
       "      <th>1999-10-05</th>\n",
       "      <td>6.141115</td>\n",
       "      <td>0.518641</td>\n",
       "      <td>78.4375</td>\n",
       "      <td>86.508827</td>\n",
       "      <td>53.637474</td>\n",
       "    </tr>\n",
       "    <tr>\n",
       "      <th>1999-10-06</th>\n",
       "      <td>6.178243</td>\n",
       "      <td>0.512915</td>\n",
       "      <td>82.4375</td>\n",
       "      <td>87.833344</td>\n",
       "      <td>54.712112</td>\n",
       "    </tr>\n",
       "  </tbody>\n",
       "</table>\n",
       "</div>"
      ],
      "text/plain": [
       "              XIU.TO      AAPL     AMZN        SPY        QQQ\n",
       "Date                                                         \n",
       "1999-10-04  6.185672  0.492876  77.0625  86.591599  53.258965\n",
       "1999-10-05  6.141115  0.518641  78.4375  86.508827  53.637474\n",
       "1999-10-06  6.178243  0.512915  82.4375  87.833344  54.712112"
      ]
     },
     "execution_count": 2,
     "metadata": {},
     "output_type": "execute_result"
    },
    {
     "data": {
      "text/html": [
       "<div>\n",
       "<style scoped>\n",
       "    .dataframe tbody tr th:only-of-type {\n",
       "        vertical-align: middle;\n",
       "    }\n",
       "\n",
       "    .dataframe tbody tr th {\n",
       "        vertical-align: top;\n",
       "    }\n",
       "\n",
       "    .dataframe thead th {\n",
       "        text-align: right;\n",
       "    }\n",
       "</style>\n",
       "<table border=\"1\" class=\"dataframe\">\n",
       "  <thead>\n",
       "    <tr style=\"text-align: right;\">\n",
       "      <th></th>\n",
       "      <th>XIU.TO</th>\n",
       "      <th>AAPL</th>\n",
       "      <th>AMZN</th>\n",
       "      <th>SPY</th>\n",
       "      <th>QQQ</th>\n",
       "    </tr>\n",
       "    <tr>\n",
       "      <th>Date</th>\n",
       "      <th></th>\n",
       "      <th></th>\n",
       "      <th></th>\n",
       "      <th></th>\n",
       "      <th></th>\n",
       "    </tr>\n",
       "  </thead>\n",
       "  <tbody>\n",
       "    <tr>\n",
       "      <th>2022-05-18</th>\n",
       "      <td>30.879999</td>\n",
       "      <td>140.820007</td>\n",
       "      <td>2142.250000</td>\n",
       "      <td>391.859985</td>\n",
       "      <td>291.140015</td>\n",
       "    </tr>\n",
       "    <tr>\n",
       "      <th>2022-05-19</th>\n",
       "      <td>30.950001</td>\n",
       "      <td>137.350006</td>\n",
       "      <td>2146.379883</td>\n",
       "      <td>389.459991</td>\n",
       "      <td>289.579987</td>\n",
       "    </tr>\n",
       "    <tr>\n",
       "      <th>2022-05-20</th>\n",
       "      <td>31.010000</td>\n",
       "      <td>137.589996</td>\n",
       "      <td>2151.820068</td>\n",
       "      <td>389.630005</td>\n",
       "      <td>288.679993</td>\n",
       "    </tr>\n",
       "  </tbody>\n",
       "</table>\n",
       "</div>"
      ],
      "text/plain": [
       "               XIU.TO        AAPL         AMZN         SPY         QQQ\n",
       "Date                                                                  \n",
       "2022-05-18  30.879999  140.820007  2142.250000  391.859985  291.140015\n",
       "2022-05-19  30.950001  137.350006  2146.379883  389.459991  289.579987\n",
       "2022-05-20  31.010000  137.589996  2151.820068  389.630005  288.679993"
      ]
     },
     "execution_count": 2,
     "metadata": {},
     "output_type": "execute_result"
    }
   ],
   "source": [
    "tickers = ['SPY', 'QQQ', 'XIU.TO', 'AAPL', 'AMZN']\n",
    "df = get_data(tickers, end=end, drop_na=True)\n",
    "\n",
    "df.head(3)\n",
    "df.tail(3)"
   ]
  },
  {
   "cell_type": "code",
   "execution_count": 3,
   "metadata": {},
   "outputs": [
    {
     "name": "stdout",
     "output_type": "stream",
     "text": [
      "Normalizing data... `(data - data.min()) / (data.max() - data.min())`\n",
      "Ensure each column starts at 0 `data-data.iloc[0]`\n"
     ]
    },
    {
     "data": {
      "text/plain": [
       "<AxesSubplot:xlabel='Date'>"
      ]
     },
     "execution_count": 3,
     "metadata": {},
     "output_type": "execute_result"
    },
    {
     "data": {
      "image/png": "[encoded data removed]",
      "text/plain": [
       "<Figure size 864x576 with 1 Axes>"
      ]
     },
     "metadata": {},
     "output_type": "display_data"
    }
   ],
   "source": [
    "df = normalize_data(df)\n",
    "df = zero_shift(df)\n",
    "df.plot() # linewidth=2"
   ]
  },
  {
   "cell_type": "code",
   "execution_count": 4,
   "metadata": {},
   "outputs": [
    {
     "name": "stdout",
     "output_type": "stream",
     "text": [
      "Standard Deviation\n"
     ]
    },
    {
     "data": {
      "text/html": [
       "<div>\n",
       "<style scoped>\n",
       "    .dataframe tbody tr th:only-of-type {\n",
       "        vertical-align: middle;\n",
       "    }\n",
       "\n",
       "    .dataframe tbody tr th {\n",
       "        vertical-align: top;\n",
       "    }\n",
       "\n",
       "    .dataframe thead th {\n",
       "        text-align: right;\n",
       "    }\n",
       "</style>\n",
       "<table border=\"1\" class=\"dataframe\">\n",
       "  <thead>\n",
       "    <tr style=\"text-align: right;\">\n",
       "      <th></th>\n",
       "      <th>XIU.TO</th>\n",
       "      <th>AAPL</th>\n",
       "      <th>AMZN</th>\n",
       "      <th>SPY</th>\n",
       "      <th>QQQ</th>\n",
       "    </tr>\n",
       "  </thead>\n",
       "  <tbody>\n",
       "    <tr>\n",
       "      <th>STD</th>\n",
       "      <td>0.226099</td>\n",
       "      <td>0.215988</td>\n",
       "      <td>0.257936</td>\n",
       "      <td>0.234102</td>\n",
       "      <td>0.226338</td>\n",
       "    </tr>\n",
       "  </tbody>\n",
       "</table>\n",
       "</div>"
      ],
      "text/plain": [
       "       XIU.TO      AAPL      AMZN       SPY       QQQ\n",
       "STD  0.226099  0.215988  0.257936  0.234102  0.226338"
      ]
     },
     "execution_count": 4,
     "metadata": {},
     "output_type": "execute_result"
    },
    {
     "name": "stdout",
     "output_type": "stream",
     "text": [
      "Covariance\n"
     ]
    },
    {
     "data": {
      "text/html": [
       "<div>\n",
       "<style scoped>\n",
       "    .dataframe tbody tr th:only-of-type {\n",
       "        vertical-align: middle;\n",
       "    }\n",
       "\n",
       "    .dataframe tbody tr th {\n",
       "        vertical-align: top;\n",
       "    }\n",
       "\n",
       "    .dataframe thead th {\n",
       "        text-align: right;\n",
       "    }\n",
       "</style>\n",
       "<table border=\"1\" class=\"dataframe\">\n",
       "  <thead>\n",
       "    <tr style=\"text-align: right;\">\n",
       "      <th></th>\n",
       "      <th>XIU.TO</th>\n",
       "      <th>AAPL</th>\n",
       "      <th>AMZN</th>\n",
       "      <th>SPY</th>\n",
       "      <th>QQQ</th>\n",
       "    </tr>\n",
       "  </thead>\n",
       "  <tbody>\n",
       "    <tr>\n",
       "      <th>XIU.TO</th>\n",
       "      <td>0.051121</td>\n",
       "      <td>0.043589</td>\n",
       "      <td>0.051764</td>\n",
       "      <td>0.050676</td>\n",
       "      <td>0.046752</td>\n",
       "    </tr>\n",
       "    <tr>\n",
       "      <th>AAPL</th>\n",
       "      <td>0.043589</td>\n",
       "      <td>0.046651</td>\n",
       "      <td>0.053606</td>\n",
       "      <td>0.048397</td>\n",
       "      <td>0.047777</td>\n",
       "    </tr>\n",
       "    <tr>\n",
       "      <th>AMZN</th>\n",
       "      <td>0.051764</td>\n",
       "      <td>0.053606</td>\n",
       "      <td>0.066531</td>\n",
       "      <td>0.058236</td>\n",
       "      <td>0.057146</td>\n",
       "    </tr>\n",
       "    <tr>\n",
       "      <th>SPY</th>\n",
       "      <td>0.050676</td>\n",
       "      <td>0.048397</td>\n",
       "      <td>0.058236</td>\n",
       "      <td>0.054804</td>\n",
       "      <td>0.052159</td>\n",
       "    </tr>\n",
       "    <tr>\n",
       "      <th>QQQ</th>\n",
       "      <td>0.046752</td>\n",
       "      <td>0.047777</td>\n",
       "      <td>0.057146</td>\n",
       "      <td>0.052159</td>\n",
       "      <td>0.051229</td>\n",
       "    </tr>\n",
       "  </tbody>\n",
       "</table>\n",
       "</div>"
      ],
      "text/plain": [
       "          XIU.TO      AAPL      AMZN       SPY       QQQ\n",
       "XIU.TO  0.051121  0.043589  0.051764  0.050676  0.046752\n",
       "AAPL    0.043589  0.046651  0.053606  0.048397  0.047777\n",
       "AMZN    0.051764  0.053606  0.066531  0.058236  0.057146\n",
       "SPY     0.050676  0.048397  0.058236  0.054804  0.052159\n",
       "QQQ     0.046752  0.047777  0.057146  0.052159  0.051229"
      ]
     },
     "execution_count": 4,
     "metadata": {},
     "output_type": "execute_result"
    },
    {
     "name": "stdout",
     "output_type": "stream",
     "text": [
      "Pearson's Correlation\n"
     ]
    },
    {
     "data": {
      "text/html": [
       "<div>\n",
       "<style scoped>\n",
       "    .dataframe tbody tr th:only-of-type {\n",
       "        vertical-align: middle;\n",
       "    }\n",
       "\n",
       "    .dataframe tbody tr th {\n",
       "        vertical-align: top;\n",
       "    }\n",
       "\n",
       "    .dataframe thead th {\n",
       "        text-align: right;\n",
       "    }\n",
       "</style>\n",
       "<table border=\"1\" class=\"dataframe\">\n",
       "  <thead>\n",
       "    <tr style=\"text-align: right;\">\n",
       "      <th></th>\n",
       "      <th>XIU.TO</th>\n",
       "      <th>AAPL</th>\n",
       "      <th>AMZN</th>\n",
       "      <th>SPY</th>\n",
       "      <th>QQQ</th>\n",
       "    </tr>\n",
       "  </thead>\n",
       "  <tbody>\n",
       "    <tr>\n",
       "      <th>XIU.TO</th>\n",
       "      <td>1.000000</td>\n",
       "      <td>0.892575</td>\n",
       "      <td>0.887592</td>\n",
       "      <td>0.957410</td>\n",
       "      <td>0.913583</td>\n",
       "    </tr>\n",
       "    <tr>\n",
       "      <th>AAPL</th>\n",
       "      <td>0.892575</td>\n",
       "      <td>1.000000</td>\n",
       "      <td>0.962220</td>\n",
       "      <td>0.957155</td>\n",
       "      <td>0.977311</td>\n",
       "    </tr>\n",
       "    <tr>\n",
       "      <th>AMZN</th>\n",
       "      <td>0.887592</td>\n",
       "      <td>0.962220</td>\n",
       "      <td>1.000000</td>\n",
       "      <td>0.964431</td>\n",
       "      <td>0.978852</td>\n",
       "    </tr>\n",
       "    <tr>\n",
       "      <th>SPY</th>\n",
       "      <td>0.957410</td>\n",
       "      <td>0.957155</td>\n",
       "      <td>0.964431</td>\n",
       "      <td>1.000000</td>\n",
       "      <td>0.984391</td>\n",
       "    </tr>\n",
       "    <tr>\n",
       "      <th>QQQ</th>\n",
       "      <td>0.913583</td>\n",
       "      <td>0.977311</td>\n",
       "      <td>0.978852</td>\n",
       "      <td>0.984391</td>\n",
       "      <td>1.000000</td>\n",
       "    </tr>\n",
       "  </tbody>\n",
       "</table>\n",
       "</div>"
      ],
      "text/plain": [
       "          XIU.TO      AAPL      AMZN       SPY       QQQ\n",
       "XIU.TO  1.000000  0.892575  0.887592  0.957410  0.913583\n",
       "AAPL    0.892575  1.000000  0.962220  0.957155  0.977311\n",
       "AMZN    0.887592  0.962220  1.000000  0.964431  0.978852\n",
       "SPY     0.957410  0.957155  0.964431  1.000000  0.984391\n",
       "QQQ     0.913583  0.977311  0.978852  0.984391  1.000000"
      ]
     },
     "execution_count": 4,
     "metadata": {},
     "output_type": "execute_result"
    },
    {
     "name": "stdout",
     "output_type": "stream",
     "text": [
      "Spearman's Correlation\n"
     ]
    },
    {
     "data": {
      "text/html": [
       "<div>\n",
       "<style scoped>\n",
       "    .dataframe tbody tr th:only-of-type {\n",
       "        vertical-align: middle;\n",
       "    }\n",
       "\n",
       "    .dataframe tbody tr th {\n",
       "        vertical-align: top;\n",
       "    }\n",
       "\n",
       "    .dataframe thead th {\n",
       "        text-align: right;\n",
       "    }\n",
       "</style>\n",
       "<table border=\"1\" class=\"dataframe\">\n",
       "  <thead>\n",
       "    <tr style=\"text-align: right;\">\n",
       "      <th></th>\n",
       "      <th>XIU.TO</th>\n",
       "      <th>AAPL</th>\n",
       "      <th>AMZN</th>\n",
       "      <th>SPY</th>\n",
       "      <th>QQQ</th>\n",
       "    </tr>\n",
       "  </thead>\n",
       "  <tbody>\n",
       "    <tr>\n",
       "      <th>XIU.TO</th>\n",
       "      <td>1.000000</td>\n",
       "      <td>0.975366</td>\n",
       "      <td>0.948457</td>\n",
       "      <td>0.961693</td>\n",
       "      <td>0.910335</td>\n",
       "    </tr>\n",
       "    <tr>\n",
       "      <th>AAPL</th>\n",
       "      <td>0.975366</td>\n",
       "      <td>1.000000</td>\n",
       "      <td>0.972080</td>\n",
       "      <td>0.937966</td>\n",
       "      <td>0.901455</td>\n",
       "    </tr>\n",
       "    <tr>\n",
       "      <th>AMZN</th>\n",
       "      <td>0.948457</td>\n",
       "      <td>0.972080</td>\n",
       "      <td>1.000000</td>\n",
       "      <td>0.916621</td>\n",
       "      <td>0.907924</td>\n",
       "    </tr>\n",
       "    <tr>\n",
       "      <th>SPY</th>\n",
       "      <td>0.961693</td>\n",
       "      <td>0.937966</td>\n",
       "      <td>0.916621</td>\n",
       "      <td>1.000000</td>\n",
       "      <td>0.960976</td>\n",
       "    </tr>\n",
       "    <tr>\n",
       "      <th>QQQ</th>\n",
       "      <td>0.910335</td>\n",
       "      <td>0.901455</td>\n",
       "      <td>0.907924</td>\n",
       "      <td>0.960976</td>\n",
       "      <td>1.000000</td>\n",
       "    </tr>\n",
       "  </tbody>\n",
       "</table>\n",
       "</div>"
      ],
      "text/plain": [
       "          XIU.TO      AAPL      AMZN       SPY       QQQ\n",
       "XIU.TO  1.000000  0.975366  0.948457  0.961693  0.910335\n",
       "AAPL    0.975366  1.000000  0.972080  0.937966  0.901455\n",
       "AMZN    0.948457  0.972080  1.000000  0.916621  0.907924\n",
       "SPY     0.961693  0.937966  0.916621  1.000000  0.960976\n",
       "QQQ     0.910335  0.901455  0.907924  0.960976  1.000000"
      ]
     },
     "execution_count": 4,
     "metadata": {},
     "output_type": "execute_result"
    }
   ],
   "source": [
    "print(f'Standard Deviation')\n",
    "pd.DataFrame(df.std(), columns=['STD']).T\n",
    "\n",
    "print(f'Covariance')\n",
    "df.cov()\n",
    "\n",
    "print(f\"Pearson's Correlation\")\n",
    "df.corr()\n",
    "\n",
    "print(f\"Spearman's Correlation\")\n",
    "from scipy.stats import spearmanr\n",
    "pd.DataFrame(spearmanr(df)[0], columns=df.columns, index=df.columns)"
   ]
  },
  {
   "cell_type": "code",
   "execution_count": 5,
   "metadata": {},
   "outputs": [
    {
     "data": {
      "text/html": [
       "<div>\n",
       "<style scoped>\n",
       "    .dataframe tbody tr th:only-of-type {\n",
       "        vertical-align: middle;\n",
       "    }\n",
       "\n",
       "    .dataframe tbody tr th {\n",
       "        vertical-align: top;\n",
       "    }\n",
       "\n",
       "    .dataframe thead th {\n",
       "        text-align: right;\n",
       "    }\n",
       "</style>\n",
       "<table border=\"1\" class=\"dataframe\">\n",
       "  <thead>\n",
       "    <tr style=\"text-align: right;\">\n",
       "      <th></th>\n",
       "      <th>XIU.TO</th>\n",
       "      <th>AAPL</th>\n",
       "      <th>AMZN</th>\n",
       "      <th>SPY</th>\n",
       "      <th>QQQ</th>\n",
       "    </tr>\n",
       "    <tr>\n",
       "      <th>Date</th>\n",
       "      <th></th>\n",
       "      <th></th>\n",
       "      <th></th>\n",
       "      <th></th>\n",
       "      <th></th>\n",
       "    </tr>\n",
       "  </thead>\n",
       "  <tbody>\n",
       "    <tr>\n",
       "      <th>1999-10-06</th>\n",
       "      <td>0.166743</td>\n",
       "      <td>0.777758</td>\n",
       "      <td>3.909091</td>\n",
       "      <td>-15.002120</td>\n",
       "      <td>3.839132</td>\n",
       "    </tr>\n",
       "    <tr>\n",
       "      <th>1999-10-07</th>\n",
       "      <td>-3.997946</td>\n",
       "      <td>0.690488</td>\n",
       "      <td>1.906977</td>\n",
       "      <td>0.599977</td>\n",
       "      <td>0.911625</td>\n",
       "    </tr>\n",
       "    <tr>\n",
       "      <th>1999-10-08</th>\n",
       "      <td>2.499968</td>\n",
       "      <td>0.551693</td>\n",
       "      <td>1.189024</td>\n",
       "      <td>2.777882</td>\n",
       "      <td>1.433675</td>\n",
       "    </tr>\n",
       "  </tbody>\n",
       "</table>\n",
       "</div>"
      ],
      "text/plain": [
       "              XIU.TO      AAPL      AMZN        SPY       QQQ\n",
       "Date                                                         \n",
       "1999-10-06  0.166743  0.777758  3.909091 -15.002120  3.839132\n",
       "1999-10-07 -3.997946  0.690488  1.906977   0.599977  0.911625\n",
       "1999-10-08  2.499968  0.551693  1.189024   2.777882  1.433675"
      ]
     },
     "execution_count": 5,
     "metadata": {},
     "output_type": "execute_result"
    }
   ],
   "source": [
    "df_daily_returns = daily_returns(df)\n",
    "df_daily_returns.head(3)"
   ]
  },
  {
   "cell_type": "markdown",
   "metadata": {},
   "source": [
    "## Simple Uniform allocation"
   ]
  },
  {
   "cell_type": "code",
   "execution_count": 6,
   "metadata": {},
   "outputs": [
    {
     "name": "stdout",
     "output_type": "stream",
     "text": [
      "Annual Return: 947766849136331624911128877898936801519480697698185127593611187046219882954752.00%\n"
     ]
    }
   ],
   "source": [
    "annual_returns = (((df_daily_returns.mean()+1)**250)-1)\n",
    "weights_uniform = np.array([0.20, 0.20, 0.20, 0.20, 0.20])\n",
    "pfolio_uniform = np.dot(annual_returns, weights_uniform)\n",
    "print(f\"Annual Return: {pfolio_uniform*100:.2f}%\")"
   ]
  },
  {
   "cell_type": "code",
   "execution_count": 7,
   "metadata": {},
   "outputs": [
    {
     "name": "stdout",
     "output_type": "stream",
     "text": [
      "Annual Return: 1401535778757777503501546074591574776347271483332714916624934610551112455946240.00%\n"
     ]
    }
   ],
   "source": [
    "weights_1 = np.array([0.4, 0.05, 0.20, 0.05, 0.3])\n",
    "pfolio_1 = np.dot(annual_returns, weights_1)\n",
    "print(f\"Annual Return: {pfolio_1*100:.2f}%\")"
   ]
  },
  {
   "cell_type": "markdown",
   "metadata": {},
   "source": [
    "## Portfolio Variance\n",
    "> probably wrong... \n",
    "\n",
    "* [source](https://github.com/harsh14796/Stock-Market-Analysis-With-Python/blob/master/Div_non-div_risk.ipynb)\n",
    "* [math background](https://www.northerntrust.com/documents/white-papers/asset-management/minimum-variance-portfolios.pdf?bc=23500800)\n",
    "\n"
   ]
  },
  {
   "cell_type": "code",
   "execution_count": 8,
   "metadata": {},
   "outputs": [
    {
     "name": "stdout",
     "output_type": "stream",
     "text": [
      "Portfolio Variance: 103431.80%\n"
     ]
    }
   ],
   "source": [
    "# might need to be `log(df_daily_returns)`\n",
    "pfolio_var = np.dot(weights_uniform.T, np.dot(df_daily_returns.cov() * 250, weights_uniform)) # weights.T @ (df_daily_returns.cov() * 250) @ weights\n",
    "print(f\"Portfolio Variance: {pfolio_var*100:.2f}%\")"
   ]
  },
  {
   "cell_type": "code",
   "execution_count": 9,
   "metadata": {},
   "outputs": [
    {
     "name": "stdout",
     "output_type": "stream",
     "text": [
      "Portfolio Standard Deviation: 203.40%\n",
      "Diversifiable risk (Variance): 620.61%\n",
      "Non diversifiable risk:        413.71%\n"
     ]
    }
   ],
   "source": [
    "# Diversifiable risk\n",
    "variance_vector = df_daily_returns.var().to_numpy() # np.diag(df_daily_returns.cov())\n",
    "non_diversifiable_risk = np.dot(weights_uniform**2, variance_vector.T) # np.sum([variance_vector[i] * weights[i] ** 2 for i in range(len(weights))])\n",
    "\n",
    "# Expected portfolio Volatility (std) = SQRT (WT * (Covariance Matrix) * W)\n",
    "portfolio_variance = weights_uniform@df_daily_returns.cov()@weights_uniform # same as non_diversifiable_risk\n",
    "portfolio_voltilt = np.sqrt(weights_uniform@df_daily_returns.cov()@weights_uniform)\n",
    "\n",
    "print(f\"Portfolio Standard Deviation: {portfolio_voltilt*100:.2f}%\")\n",
    "print(f\"Diversifiable risk (Variance): {pfolio_var-non_diversifiable_risk*100:.2f}%\")\n",
    "print(f\"Non diversifiable risk:        {non_diversifiable_risk*100:.2f}%\")"
   ]
  },
  {
   "cell_type": "markdown",
   "metadata": {},
   "source": [
    "## Beta"
   ]
  },
  {
   "cell_type": "code",
   "execution_count": 10,
   "metadata": {},
   "outputs": [
    {
     "name": "stdout",
     "output_type": "stream",
     "text": [
      "Variance with SPY\n"
     ]
    },
    {
     "data": {
      "text/html": [
       "<div>\n",
       "<style scoped>\n",
       "    .dataframe tbody tr th:only-of-type {\n",
       "        vertical-align: middle;\n",
       "    }\n",
       "\n",
       "    .dataframe tbody tr th {\n",
       "        vertical-align: top;\n",
       "    }\n",
       "\n",
       "    .dataframe thead th {\n",
       "        text-align: right;\n",
       "    }\n",
       "</style>\n",
       "<table border=\"1\" class=\"dataframe\">\n",
       "  <thead>\n",
       "    <tr style=\"text-align: right;\">\n",
       "      <th></th>\n",
       "      <th>SPY</th>\n",
       "    </tr>\n",
       "  </thead>\n",
       "  <tbody>\n",
       "    <tr>\n",
       "      <th>XIU.TO</th>\n",
       "      <td>1.795009</td>\n",
       "    </tr>\n",
       "    <tr>\n",
       "      <th>AAPL</th>\n",
       "      <td>0.400775</td>\n",
       "    </tr>\n",
       "    <tr>\n",
       "      <th>AMZN</th>\n",
       "      <td>-3.243695</td>\n",
       "    </tr>\n",
       "    <tr>\n",
       "      <th>SPY</th>\n",
       "      <td>374.063311</td>\n",
       "    </tr>\n",
       "    <tr>\n",
       "      <th>QQQ</th>\n",
       "      <td>0.592368</td>\n",
       "    </tr>\n",
       "  </tbody>\n",
       "</table>\n",
       "</div>"
      ],
      "text/plain": [
       "               SPY\n",
       "XIU.TO    1.795009\n",
       "AAPL      0.400775\n",
       "AMZN     -3.243695\n",
       "SPY     374.063311\n",
       "QQQ       0.592368"
      ]
     },
     "execution_count": 10,
     "metadata": {},
     "output_type": "execute_result"
    },
    {
     "name": "stdout",
     "output_type": "stream",
     "text": [
      "Betas\n"
     ]
    },
    {
     "data": {
      "text/html": [
       "<div>\n",
       "<style scoped>\n",
       "    .dataframe tbody tr th:only-of-type {\n",
       "        vertical-align: middle;\n",
       "    }\n",
       "\n",
       "    .dataframe tbody tr th {\n",
       "        vertical-align: top;\n",
       "    }\n",
       "\n",
       "    .dataframe thead th {\n",
       "        text-align: right;\n",
       "    }\n",
       "</style>\n",
       "<table border=\"1\" class=\"dataframe\">\n",
       "  <thead>\n",
       "    <tr style=\"text-align: right;\">\n",
       "      <th></th>\n",
       "      <th>SPY</th>\n",
       "    </tr>\n",
       "  </thead>\n",
       "  <tbody>\n",
       "    <tr>\n",
       "      <th>XIU.TO</th>\n",
       "      <td>0.004799</td>\n",
       "    </tr>\n",
       "    <tr>\n",
       "      <th>AAPL</th>\n",
       "      <td>0.001071</td>\n",
       "    </tr>\n",
       "    <tr>\n",
       "      <th>AMZN</th>\n",
       "      <td>-0.008672</td>\n",
       "    </tr>\n",
       "    <tr>\n",
       "      <th>SPY</th>\n",
       "      <td>1.000000</td>\n",
       "    </tr>\n",
       "    <tr>\n",
       "      <th>QQQ</th>\n",
       "      <td>0.001584</td>\n",
       "    </tr>\n",
       "  </tbody>\n",
       "</table>\n",
       "</div>"
      ],
      "text/plain": [
       "             SPY\n",
       "XIU.TO  0.004799\n",
       "AAPL    0.001071\n",
       "AMZN   -0.008672\n",
       "SPY     1.000000\n",
       "QQQ     0.001584"
      ]
     },
     "execution_count": 10,
     "metadata": {},
     "output_type": "execute_result"
    }
   ],
   "source": [
    "# Variance with SPY\n",
    "print('Variance with SPY')\n",
    "var = df_daily_returns.cov()*200 # not sure if `*200` is correct\n",
    "var = var['SPY']\n",
    "var.to_frame()\n",
    "\n",
    "# Betas of all stocks. cov_with_market / market_var\n",
    "print('Betas')\n",
    "(var/var['SPY']).to_frame()"
   ]
  },
  {
   "cell_type": "code",
   "execution_count": 11,
   "metadata": {},
   "outputs": [
    {
     "data": {
      "text/plain": [
       "XIU.TO    0.924680\n",
       "AAPL      0.883094\n",
       "AMZN      1.062620\n",
       "SPY       1.000000\n",
       "QQQ       0.951743\n",
       "Name: SPY, dtype: float64"
      ]
     },
     "execution_count": 11,
     "metadata": {},
     "output_type": "execute_result"
    }
   ],
   "source": [
    "# Beta from normalized prices (not daily returns)\n",
    "var = df.cov()*200\n",
    "var = var['SPY']\n",
    "betas = var/var['SPY']\n",
    "betas"
   ]
  },
  {
   "cell_type": "code",
   "execution_count": 12,
   "metadata": {},
   "outputs": [
    {
     "data": {
      "text/plain": [
       "XIU.TO    0.808969\n",
       "AAPL      1.420180\n",
       "AMZN      1.025984\n",
       "SPY       1.000000\n",
       "QQQ       1.173603\n",
       "Name: SPY, dtype: float64"
      ]
     },
     "execution_count": 12,
     "metadata": {},
     "output_type": "execute_result"
    }
   ],
   "source": [
    "# Beta (5Y Daily) from normalized prices (not daily returns)\n",
    "\n",
    "# var = df.resample('M').mean().last(\"5Y\").cov()*200\n",
    "var = df.last(\"5Y\").cov()*200\n",
    "var = var['SPY']\n",
    "betas = var/var['SPY']\n",
    "betas"
   ]
  },
  {
   "cell_type": "markdown",
   "metadata": {},
   "source": [
    "## Common Ratios"
   ]
  },
  {
   "cell_type": "code",
   "execution_count": 23,
   "metadata": {},
   "outputs": [],
   "source": [
    "#Risk free return\n",
    "RFR = 0.00 #0.02/250 # 0.00"
   ]
  },
  {
   "cell_type": "code",
   "execution_count": 24,
   "metadata": {},
   "outputs": [
    {
     "name": "stdout",
     "output_type": "stream",
     "text": [
      "Sharpe Ratios:\n"
     ]
    },
    {
     "data": {
      "text/html": [
       "<div>\n",
       "<style scoped>\n",
       "    .dataframe tbody tr th:only-of-type {\n",
       "        vertical-align: middle;\n",
       "    }\n",
       "\n",
       "    .dataframe tbody tr th {\n",
       "        vertical-align: top;\n",
       "    }\n",
       "\n",
       "    .dataframe thead th {\n",
       "        text-align: right;\n",
       "    }\n",
       "</style>\n",
       "<table border=\"1\" class=\"dataframe\">\n",
       "  <thead>\n",
       "    <tr style=\"text-align: right;\">\n",
       "      <th></th>\n",
       "      <th>Sharpe Ratio</th>\n",
       "    </tr>\n",
       "  </thead>\n",
       "  <tbody>\n",
       "    <tr>\n",
       "      <th>XIU.TO</th>\n",
       "      <td>3.341112</td>\n",
       "    </tr>\n",
       "    <tr>\n",
       "      <th>AAPL</th>\n",
       "      <td>5.743335</td>\n",
       "    </tr>\n",
       "    <tr>\n",
       "      <th>AMZN</th>\n",
       "      <td>2.883062</td>\n",
       "    </tr>\n",
       "    <tr>\n",
       "      <th>SPY</th>\n",
       "      <td>3.733702</td>\n",
       "    </tr>\n",
       "    <tr>\n",
       "      <th>QQQ</th>\n",
       "      <td>4.499077</td>\n",
       "    </tr>\n",
       "  </tbody>\n",
       "</table>\n",
       "</div>"
      ],
      "text/plain": [
       "        Sharpe Ratio\n",
       "XIU.TO      3.341112\n",
       "AAPL        5.743335\n",
       "AMZN        2.883062\n",
       "SPY         3.733702\n",
       "QQQ         4.499077"
      ]
     },
     "execution_count": 24,
     "metadata": {},
     "output_type": "execute_result"
    }
   ],
   "source": [
    "df_recent = df.resample('M').mean().last(\"5Y\")\n",
    "df_recent = daily_change(df_recent)\n",
    "sharpe_ratio = ((df_recent.mean()-RFR)/df_recent.std()) * np.sqrt(250)\n",
    "\n",
    "print(f'Sharpe Ratios:')\n",
    "pd.DataFrame(sharpe_ratio, columns=['Sharpe Ratio'])"
   ]
  },
  {
   "cell_type": "code",
   "execution_count": null,
   "metadata": {},
   "outputs": [],
   "source": []
  },
  {
   "cell_type": "code",
   "execution_count": null,
   "metadata": {},
   "outputs": [],
   "source": []
  },
  {
   "cell_type": "code",
   "execution_count": null,
   "metadata": {},
   "outputs": [],
   "source": []
  },
  {
   "cell_type": "code",
   "execution_count": null,
   "metadata": {},
   "outputs": [],
   "source": []
  },
  {
   "cell_type": "code",
   "execution_count": null,
   "metadata": {},
   "outputs": [],
   "source": []
  },
  {
   "cell_type": "markdown",
   "metadata": {},
   "source": [
    "## Minimum Variance Portfolio\n"
   ]
  },
  {
   "cell_type": "code",
   "execution_count": null,
   "metadata": {},
   "outputs": [
    {
     "name": "stdout",
     "output_type": "stream",
     "text": [
      "Weights: [-2.00183557  2.26940286 -1.32306979  1.01412079  1.04138171], which sum to 1.00\n",
      "Annual Return: 142584.16%\n",
      "Annual Return of uniform weighting: 12476.44%\n"
     ]
    }
   ],
   "source": [
    "assert pd.DataFrame(np.linalg.inv(df.cov()) @ df.cov()).round(4).sum().all() == 1\n",
    "# hence a real? inverse of the covariance matrix exists and we dont have to have faith in pinv working\n",
    "\n",
    "inv = np.linalg.inv(df.cov())\n",
    "ones = np.ones(inv.shape[0])\n",
    "weights = (inv @ ones) / (ones @ inv @ ones) \n",
    "\n",
    "print(f'Weights: {weights}, which sum to {weights.sum():.2f}')\n",
    "\n",
    "pfolio = np.dot(annual_returns, weights)\n",
    "print(f\"Annual Return: {pfolio*100:.2f}%\")\n",
    "print(f\"Annual Return of uniform weighting: {pfolio_uniform*100:.2f}%\")"
   ]
  },
  {
   "cell_type": "code",
   "execution_count": null,
   "metadata": {},
   "outputs": [],
   "source": []
  },
  {
   "cell_type": "markdown",
   "metadata": {},
   "source": [
    "## Markowitz Portfolio\n",
    "> Certainly Wrong"
   ]
  },
  {
   "cell_type": "code",
   "execution_count": null,
   "metadata": {},
   "outputs": [
    {
     "data": {
      "text/html": [
       "<div>\n",
       "<style scoped>\n",
       "    .dataframe tbody tr th:only-of-type {\n",
       "        vertical-align: middle;\n",
       "    }\n",
       "\n",
       "    .dataframe tbody tr th {\n",
       "        vertical-align: top;\n",
       "    }\n",
       "\n",
       "    .dataframe thead th {\n",
       "        text-align: right;\n",
       "    }\n",
       "</style>\n",
       "<table border=\"1\" class=\"dataframe\">\n",
       "  <thead>\n",
       "    <tr style=\"text-align: right;\">\n",
       "      <th></th>\n",
       "      <th>Annual Return</th>\n",
       "    </tr>\n",
       "  </thead>\n",
       "  <tbody>\n",
       "    <tr>\n",
       "      <th>SPY</th>\n",
       "      <td>-0.998918</td>\n",
       "    </tr>\n",
       "    <tr>\n",
       "      <th>QQQ</th>\n",
       "      <td>627.654935</td>\n",
       "    </tr>\n",
       "    <tr>\n",
       "      <th>AMZN</th>\n",
       "      <td>-0.999896</td>\n",
       "    </tr>\n",
       "    <tr>\n",
       "      <th>XIU.TO</th>\n",
       "      <td>-1.000000</td>\n",
       "    </tr>\n",
       "    <tr>\n",
       "      <th>AAPL</th>\n",
       "      <td>-0.834243</td>\n",
       "    </tr>\n",
       "  </tbody>\n",
       "</table>\n",
       "</div>"
      ],
      "text/plain": [
       "        Annual Return\n",
       "SPY         -0.998918\n",
       "QQQ        627.654935\n",
       "AMZN        -0.999896\n",
       "XIU.TO      -1.000000\n",
       "AAPL        -0.834243"
      ]
     },
     "execution_count": 219,
     "metadata": {},
     "output_type": "execute_result"
    },
    {
     "name": "stdout",
     "output_type": "stream",
     "text": [
      "Expected portfolio returns: 124.76%\n"
     ]
    }
   ],
   "source": [
    "annual_returns = df_daily_returns.mean() + 1\n",
    "annual_returns = annual_returns**250 - 1\n",
    "\n",
    "# Annual Return\n",
    "pd.DataFrame(annual_returns, columns=[\"Annual Return\"])\n",
    "\n",
    "print(f\"Expected portfolio returns: {np.sum(weights_uniform * annual_returns):.2f}%\")\n"
   ]
  },
  {
   "cell_type": "code",
   "execution_count": null,
   "metadata": {},
   "outputs": [
    {
     "name": "stdout",
     "output_type": "stream",
     "text": [
      "Expected portfolio variance: 30680.58%\n"
     ]
    }
   ],
   "source": [
    "#Expected Portfolio Variance\n",
    "print(f\"Expected portfolio variance: {weights.T @ (df_daily_returns.cov()*250) @ weights:.2f}%\")"
   ]
  },
  {
   "cell_type": "code",
   "execution_count": null,
   "metadata": {},
   "outputs": [
    {
     "name": "stdout",
     "output_type": "stream",
     "text": [
      "Expected portfolio Volatility: 175.16%\n"
     ]
    }
   ],
   "source": [
    "#Expected Portfolio Volatility\n",
    "print(f\"Expected portfolio Volatility: {np.sqrt(weights.T @ (df_daily_returns.cov()*250) @ weights):.2f}%\")"
   ]
  },
  {
   "cell_type": "code",
   "execution_count": null,
   "metadata": {},
   "outputs": [],
   "source": [
    "pfolio_returns = []\n",
    "pfolio_volatilities = []\n",
    "for x in range(10000):\n",
    "    weights = np.random.random(df_daily_returns.shape[1])\n",
    "    weights /= np.sum(weights)\n",
    "    pfolio_returns.append(np.sum(weights * annual_returns))\n",
    "    pfolio_volatilities.append(np.sqrt(np.dot(weights.T,np.dot(df_daily_returns.cov() * 250,weights))))\n",
    "    if pfolio_returns[x]>0.1634 and pfolio_volatilities[x]<0.1966 :\n",
    "        print('Microsoft : ' + str(weights[0]) + ' Google : ' + str(weights[1]))\n",
    "    \n",
    "pfolio_returns = np.array(pfolio_returns)\n",
    "pfolio_volatilities = np.array(pfolio_volatilities)"
   ]
  },
  {
   "cell_type": "code",
   "execution_count": null,
   "metadata": {},
   "outputs": [
    {
     "data": {
      "text/html": [
       "<div>\n",
       "<style scoped>\n",
       "    .dataframe tbody tr th:only-of-type {\n",
       "        vertical-align: middle;\n",
       "    }\n",
       "\n",
       "    .dataframe tbody tr th {\n",
       "        vertical-align: top;\n",
       "    }\n",
       "\n",
       "    .dataframe thead th {\n",
       "        text-align: right;\n",
       "    }\n",
       "</style>\n",
       "<table border=\"1\" class=\"dataframe\">\n",
       "  <thead>\n",
       "    <tr style=\"text-align: right;\">\n",
       "      <th></th>\n",
       "      <th>Return</th>\n",
       "      <th>Volatility</th>\n",
       "    </tr>\n",
       "  </thead>\n",
       "  <tbody>\n",
       "    <tr>\n",
       "      <th>0</th>\n",
       "      <td>116.545895</td>\n",
       "      <td>28.173130</td>\n",
       "    </tr>\n",
       "    <tr>\n",
       "      <th>1</th>\n",
       "      <td>272.890080</td>\n",
       "      <td>13.067041</td>\n",
       "    </tr>\n",
       "    <tr>\n",
       "      <th>2</th>\n",
       "      <td>190.605716</td>\n",
       "      <td>26.251049</td>\n",
       "    </tr>\n",
       "    <tr>\n",
       "      <th>3</th>\n",
       "      <td>67.494493</td>\n",
       "      <td>54.108026</td>\n",
       "    </tr>\n",
       "    <tr>\n",
       "      <th>4</th>\n",
       "      <td>220.786746</td>\n",
       "      <td>41.036341</td>\n",
       "    </tr>\n",
       "  </tbody>\n",
       "</table>\n",
       "</div>"
      ],
      "text/plain": [
       "       Return  Volatility\n",
       "0  116.545895   28.173130\n",
       "1  272.890080   13.067041\n",
       "2  190.605716   26.251049\n",
       "3   67.494493   54.108026\n",
       "4  220.786746   41.036341"
      ]
     },
     "execution_count": 230,
     "metadata": {},
     "output_type": "execute_result"
    },
    {
     "data": {
      "text/html": [
       "<div>\n",
       "<style scoped>\n",
       "    .dataframe tbody tr th:only-of-type {\n",
       "        vertical-align: middle;\n",
       "    }\n",
       "\n",
       "    .dataframe tbody tr th {\n",
       "        vertical-align: top;\n",
       "    }\n",
       "\n",
       "    .dataframe thead th {\n",
       "        text-align: right;\n",
       "    }\n",
       "</style>\n",
       "<table border=\"1\" class=\"dataframe\">\n",
       "  <thead>\n",
       "    <tr style=\"text-align: right;\">\n",
       "      <th></th>\n",
       "      <th>Return</th>\n",
       "      <th>Volatility</th>\n",
       "    </tr>\n",
       "  </thead>\n",
       "  <tbody>\n",
       "    <tr>\n",
       "      <th>9995</th>\n",
       "      <td>151.623692</td>\n",
       "      <td>17.495120</td>\n",
       "    </tr>\n",
       "    <tr>\n",
       "      <th>9996</th>\n",
       "      <td>198.652811</td>\n",
       "      <td>22.662571</td>\n",
       "    </tr>\n",
       "    <tr>\n",
       "      <th>9997</th>\n",
       "      <td>89.226923</td>\n",
       "      <td>10.085729</td>\n",
       "    </tr>\n",
       "    <tr>\n",
       "      <th>9998</th>\n",
       "      <td>186.127861</td>\n",
       "      <td>14.893451</td>\n",
       "    </tr>\n",
       "    <tr>\n",
       "      <th>9999</th>\n",
       "      <td>16.444852</td>\n",
       "      <td>53.960038</td>\n",
       "    </tr>\n",
       "  </tbody>\n",
       "</table>\n",
       "</div>"
      ],
      "text/plain": [
       "          Return  Volatility\n",
       "9995  151.623692   17.495120\n",
       "9996  198.652811   22.662571\n",
       "9997   89.226923   10.085729\n",
       "9998  186.127861   14.893451\n",
       "9999   16.444852   53.960038"
      ]
     },
     "execution_count": 230,
     "metadata": {},
     "output_type": "execute_result"
    }
   ],
   "source": [
    "portfolio = pd.DataFrame({'Return': pfolio_returns, 'Volatility': pfolio_volatilities})\n",
    "portfolio.head()\n",
    "portfolio.tail()"
   ]
  },
  {
   "cell_type": "code",
   "execution_count": null,
   "metadata": {},
   "outputs": [
    {
     "data": {
      "text/plain": [
       "<AxesSubplot:xlabel='Volatility', ylabel='Return'>"
      ]
     },
     "execution_count": 231,
     "metadata": {},
     "output_type": "execute_result"
    },
    {
     "data": {
      "text/plain": [
       "Text(0.5, 0, 'Expected Volatality')"
      ]
     },
     "execution_count": 231,
     "metadata": {},
     "output_type": "execute_result"
    },
    {
     "data": {
      "text/plain": [
       "Text(0, 0.5, 'Expected Return')"
      ]
     },
     "execution_count": 231,
     "metadata": {},
     "output_type": "execute_result"
    },
    {
     "data": {
      "image/png": "[encoded data removed]",
      "text/plain": [
       "<Figure size 1080x576 with 1 Axes>"
      ]
     },
     "metadata": {},
     "output_type": "display_data"
    }
   ],
   "source": [
    "portfolio.plot(x='Volatility',y='Return',kind='scatter',figsize=(15,8))\n",
    "plt.xlabel('Expected Volatality')\n",
    "plt.ylabel('Expected Return')"
   ]
  },
  {
   "cell_type": "code",
   "execution_count": null,
   "metadata": {},
   "outputs": [],
   "source": []
  }
 ],
 "metadata": {
  "kernelspec": {
   "display_name": "Python 3.9.9 64-bit",
   "language": "python",
   "name": "python3"
  },
  "language_info": {
   "codemirror_mode": {
    "name": "ipython",
    "version": 3
   },
   "file_extension": ".py",
   "mimetype": "text/x-python",
   "name": "python",
   "nbconvert_exporter": "python",
   "pygments_lexer": "ipython3",
   "version": "3.9.9"
  },
  "orig_nbformat": 4,
  "vscode": {
   "interpreter": {
    "hash": "3c8d0175d7cae27bf08afa3ed6d379d549d2e185263a683b210b8b618a0db948"
   }
  }
 },
 "nbformat": 4,
 "nbformat_minor": 2
}
