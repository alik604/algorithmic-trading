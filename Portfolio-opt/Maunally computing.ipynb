{
 "cells": [
  {
   "cell_type": "markdown",
   "metadata": {},
   "source": [
    "# Maunally Computing....\n",
    "> Maunally computing, the Boomer way - if boomers coded in 🅱ython\n",
    "\n",
    "Adapted from [harsh14796's project](https://github.com/harsh14796/Stock-Market-Analysis-With-Python) amoung other sources\n"
   ]
  },
  {
   "cell_type": "code",
   "execution_count": 1,
   "metadata": {},
   "outputs": [],
   "source": [
    "from utils import get_data, normalize_data, zero_shift, daily_returns, daily_change, daily_change\n",
    "\n",
    "import numpy as np\n",
    "import pandas as pd\n",
    "\n",
    "# !pip install yfinance networkx\n",
    "import yfinance as yf\n",
    "\n",
    "# multiple outputs per cells. does not mix well with plt as they return stull that will be printed\n",
    "from IPython.core.interactiveshell import InteractiveShell\n",
    "InteractiveShell.ast_node_interactivity = \"all\"\n",
    "\n",
    "import datetime\n",
    "\n",
    "import seaborn as sns\n",
    "import matplotlib.pyplot as plt\n",
    "\n",
    "# defaults for plt\n",
    "%matplotlib inline\n",
    "plt.style.use('fivethirtyeight')                # first, small enchancements, xlabels, ylabels, legand sizing...   \n",
    "plt.rcParams['lines.linewidth'] = 2             # Change linewidth of plots\n",
    "plt.rcParams['figure.figsize'] = (12, 8)        # Change the size of plots\n",
    "  \n",
    "start = datetime.datetime(2016,1,1)\n",
    "# start = datetime.datetime(2018, 2, 1)\n",
    "# end = datetime.datetime(2020, 9, 13)\n",
    "end = datetime.date.today()"
   ]
  },
  {
   "cell_type": "code",
   "execution_count": 2,
   "metadata": {},
   "outputs": [
    {
     "name": "stdout",
     "output_type": "stream",
     "text": [
      "[*********************100%***********************]  1 of 1 completed\n",
      "[*********************100%***********************]  1 of 1 completed\n",
      "[*********************100%***********************]  1 of 1 completed\n",
      "[*********************100%***********************]  1 of 1 completed\n",
      "[*********************100%***********************]  1 of 1 completed\n",
      "shape of the dataframe: (8270, 5)\n",
      "shape of the dataframe - after droping NA: (5576, 5)\n"
     ]
    },
    {
     "data": {
      "text/html": [
       "<div>\n",
       "<style scoped>\n",
       "    .dataframe tbody tr th:only-of-type {\n",
       "        vertical-align: middle;\n",
       "    }\n",
       "\n",
       "    .dataframe tbody tr th {\n",
       "        vertical-align: top;\n",
       "    }\n",
       "\n",
       "    .dataframe thead th {\n",
       "        text-align: right;\n",
       "    }\n",
       "</style>\n",
       "<table border=\"1\" class=\"dataframe\">\n",
       "  <thead>\n",
       "    <tr style=\"text-align: right;\">\n",
       "      <th></th>\n",
       "      <th>AMZN</th>\n",
       "      <th>XIU.TO</th>\n",
       "      <th>AAPL</th>\n",
       "      <th>SPY</th>\n",
       "      <th>QQQ</th>\n",
       "    </tr>\n",
       "    <tr>\n",
       "      <th>Date</th>\n",
       "      <th></th>\n",
       "      <th></th>\n",
       "      <th></th>\n",
       "      <th></th>\n",
       "      <th></th>\n",
       "    </tr>\n",
       "  </thead>\n",
       "  <tbody>\n",
       "    <tr>\n",
       "      <th>1999-10-04</th>\n",
       "      <td>77.0625</td>\n",
       "      <td>6.185673</td>\n",
       "      <td>0.492876</td>\n",
       "      <td>86.591560</td>\n",
       "      <td>53.259003</td>\n",
       "    </tr>\n",
       "    <tr>\n",
       "      <th>1999-10-05</th>\n",
       "      <td>78.4375</td>\n",
       "      <td>6.141118</td>\n",
       "      <td>0.518641</td>\n",
       "      <td>86.508812</td>\n",
       "      <td>53.637486</td>\n",
       "    </tr>\n",
       "    <tr>\n",
       "      <th>1999-10-06</th>\n",
       "      <td>82.4375</td>\n",
       "      <td>6.178246</td>\n",
       "      <td>0.512915</td>\n",
       "      <td>87.833351</td>\n",
       "      <td>54.712120</td>\n",
       "    </tr>\n",
       "  </tbody>\n",
       "</table>\n",
       "</div>"
      ],
      "text/plain": [
       "               AMZN    XIU.TO      AAPL        SPY        QQQ\n",
       "Date                                                         \n",
       "1999-10-04  77.0625  6.185673  0.492876  86.591560  53.259003\n",
       "1999-10-05  78.4375  6.141118  0.518641  86.508812  53.637486\n",
       "1999-10-06  82.4375  6.178246  0.512915  87.833351  54.712120"
      ]
     },
     "execution_count": 2,
     "metadata": {},
     "output_type": "execute_result"
    },
    {
     "data": {
      "text/html": [
       "<div>\n",
       "<style scoped>\n",
       "    .dataframe tbody tr th:only-of-type {\n",
       "        vertical-align: middle;\n",
       "    }\n",
       "\n",
       "    .dataframe tbody tr th {\n",
       "        vertical-align: top;\n",
       "    }\n",
       "\n",
       "    .dataframe thead th {\n",
       "        text-align: right;\n",
       "    }\n",
       "</style>\n",
       "<table border=\"1\" class=\"dataframe\">\n",
       "  <thead>\n",
       "    <tr style=\"text-align: right;\">\n",
       "      <th></th>\n",
       "      <th>AMZN</th>\n",
       "      <th>XIU.TO</th>\n",
       "      <th>AAPL</th>\n",
       "      <th>SPY</th>\n",
       "      <th>QQQ</th>\n",
       "    </tr>\n",
       "    <tr>\n",
       "      <th>Date</th>\n",
       "      <th></th>\n",
       "      <th></th>\n",
       "      <th></th>\n",
       "      <th></th>\n",
       "      <th></th>\n",
       "    </tr>\n",
       "  </thead>\n",
       "  <tbody>\n",
       "    <tr>\n",
       "      <th>2022-05-18</th>\n",
       "      <td>2142.250000</td>\n",
       "      <td>30.879999</td>\n",
       "      <td>140.820007</td>\n",
       "      <td>391.859985</td>\n",
       "      <td>291.140015</td>\n",
       "    </tr>\n",
       "    <tr>\n",
       "      <th>2022-05-19</th>\n",
       "      <td>2146.379883</td>\n",
       "      <td>30.950001</td>\n",
       "      <td>137.350006</td>\n",
       "      <td>389.459991</td>\n",
       "      <td>289.579987</td>\n",
       "    </tr>\n",
       "    <tr>\n",
       "      <th>2022-05-20</th>\n",
       "      <td>2151.820068</td>\n",
       "      <td>31.010000</td>\n",
       "      <td>137.589996</td>\n",
       "      <td>389.630005</td>\n",
       "      <td>288.679993</td>\n",
       "    </tr>\n",
       "  </tbody>\n",
       "</table>\n",
       "</div>"
      ],
      "text/plain": [
       "                   AMZN     XIU.TO        AAPL         SPY         QQQ\n",
       "Date                                                                  \n",
       "2022-05-18  2142.250000  30.879999  140.820007  391.859985  291.140015\n",
       "2022-05-19  2146.379883  30.950001  137.350006  389.459991  289.579987\n",
       "2022-05-20  2151.820068  31.010000  137.589996  389.630005  288.679993"
      ]
     },
     "execution_count": 2,
     "metadata": {},
     "output_type": "execute_result"
    }
   ],
   "source": [
    "tickers = ['SPY', 'QQQ', 'XIU.TO', 'AAPL', 'AMZN']\n",
    "df = get_data(tickers, end=end, drop_na=True)\n",
    "\n",
    "df.head(3)\n",
    "df.tail(3)"
   ]
  },
  {
   "cell_type": "code",
   "execution_count": 3,
   "metadata": {},
   "outputs": [
    {
     "name": "stdout",
     "output_type": "stream",
     "text": [
      "Normalizing data... `(data - data.min()) / (data.max() - data.min())`\n",
      "Ensure each column starts at 0 `data-data.iloc[0]`\n"
     ]
    },
    {
     "data": {
      "text/plain": [
       "<AxesSubplot:xlabel='Date'>"
      ]
     },
     "execution_count": 3,
     "metadata": {},
     "output_type": "execute_result"
    },
    {
     "data": {
      "image/png": "[encoded data removed]",
      "text/plain": [
       "<Figure size 864x576 with 1 Axes>"
      ]
     },
     "metadata": {},
     "output_type": "display_data"
    }
   ],
   "source": [
    "df = normalize_data(df)\n",
    "df = zero_shift(df)\n",
    "df.plot() # linewidth=2"
   ]
  },
  {
   "cell_type": "code",
   "execution_count": 4,
   "metadata": {},
   "outputs": [
    {
     "name": "stdout",
     "output_type": "stream",
     "text": [
      "Standard Deviation\n"
     ]
    },
    {
     "data": {
      "text/html": [
       "<div>\n",
       "<style scoped>\n",
       "    .dataframe tbody tr th:only-of-type {\n",
       "        vertical-align: middle;\n",
       "    }\n",
       "\n",
       "    .dataframe tbody tr th {\n",
       "        vertical-align: top;\n",
       "    }\n",
       "\n",
       "    .dataframe thead th {\n",
       "        text-align: right;\n",
       "    }\n",
       "</style>\n",
       "<table border=\"1\" class=\"dataframe\">\n",
       "  <thead>\n",
       "    <tr style=\"text-align: right;\">\n",
       "      <th></th>\n",
       "      <th>AMZN</th>\n",
       "      <th>XIU.TO</th>\n",
       "      <th>AAPL</th>\n",
       "      <th>SPY</th>\n",
       "      <th>QQQ</th>\n",
       "    </tr>\n",
       "  </thead>\n",
       "  <tbody>\n",
       "    <tr>\n",
       "      <th>STD</th>\n",
       "      <td>0.257936</td>\n",
       "      <td>0.226099</td>\n",
       "      <td>0.215988</td>\n",
       "      <td>0.234102</td>\n",
       "      <td>0.226338</td>\n",
       "    </tr>\n",
       "  </tbody>\n",
       "</table>\n",
       "</div>"
      ],
      "text/plain": [
       "         AMZN    XIU.TO      AAPL       SPY       QQQ\n",
       "STD  0.257936  0.226099  0.215988  0.234102  0.226338"
      ]
     },
     "execution_count": 4,
     "metadata": {},
     "output_type": "execute_result"
    },
    {
     "name": "stdout",
     "output_type": "stream",
     "text": [
      "Covariance\n"
     ]
    },
    {
     "data": {
      "text/html": [
       "<div>\n",
       "<style scoped>\n",
       "    .dataframe tbody tr th:only-of-type {\n",
       "        vertical-align: middle;\n",
       "    }\n",
       "\n",
       "    .dataframe tbody tr th {\n",
       "        vertical-align: top;\n",
       "    }\n",
       "\n",
       "    .dataframe thead th {\n",
       "        text-align: right;\n",
       "    }\n",
       "</style>\n",
       "<table border=\"1\" class=\"dataframe\">\n",
       "  <thead>\n",
       "    <tr style=\"text-align: right;\">\n",
       "      <th></th>\n",
       "      <th>AMZN</th>\n",
       "      <th>XIU.TO</th>\n",
       "      <th>AAPL</th>\n",
       "      <th>SPY</th>\n",
       "      <th>QQQ</th>\n",
       "    </tr>\n",
       "  </thead>\n",
       "  <tbody>\n",
       "    <tr>\n",
       "      <th>AMZN</th>\n",
       "      <td>0.066531</td>\n",
       "      <td>0.051764</td>\n",
       "      <td>0.053606</td>\n",
       "      <td>0.058236</td>\n",
       "      <td>0.057146</td>\n",
       "    </tr>\n",
       "    <tr>\n",
       "      <th>XIU.TO</th>\n",
       "      <td>0.051764</td>\n",
       "      <td>0.051121</td>\n",
       "      <td>0.043589</td>\n",
       "      <td>0.050676</td>\n",
       "      <td>0.046752</td>\n",
       "    </tr>\n",
       "    <tr>\n",
       "      <th>AAPL</th>\n",
       "      <td>0.053606</td>\n",
       "      <td>0.043589</td>\n",
       "      <td>0.046651</td>\n",
       "      <td>0.048397</td>\n",
       "      <td>0.047777</td>\n",
       "    </tr>\n",
       "    <tr>\n",
       "      <th>SPY</th>\n",
       "      <td>0.058236</td>\n",
       "      <td>0.050676</td>\n",
       "      <td>0.048397</td>\n",
       "      <td>0.054804</td>\n",
       "      <td>0.052159</td>\n",
       "    </tr>\n",
       "    <tr>\n",
       "      <th>QQQ</th>\n",
       "      <td>0.057146</td>\n",
       "      <td>0.046752</td>\n",
       "      <td>0.047777</td>\n",
       "      <td>0.052159</td>\n",
       "      <td>0.051229</td>\n",
       "    </tr>\n",
       "  </tbody>\n",
       "</table>\n",
       "</div>"
      ],
      "text/plain": [
       "            AMZN    XIU.TO      AAPL       SPY       QQQ\n",
       "AMZN    0.066531  0.051764  0.053606  0.058236  0.057146\n",
       "XIU.TO  0.051764  0.051121  0.043589  0.050676  0.046752\n",
       "AAPL    0.053606  0.043589  0.046651  0.048397  0.047777\n",
       "SPY     0.058236  0.050676  0.048397  0.054804  0.052159\n",
       "QQQ     0.057146  0.046752  0.047777  0.052159  0.051229"
      ]
     },
     "execution_count": 4,
     "metadata": {},
     "output_type": "execute_result"
    },
    {
     "name": "stdout",
     "output_type": "stream",
     "text": [
      "Pearson's Correlation\n"
     ]
    },
    {
     "data": {
      "text/html": [
       "<div>\n",
       "<style scoped>\n",
       "    .dataframe tbody tr th:only-of-type {\n",
       "        vertical-align: middle;\n",
       "    }\n",
       "\n",
       "    .dataframe tbody tr th {\n",
       "        vertical-align: top;\n",
       "    }\n",
       "\n",
       "    .dataframe thead th {\n",
       "        text-align: right;\n",
       "    }\n",
       "</style>\n",
       "<table border=\"1\" class=\"dataframe\">\n",
       "  <thead>\n",
       "    <tr style=\"text-align: right;\">\n",
       "      <th></th>\n",
       "      <th>AMZN</th>\n",
       "      <th>XIU.TO</th>\n",
       "      <th>AAPL</th>\n",
       "      <th>SPY</th>\n",
       "      <th>QQQ</th>\n",
       "    </tr>\n",
       "  </thead>\n",
       "  <tbody>\n",
       "    <tr>\n",
       "      <th>AMZN</th>\n",
       "      <td>1.000000</td>\n",
       "      <td>0.887592</td>\n",
       "      <td>0.962220</td>\n",
       "      <td>0.964431</td>\n",
       "      <td>0.978852</td>\n",
       "    </tr>\n",
       "    <tr>\n",
       "      <th>XIU.TO</th>\n",
       "      <td>0.887592</td>\n",
       "      <td>1.000000</td>\n",
       "      <td>0.892575</td>\n",
       "      <td>0.957410</td>\n",
       "      <td>0.913583</td>\n",
       "    </tr>\n",
       "    <tr>\n",
       "      <th>AAPL</th>\n",
       "      <td>0.962220</td>\n",
       "      <td>0.892575</td>\n",
       "      <td>1.000000</td>\n",
       "      <td>0.957155</td>\n",
       "      <td>0.977311</td>\n",
       "    </tr>\n",
       "    <tr>\n",
       "      <th>SPY</th>\n",
       "      <td>0.964431</td>\n",
       "      <td>0.957410</td>\n",
       "      <td>0.957155</td>\n",
       "      <td>1.000000</td>\n",
       "      <td>0.984391</td>\n",
       "    </tr>\n",
       "    <tr>\n",
       "      <th>QQQ</th>\n",
       "      <td>0.978852</td>\n",
       "      <td>0.913583</td>\n",
       "      <td>0.977311</td>\n",
       "      <td>0.984391</td>\n",
       "      <td>1.000000</td>\n",
       "    </tr>\n",
       "  </tbody>\n",
       "</table>\n",
       "</div>"
      ],
      "text/plain": [
       "            AMZN    XIU.TO      AAPL       SPY       QQQ\n",
       "AMZN    1.000000  0.887592  0.962220  0.964431  0.978852\n",
       "XIU.TO  0.887592  1.000000  0.892575  0.957410  0.913583\n",
       "AAPL    0.962220  0.892575  1.000000  0.957155  0.977311\n",
       "SPY     0.964431  0.957410  0.957155  1.000000  0.984391\n",
       "QQQ     0.978852  0.913583  0.977311  0.984391  1.000000"
      ]
     },
     "execution_count": 4,
     "metadata": {},
     "output_type": "execute_result"
    },
    {
     "name": "stdout",
     "output_type": "stream",
     "text": [
      "Spearman's Correlation\n"
     ]
    },
    {
     "data": {
      "text/html": [
       "<div>\n",
       "<style scoped>\n",
       "    .dataframe tbody tr th:only-of-type {\n",
       "        vertical-align: middle;\n",
       "    }\n",
       "\n",
       "    .dataframe tbody tr th {\n",
       "        vertical-align: top;\n",
       "    }\n",
       "\n",
       "    .dataframe thead th {\n",
       "        text-align: right;\n",
       "    }\n",
       "</style>\n",
       "<table border=\"1\" class=\"dataframe\">\n",
       "  <thead>\n",
       "    <tr style=\"text-align: right;\">\n",
       "      <th></th>\n",
       "      <th>AMZN</th>\n",
       "      <th>XIU.TO</th>\n",
       "      <th>AAPL</th>\n",
       "      <th>SPY</th>\n",
       "      <th>QQQ</th>\n",
       "    </tr>\n",
       "  </thead>\n",
       "  <tbody>\n",
       "    <tr>\n",
       "      <th>AMZN</th>\n",
       "      <td>1.000000</td>\n",
       "      <td>0.948457</td>\n",
       "      <td>0.972080</td>\n",
       "      <td>0.916620</td>\n",
       "      <td>0.907924</td>\n",
       "    </tr>\n",
       "    <tr>\n",
       "      <th>XIU.TO</th>\n",
       "      <td>0.948457</td>\n",
       "      <td>1.000000</td>\n",
       "      <td>0.975366</td>\n",
       "      <td>0.961693</td>\n",
       "      <td>0.910336</td>\n",
       "    </tr>\n",
       "    <tr>\n",
       "      <th>AAPL</th>\n",
       "      <td>0.972080</td>\n",
       "      <td>0.975366</td>\n",
       "      <td>1.000000</td>\n",
       "      <td>0.937966</td>\n",
       "      <td>0.901455</td>\n",
       "    </tr>\n",
       "    <tr>\n",
       "      <th>SPY</th>\n",
       "      <td>0.916620</td>\n",
       "      <td>0.961693</td>\n",
       "      <td>0.937966</td>\n",
       "      <td>1.000000</td>\n",
       "      <td>0.960975</td>\n",
       "    </tr>\n",
       "    <tr>\n",
       "      <th>QQQ</th>\n",
       "      <td>0.907924</td>\n",
       "      <td>0.910336</td>\n",
       "      <td>0.901455</td>\n",
       "      <td>0.960975</td>\n",
       "      <td>1.000000</td>\n",
       "    </tr>\n",
       "  </tbody>\n",
       "</table>\n",
       "</div>"
      ],
      "text/plain": [
       "            AMZN    XIU.TO      AAPL       SPY       QQQ\n",
       "AMZN    1.000000  0.948457  0.972080  0.916620  0.907924\n",
       "XIU.TO  0.948457  1.000000  0.975366  0.961693  0.910336\n",
       "AAPL    0.972080  0.975366  1.000000  0.937966  0.901455\n",
       "SPY     0.916620  0.961693  0.937966  1.000000  0.960975\n",
       "QQQ     0.907924  0.910336  0.901455  0.960975  1.000000"
      ]
     },
     "execution_count": 4,
     "metadata": {},
     "output_type": "execute_result"
    }
   ],
   "source": [
    "print(f'Standard Deviation')\n",
    "pd.DataFrame(df.std(), columns=['STD']).T\n",
    "\n",
    "print(f'Covariance')\n",
    "df.cov()\n",
    "\n",
    "print(f\"Pearson's Correlation\")\n",
    "df.corr()\n",
    "\n",
    "print(f\"Spearman's Correlation\")\n",
    "from scipy.stats import spearmanr\n",
    "pd.DataFrame(spearmanr(df)[0], columns=df.columns, index=df.columns)"
   ]
  },
  {
   "cell_type": "code",
   "execution_count": 5,
   "metadata": {},
   "outputs": [
    {
     "data": {
      "text/html": [
       "<div>\n",
       "<style scoped>\n",
       "    .dataframe tbody tr th:only-of-type {\n",
       "        vertical-align: middle;\n",
       "    }\n",
       "\n",
       "    .dataframe tbody tr th {\n",
       "        vertical-align: top;\n",
       "    }\n",
       "\n",
       "    .dataframe thead th {\n",
       "        text-align: right;\n",
       "    }\n",
       "</style>\n",
       "<table border=\"1\" class=\"dataframe\">\n",
       "  <thead>\n",
       "    <tr style=\"text-align: right;\">\n",
       "      <th></th>\n",
       "      <th>AMZN</th>\n",
       "      <th>XIU.TO</th>\n",
       "      <th>AAPL</th>\n",
       "      <th>SPY</th>\n",
       "      <th>QQQ</th>\n",
       "    </tr>\n",
       "    <tr>\n",
       "      <th>Date</th>\n",
       "      <th></th>\n",
       "      <th></th>\n",
       "      <th></th>\n",
       "      <th></th>\n",
       "      <th></th>\n",
       "    </tr>\n",
       "  </thead>\n",
       "  <tbody>\n",
       "    <tr>\n",
       "      <th>1999-10-06</th>\n",
       "      <td>2.909091</td>\n",
       "      <td>-0.833305</td>\n",
       "      <td>-0.222253</td>\n",
       "      <td>-16.006823</td>\n",
       "      <td>2.839322</td>\n",
       "    </tr>\n",
       "    <tr>\n",
       "      <th>1999-10-07</th>\n",
       "      <td>0.906977</td>\n",
       "      <td>-4.998909</td>\n",
       "      <td>-0.309506</td>\n",
       "      <td>-0.400027</td>\n",
       "      <td>-0.088374</td>\n",
       "    </tr>\n",
       "    <tr>\n",
       "      <th>1999-10-08</th>\n",
       "      <td>0.189024</td>\n",
       "      <td>1.500153</td>\n",
       "      <td>-0.448313</td>\n",
       "      <td>1.777828</td>\n",
       "      <td>0.433664</td>\n",
       "    </tr>\n",
       "  </tbody>\n",
       "</table>\n",
       "</div>"
      ],
      "text/plain": [
       "                AMZN    XIU.TO      AAPL        SPY       QQQ\n",
       "Date                                                         \n",
       "1999-10-06  2.909091 -0.833305 -0.222253 -16.006823  2.839322\n",
       "1999-10-07  0.906977 -4.998909 -0.309506  -0.400027 -0.088374\n",
       "1999-10-08  0.189024  1.500153 -0.448313   1.777828  0.433664"
      ]
     },
     "execution_count": 5,
     "metadata": {},
     "output_type": "execute_result"
    }
   ],
   "source": [
    "df_daily_returns = daily_change(df)\n",
    "df_daily_returns.head(3)"
   ]
  },
  {
   "cell_type": "markdown",
   "metadata": {},
   "source": [
    "## Simple Uniform allocation"
   ]
  },
  {
   "cell_type": "code",
   "execution_count": 6,
   "metadata": {},
   "outputs": [
    {
     "name": "stdout",
     "output_type": "stream",
     "text": [
      "Annual Return: 12350.96%\n"
     ]
    }
   ],
   "source": [
    "annual_returns = (((df_daily_returns.mean()+1)**250)-1)\n",
    "weights_uniform = np.array([0.20, 0.20, 0.20, 0.20, 0.20])\n",
    "pfolio_uniform = np.dot(annual_returns, weights_uniform)\n",
    "print(f\"Annual Return: {pfolio_uniform*100:.2f}%\")"
   ]
  },
  {
   "cell_type": "code",
   "execution_count": 7,
   "metadata": {},
   "outputs": [
    {
     "name": "stdout",
     "output_type": "stream",
     "text": [
      "Annual Return: 18574.77%\n"
     ]
    }
   ],
   "source": [
    "weights_1 = np.array([0.4, 0.05, 0.20, 0.05, 0.3])\n",
    "pfolio_1 = np.dot(annual_returns, weights_1)\n",
    "print(f\"Annual Return: {pfolio_1*100:.2f}%\")"
   ]
  },
  {
   "cell_type": "markdown",
   "metadata": {},
   "source": [
    "## Portfolio Variance\n",
    "> probably wrong... \n",
    "\n",
    "* [source](https://github.com/harsh14796/Stock-Market-Analysis-With-Python/blob/master/Div_non-div_risk.ipynb)\n",
    "* [math background](https://www.northerntrust.com/documents/white-papers/asset-management/minimum-variance-portfolios.pdf?bc=23500800)\n",
    "\n"
   ]
  },
  {
   "cell_type": "code",
   "execution_count": 8,
   "metadata": {},
   "outputs": [
    {
     "name": "stdout",
     "output_type": "stream",
     "text": [
      "Portfolio Variance: 99522.53%\n"
     ]
    }
   ],
   "source": [
    "# might need to be `log(df_daily_returns)`\n",
    "pfolio_var = np.dot(weights_uniform.T, np.dot(df_daily_returns.cov() * 250, weights_uniform)) # weights.T @ (df_daily_returns.cov() * 250) @ weights\n",
    "print(f\"Portfolio Variance: {pfolio_var*100:.2f}%\")"
   ]
  },
  {
   "cell_type": "code",
   "execution_count": 9,
   "metadata": {},
   "outputs": [
    {
     "name": "stdout",
     "output_type": "stream",
     "text": [
      "Portfolio Standard Deviation: 199.52%\n",
      "Diversifiable risk (Variance): 597.16%\n",
      "Non diversifiable risk:        398.07%\n"
     ]
    }
   ],
   "source": [
    "# Diversifiable risk\n",
    "variance_vector = df_daily_returns.var(ddof=1).to_numpy() # np.diag(df_daily_returns.cov())\n",
    "non_diversifiable_risk = np.dot(weights_uniform**2, variance_vector.T) # np.sum([variance_vector[i] * weights[i] ** 2 for i in range(len(weights))])\n",
    "\n",
    "# Expected portfolio Volatility (std) = SQRT (WT * (Covariance Matrix) * W)\n",
    "portfolio_variance = weights_uniform@df_daily_returns.cov()@weights_uniform # same as non_diversifiable_risk\n",
    "portfolio_voltilt = np.sqrt(weights_uniform@df_daily_returns.cov()@weights_uniform)\n",
    "\n",
    "print(f\"Portfolio Standard Deviation: {portfolio_voltilt*100:.2f}%\")\n",
    "print(f\"Diversifiable risk (Variance): {pfolio_var-non_diversifiable_risk*100:.2f}%\")\n",
    "print(f\"Non diversifiable risk:        {non_diversifiable_risk*100:.2f}%\")"
   ]
  },
  {
   "cell_type": "markdown",
   "metadata": {},
   "source": [
    "## Beta"
   ]
  },
  {
   "cell_type": "code",
   "execution_count": 10,
   "metadata": {},
   "outputs": [
    {
     "name": "stdout",
     "output_type": "stream",
     "text": [
      "Variance with SPY\n"
     ]
    },
    {
     "data": {
      "text/html": [
       "<div>\n",
       "<style scoped>\n",
       "    .dataframe tbody tr th:only-of-type {\n",
       "        vertical-align: middle;\n",
       "    }\n",
       "\n",
       "    .dataframe tbody tr th {\n",
       "        vertical-align: top;\n",
       "    }\n",
       "\n",
       "    .dataframe thead th {\n",
       "        text-align: right;\n",
       "    }\n",
       "</style>\n",
       "<table border=\"1\" class=\"dataframe\">\n",
       "  <thead>\n",
       "    <tr style=\"text-align: right;\">\n",
       "      <th></th>\n",
       "      <th>SPY</th>\n",
       "    </tr>\n",
       "  </thead>\n",
       "  <tbody>\n",
       "    <tr>\n",
       "      <th>AMZN</th>\n",
       "      <td>-3.243228</td>\n",
       "    </tr>\n",
       "    <tr>\n",
       "      <th>XIU.TO</th>\n",
       "      <td>1.820972</td>\n",
       "    </tr>\n",
       "    <tr>\n",
       "      <th>AAPL</th>\n",
       "      <td>0.400605</td>\n",
       "    </tr>\n",
       "    <tr>\n",
       "      <th>SPY</th>\n",
       "      <td>373.669677</td>\n",
       "    </tr>\n",
       "    <tr>\n",
       "      <th>QQQ</th>\n",
       "      <td>0.592438</td>\n",
       "    </tr>\n",
       "  </tbody>\n",
       "</table>\n",
       "</div>"
      ],
      "text/plain": [
       "               SPY\n",
       "AMZN     -3.243228\n",
       "XIU.TO    1.820972\n",
       "AAPL      0.400605\n",
       "SPY     373.669677\n",
       "QQQ       0.592438"
      ]
     },
     "execution_count": 10,
     "metadata": {},
     "output_type": "execute_result"
    },
    {
     "name": "stdout",
     "output_type": "stream",
     "text": [
      "Betas\n"
     ]
    },
    {
     "data": {
      "text/html": [
       "<div>\n",
       "<style scoped>\n",
       "    .dataframe tbody tr th:only-of-type {\n",
       "        vertical-align: middle;\n",
       "    }\n",
       "\n",
       "    .dataframe tbody tr th {\n",
       "        vertical-align: top;\n",
       "    }\n",
       "\n",
       "    .dataframe thead th {\n",
       "        text-align: right;\n",
       "    }\n",
       "</style>\n",
       "<table border=\"1\" class=\"dataframe\">\n",
       "  <thead>\n",
       "    <tr style=\"text-align: right;\">\n",
       "      <th></th>\n",
       "      <th>SPY</th>\n",
       "    </tr>\n",
       "  </thead>\n",
       "  <tbody>\n",
       "    <tr>\n",
       "      <th>AMZN</th>\n",
       "      <td>-0.008679</td>\n",
       "    </tr>\n",
       "    <tr>\n",
       "      <th>XIU.TO</th>\n",
       "      <td>0.004873</td>\n",
       "    </tr>\n",
       "    <tr>\n",
       "      <th>AAPL</th>\n",
       "      <td>0.001072</td>\n",
       "    </tr>\n",
       "    <tr>\n",
       "      <th>SPY</th>\n",
       "      <td>1.000000</td>\n",
       "    </tr>\n",
       "    <tr>\n",
       "      <th>QQQ</th>\n",
       "      <td>0.001585</td>\n",
       "    </tr>\n",
       "  </tbody>\n",
       "</table>\n",
       "</div>"
      ],
      "text/plain": [
       "             SPY\n",
       "AMZN   -0.008679\n",
       "XIU.TO  0.004873\n",
       "AAPL    0.001072\n",
       "SPY     1.000000\n",
       "QQQ     0.001585"
      ]
     },
     "execution_count": 10,
     "metadata": {},
     "output_type": "execute_result"
    }
   ],
   "source": [
    "# Variance with SPY\n",
    "print('Variance with SPY')\n",
    "var = df_daily_returns.cov()*200 # not sure if `*200` is correct\n",
    "var = var['SPY']\n",
    "var.to_frame()\n",
    "\n",
    "# Betas of all stocks. cov_with_market / var(spy)\n",
    "print('Betas')\n",
    "(var/var['SPY']).to_frame() "
   ]
  },
  {
   "cell_type": "code",
   "execution_count": 11,
   "metadata": {},
   "outputs": [
    {
     "name": "stdout",
     "output_type": "stream",
     "text": [
      "Variance with SPY\n"
     ]
    },
    {
     "data": {
      "text/html": [
       "<div>\n",
       "<style scoped>\n",
       "    .dataframe tbody tr th:only-of-type {\n",
       "        vertical-align: middle;\n",
       "    }\n",
       "\n",
       "    .dataframe tbody tr th {\n",
       "        vertical-align: top;\n",
       "    }\n",
       "\n",
       "    .dataframe thead th {\n",
       "        text-align: right;\n",
       "    }\n",
       "</style>\n",
       "<table border=\"1\" class=\"dataframe\">\n",
       "  <thead>\n",
       "    <tr style=\"text-align: right;\">\n",
       "      <th></th>\n",
       "      <th>SPY</th>\n",
       "    </tr>\n",
       "  </thead>\n",
       "  <tbody>\n",
       "    <tr>\n",
       "      <th>AMZN</th>\n",
       "      <td>11.647122</td>\n",
       "    </tr>\n",
       "    <tr>\n",
       "      <th>XIU.TO</th>\n",
       "      <td>10.135198</td>\n",
       "    </tr>\n",
       "    <tr>\n",
       "      <th>AAPL</th>\n",
       "      <td>9.679379</td>\n",
       "    </tr>\n",
       "    <tr>\n",
       "      <th>SPY</th>\n",
       "      <td>10.960758</td>\n",
       "    </tr>\n",
       "    <tr>\n",
       "      <th>QQQ</th>\n",
       "      <td>10.431820</td>\n",
       "    </tr>\n",
       "  </tbody>\n",
       "</table>\n",
       "</div>"
      ],
      "text/plain": [
       "              SPY\n",
       "AMZN    11.647122\n",
       "XIU.TO  10.135198\n",
       "AAPL     9.679379\n",
       "SPY     10.960758\n",
       "QQQ     10.431820"
      ]
     },
     "execution_count": 11,
     "metadata": {},
     "output_type": "execute_result"
    },
    {
     "name": "stdout",
     "output_type": "stream",
     "text": [
      "Betas\n"
     ]
    },
    {
     "data": {
      "text/html": [
       "<div>\n",
       "<style scoped>\n",
       "    .dataframe tbody tr th:only-of-type {\n",
       "        vertical-align: middle;\n",
       "    }\n",
       "\n",
       "    .dataframe tbody tr th {\n",
       "        vertical-align: top;\n",
       "    }\n",
       "\n",
       "    .dataframe thead th {\n",
       "        text-align: right;\n",
       "    }\n",
       "</style>\n",
       "<table border=\"1\" class=\"dataframe\">\n",
       "  <thead>\n",
       "    <tr style=\"text-align: right;\">\n",
       "      <th></th>\n",
       "      <th>SPY</th>\n",
       "    </tr>\n",
       "  </thead>\n",
       "  <tbody>\n",
       "    <tr>\n",
       "      <th>AMZN</th>\n",
       "      <td>1.062620</td>\n",
       "    </tr>\n",
       "    <tr>\n",
       "      <th>XIU.TO</th>\n",
       "      <td>0.924680</td>\n",
       "    </tr>\n",
       "    <tr>\n",
       "      <th>AAPL</th>\n",
       "      <td>0.883094</td>\n",
       "    </tr>\n",
       "    <tr>\n",
       "      <th>SPY</th>\n",
       "      <td>1.000000</td>\n",
       "    </tr>\n",
       "    <tr>\n",
       "      <th>QQQ</th>\n",
       "      <td>0.951743</td>\n",
       "    </tr>\n",
       "  </tbody>\n",
       "</table>\n",
       "</div>"
      ],
      "text/plain": [
       "             SPY\n",
       "AMZN    1.062620\n",
       "XIU.TO  0.924680\n",
       "AAPL    0.883094\n",
       "SPY     1.000000\n",
       "QQQ     0.951743"
      ]
     },
     "execution_count": 11,
     "metadata": {},
     "output_type": "execute_result"
    }
   ],
   "source": [
    "# Beta from normalized prices (not daily returns)\n",
    "print('Variance with SPY')\n",
    "var = df.cov()*200\n",
    "var = var['SPY']\n",
    "var.to_frame()\n",
    "\n",
    "# Betas of all stocks. cov_with_market / var(spy)\n",
    "print('Betas')\n",
    "betas = var/var['SPY']\n",
    "betas.to_frame() "
   ]
  },
  {
   "cell_type": "code",
   "execution_count": 12,
   "metadata": {},
   "outputs": [
    {
     "data": {
      "text/html": [
       "<div>\n",
       "<style scoped>\n",
       "    .dataframe tbody tr th:only-of-type {\n",
       "        vertical-align: middle;\n",
       "    }\n",
       "\n",
       "    .dataframe tbody tr th {\n",
       "        vertical-align: top;\n",
       "    }\n",
       "\n",
       "    .dataframe thead th {\n",
       "        text-align: right;\n",
       "    }\n",
       "</style>\n",
       "<table border=\"1\" class=\"dataframe\">\n",
       "  <thead>\n",
       "    <tr style=\"text-align: right;\">\n",
       "      <th></th>\n",
       "      <th>SPY</th>\n",
       "    </tr>\n",
       "  </thead>\n",
       "  <tbody>\n",
       "    <tr>\n",
       "      <th>AMZN</th>\n",
       "      <td>1.025984</td>\n",
       "    </tr>\n",
       "    <tr>\n",
       "      <th>XIU.TO</th>\n",
       "      <td>0.808969</td>\n",
       "    </tr>\n",
       "    <tr>\n",
       "      <th>AAPL</th>\n",
       "      <td>1.420180</td>\n",
       "    </tr>\n",
       "    <tr>\n",
       "      <th>SPY</th>\n",
       "      <td>1.000000</td>\n",
       "    </tr>\n",
       "    <tr>\n",
       "      <th>QQQ</th>\n",
       "      <td>1.173603</td>\n",
       "    </tr>\n",
       "  </tbody>\n",
       "</table>\n",
       "</div>"
      ],
      "text/plain": [
       "             SPY\n",
       "AMZN    1.025984\n",
       "XIU.TO  0.808969\n",
       "AAPL    1.420180\n",
       "SPY     1.000000\n",
       "QQQ     1.173603"
      ]
     },
     "execution_count": 12,
     "metadata": {},
     "output_type": "execute_result"
    }
   ],
   "source": [
    "# Beta (5Y Daily) from normalized prices (not daily returns)\n",
    "\n",
    "# var = df.resample('M').mean().last(\"5Y\").cov()*200\n",
    "var = df.last(\"5Y\").cov()*200\n",
    "var = var['SPY']\n",
    "betas = var/var['SPY']\n",
    "betas.to_frame() "
   ]
  },
  {
   "cell_type": "markdown",
   "metadata": {},
   "source": [
    "## Common Ratios"
   ]
  },
  {
   "cell_type": "code",
   "execution_count": 13,
   "metadata": {},
   "outputs": [],
   "source": [
    "#Risk free return\n",
    "RFR = 0.00 #0.02/250 # or 2/100? "
   ]
  },
  {
   "cell_type": "code",
   "execution_count": 14,
   "metadata": {},
   "outputs": [
    {
     "name": "stdout",
     "output_type": "stream",
     "text": [
      "Sharpe Ratio:\n"
     ]
    },
    {
     "data": {
      "text/html": [
       "<div>\n",
       "<style scoped>\n",
       "    .dataframe tbody tr th:only-of-type {\n",
       "        vertical-align: middle;\n",
       "    }\n",
       "\n",
       "    .dataframe tbody tr th {\n",
       "        vertical-align: top;\n",
       "    }\n",
       "\n",
       "    .dataframe thead th {\n",
       "        text-align: right;\n",
       "    }\n",
       "</style>\n",
       "<table border=\"1\" class=\"dataframe\">\n",
       "  <thead>\n",
       "    <tr style=\"text-align: right;\">\n",
       "      <th></th>\n",
       "      <th>Sharpe Ratio</th>\n",
       "    </tr>\n",
       "  </thead>\n",
       "  <tbody>\n",
       "    <tr>\n",
       "      <th>AMZN</th>\n",
       "      <td>2.883062</td>\n",
       "    </tr>\n",
       "    <tr>\n",
       "      <th>XIU.TO</th>\n",
       "      <td>3.341112</td>\n",
       "    </tr>\n",
       "    <tr>\n",
       "      <th>AAPL</th>\n",
       "      <td>5.743334</td>\n",
       "    </tr>\n",
       "    <tr>\n",
       "      <th>SPY</th>\n",
       "      <td>3.733701</td>\n",
       "    </tr>\n",
       "    <tr>\n",
       "      <th>QQQ</th>\n",
       "      <td>4.499077</td>\n",
       "    </tr>\n",
       "  </tbody>\n",
       "</table>\n",
       "</div>"
      ],
      "text/plain": [
       "        Sharpe Ratio\n",
       "AMZN        2.883062\n",
       "XIU.TO      3.341112\n",
       "AAPL        5.743334\n",
       "SPY         3.733701\n",
       "QQQ         4.499077"
      ]
     },
     "execution_count": 14,
     "metadata": {},
     "output_type": "execute_result"
    }
   ],
   "source": [
    "# Sharpe Ratio\n",
    "df_recent = df.resample('M').mean().last(\"5Y\")\n",
    "df_recent = daily_change(df_recent)\n",
    "sharpe_ratio = ((df_recent.mean()-RFR)/df_recent.std()) * np.sqrt(250)\n",
    "\n",
    "print(f'Sharpe Ratio:')\n",
    "sharpe_ratio.to_frame('Sharpe Ratio')"
   ]
  },
  {
   "cell_type": "code",
   "execution_count": 15,
   "metadata": {},
   "outputs": [
    {
     "name": "stdout",
     "output_type": "stream",
     "text": [
      "Sortino Ratio:\n"
     ]
    },
    {
     "data": {
      "text/html": [
       "<div>\n",
       "<style scoped>\n",
       "    .dataframe tbody tr th:only-of-type {\n",
       "        vertical-align: middle;\n",
       "    }\n",
       "\n",
       "    .dataframe tbody tr th {\n",
       "        vertical-align: top;\n",
       "    }\n",
       "\n",
       "    .dataframe thead th {\n",
       "        text-align: right;\n",
       "    }\n",
       "</style>\n",
       "<table border=\"1\" class=\"dataframe\">\n",
       "  <thead>\n",
       "    <tr style=\"text-align: right;\">\n",
       "      <th></th>\n",
       "      <th>Sortino Ratio</th>\n",
       "    </tr>\n",
       "  </thead>\n",
       "  <tbody>\n",
       "    <tr>\n",
       "      <th>AMZN</th>\n",
       "      <td>0.278745</td>\n",
       "    </tr>\n",
       "    <tr>\n",
       "      <th>XIU.TO</th>\n",
       "      <td>0.264879</td>\n",
       "    </tr>\n",
       "    <tr>\n",
       "      <th>AAPL</th>\n",
       "      <td>0.680575</td>\n",
       "    </tr>\n",
       "    <tr>\n",
       "      <th>SPY</th>\n",
       "      <td>0.315527</td>\n",
       "    </tr>\n",
       "    <tr>\n",
       "      <th>QQQ</th>\n",
       "      <td>0.441137</td>\n",
       "    </tr>\n",
       "  </tbody>\n",
       "</table>\n",
       "</div>"
      ],
      "text/plain": [
       "        Sortino Ratio\n",
       "AMZN         0.278745\n",
       "XIU.TO       0.264879\n",
       "AAPL         0.680575\n",
       "SPY          0.315527\n",
       "QQQ          0.441137"
      ]
     },
     "execution_count": 15,
     "metadata": {},
     "output_type": "execute_result"
    }
   ],
   "source": [
    "# Sortino Ratio\n",
    "TARGET_RETURN = 0.00\n",
    "temp = np.minimum(0, df_recent - TARGET_RETURN)**2\n",
    "downside_dev = np.sqrt(np.mean(temp))\n",
    "\n",
    "sortino_ratio = np.mean(df_recent - TARGET_RETURN) / downside_dev\n",
    "\n",
    "print(f'Sortino Ratio:')\n",
    "sortino_ratio.to_frame(\"Sortino Ratio\")"
   ]
  },
  {
   "cell_type": "code",
   "execution_count": null,
   "metadata": {},
   "outputs": [],
   "source": []
  },
  {
   "cell_type": "code",
   "execution_count": null,
   "metadata": {},
   "outputs": [],
   "source": []
  },
  {
   "cell_type": "code",
   "execution_count": null,
   "metadata": {},
   "outputs": [],
   "source": []
  },
  {
   "cell_type": "code",
   "execution_count": null,
   "metadata": {},
   "outputs": [],
   "source": []
  },
  {
   "cell_type": "markdown",
   "metadata": {},
   "source": [
    "## Minimum Variance Portfolio"
   ]
  },
  {
   "cell_type": "code",
   "execution_count": 16,
   "metadata": {},
   "outputs": [
    {
     "name": "stdout",
     "output_type": "stream",
     "text": [
      "Weights: [-1.32306921  1.01412184  1.04138119 -2.00183839  2.26940457], which sum to 1.00\n",
      "Annual Return: 141160.58%\n",
      "Annual Return of uniform weighting: 12350.96%\n"
     ]
    }
   ],
   "source": [
    "assert pd.DataFrame(np.linalg.inv(df.cov()) @ df.cov()).round(4).sum().all() == 1\n",
    "# hence a real? inverse of the covariance matrix exists and we dont have to have faith in pinv working\n",
    "\n",
    "inv = np.linalg.inv(df.cov())\n",
    "ones = np.ones(inv.shape[0])\n",
    "weights = (inv @ ones) / (ones @ inv @ ones) \n",
    "\n",
    "print(f'Weights: {weights}, which sum to {weights.sum():.2f}')\n",
    "\n",
    "pfolio = np.dot(annual_returns, weights)\n",
    "print(f\"Annual Return: {pfolio*100:.2f}%\")\n",
    "print(f\"Annual Return of uniform weighting: {pfolio_uniform*100:.2f}%\")"
   ]
  },
  {
   "cell_type": "code",
   "execution_count": null,
   "metadata": {},
   "outputs": [],
   "source": []
  },
  {
   "cell_type": "markdown",
   "metadata": {},
   "source": [
    "## Markowitz Portfolio\n",
    "> Certainly Wrong"
   ]
  },
  {
   "cell_type": "code",
   "execution_count": 17,
   "metadata": {},
   "outputs": [
    {
     "data": {
      "text/html": [
       "<div>\n",
       "<style scoped>\n",
       "    .dataframe tbody tr th:only-of-type {\n",
       "        vertical-align: middle;\n",
       "    }\n",
       "\n",
       "    .dataframe tbody tr th {\n",
       "        vertical-align: top;\n",
       "    }\n",
       "\n",
       "    .dataframe thead th {\n",
       "        text-align: right;\n",
       "    }\n",
       "</style>\n",
       "<table border=\"1\" class=\"dataframe\">\n",
       "  <thead>\n",
       "    <tr style=\"text-align: right;\">\n",
       "      <th></th>\n",
       "      <th>Annual Return</th>\n",
       "    </tr>\n",
       "  </thead>\n",
       "  <tbody>\n",
       "    <tr>\n",
       "      <th>AMZN</th>\n",
       "      <td>-0.999896</td>\n",
       "    </tr>\n",
       "    <tr>\n",
       "      <th>XIU.TO</th>\n",
       "      <td>-1.000000</td>\n",
       "    </tr>\n",
       "    <tr>\n",
       "      <th>AAPL</th>\n",
       "      <td>-0.834681</td>\n",
       "    </tr>\n",
       "    <tr>\n",
       "      <th>SPY</th>\n",
       "      <td>-0.998909</td>\n",
       "    </tr>\n",
       "    <tr>\n",
       "      <th>QQQ</th>\n",
       "      <td>621.381721</td>\n",
       "    </tr>\n",
       "  </tbody>\n",
       "</table>\n",
       "</div>"
      ],
      "text/plain": [
       "        Annual Return\n",
       "AMZN        -0.999896\n",
       "XIU.TO      -1.000000\n",
       "AAPL        -0.834681\n",
       "SPY         -0.998909\n",
       "QQQ        621.381721"
      ]
     },
     "execution_count": 17,
     "metadata": {},
     "output_type": "execute_result"
    },
    {
     "name": "stdout",
     "output_type": "stream",
     "text": [
      "Expected portfolio returns: 123.51%\n"
     ]
    }
   ],
   "source": [
    "annual_returns = df_daily_returns.mean() + 1\n",
    "annual_returns = annual_returns**250 - 1\n",
    "\n",
    "# Annual Return\n",
    "pd.DataFrame(annual_returns, columns=[\"Annual Return\"])\n",
    "\n",
    "print(f\"Expected portfolio returns: {np.sum(weights_uniform * annual_returns):.2f}%\")\n"
   ]
  },
  {
   "cell_type": "code",
   "execution_count": 18,
   "metadata": {},
   "outputs": [
    {
     "name": "stdout",
     "output_type": "stream",
     "text": [
      "Expected portfolio variance: 29464.47%\n"
     ]
    }
   ],
   "source": [
    "#Expected Portfolio Variance\n",
    "print(f\"Expected portfolio variance: {weights.T @ (df_daily_returns.cov()*250) @ weights:.2f}%\")"
   ]
  },
  {
   "cell_type": "code",
   "execution_count": 19,
   "metadata": {},
   "outputs": [
    {
     "name": "stdout",
     "output_type": "stream",
     "text": [
      "Expected portfolio Volatility: 171.65%\n"
     ]
    }
   ],
   "source": [
    "#Expected Portfolio Volatility\n",
    "print(f\"Expected portfolio Volatility: {np.sqrt(weights.T @ (df_daily_returns.cov()*250) @ weights):.2f}%\")"
   ]
  },
  {
   "cell_type": "code",
   "execution_count": 20,
   "metadata": {},
   "outputs": [],
   "source": [
    "pfolio_returns = []\n",
    "pfolio_volatilities = []\n",
    "for x in range(10000):\n",
    "    weights = np.random.random(df_daily_returns.shape[1])\n",
    "    weights /= np.sum(weights)\n",
    "    pfolio_returns.append(np.sum(weights * annual_returns))\n",
    "    pfolio_volatilities.append(np.sqrt(np.dot(weights.T,np.dot(df_daily_returns.cov() * 250,weights))))\n",
    "    if pfolio_returns[x]>0.1634 and pfolio_volatilities[x]<0.1966 :\n",
    "        print('Microsoft : ' + str(weights[0]) + ' Google : ' + str(weights[1]))\n",
    "    \n",
    "pfolio_returns = np.array(pfolio_returns)\n",
    "pfolio_volatilities = np.array(pfolio_volatilities)"
   ]
  },
  {
   "cell_type": "code",
   "execution_count": 21,
   "metadata": {},
   "outputs": [
    {
     "data": {
      "text/html": [
       "<div>\n",
       "<style scoped>\n",
       "    .dataframe tbody tr th:only-of-type {\n",
       "        vertical-align: middle;\n",
       "    }\n",
       "\n",
       "    .dataframe tbody tr th {\n",
       "        vertical-align: top;\n",
       "    }\n",
       "\n",
       "    .dataframe thead th {\n",
       "        text-align: right;\n",
       "    }\n",
       "</style>\n",
       "<table border=\"1\" class=\"dataframe\">\n",
       "  <thead>\n",
       "    <tr style=\"text-align: right;\">\n",
       "      <th></th>\n",
       "      <th>Return</th>\n",
       "      <th>Volatility</th>\n",
       "    </tr>\n",
       "  </thead>\n",
       "  <tbody>\n",
       "    <tr>\n",
       "      <th>0</th>\n",
       "      <td>294.362133</td>\n",
       "      <td>25.833504</td>\n",
       "    </tr>\n",
       "    <tr>\n",
       "      <th>1</th>\n",
       "      <td>137.061749</td>\n",
       "      <td>28.519626</td>\n",
       "    </tr>\n",
       "    <tr>\n",
       "      <th>2</th>\n",
       "      <td>158.180529</td>\n",
       "      <td>19.561406</td>\n",
       "    </tr>\n",
       "    <tr>\n",
       "      <th>3</th>\n",
       "      <td>215.048293</td>\n",
       "      <td>10.965336</td>\n",
       "    </tr>\n",
       "    <tr>\n",
       "      <th>4</th>\n",
       "      <td>132.990709</td>\n",
       "      <td>38.501646</td>\n",
       "    </tr>\n",
       "  </tbody>\n",
       "</table>\n",
       "</div>"
      ],
      "text/plain": [
       "       Return  Volatility\n",
       "0  294.362133   25.833504\n",
       "1  137.061749   28.519626\n",
       "2  158.180529   19.561406\n",
       "3  215.048293   10.965336\n",
       "4  132.990709   38.501646"
      ]
     },
     "execution_count": 21,
     "metadata": {},
     "output_type": "execute_result"
    },
    {
     "data": {
      "text/html": [
       "<div>\n",
       "<style scoped>\n",
       "    .dataframe tbody tr th:only-of-type {\n",
       "        vertical-align: middle;\n",
       "    }\n",
       "\n",
       "    .dataframe tbody tr th {\n",
       "        vertical-align: top;\n",
       "    }\n",
       "\n",
       "    .dataframe thead th {\n",
       "        text-align: right;\n",
       "    }\n",
       "</style>\n",
       "<table border=\"1\" class=\"dataframe\">\n",
       "  <thead>\n",
       "    <tr style=\"text-align: right;\">\n",
       "      <th></th>\n",
       "      <th>Return</th>\n",
       "      <th>Volatility</th>\n",
       "    </tr>\n",
       "  </thead>\n",
       "  <tbody>\n",
       "    <tr>\n",
       "      <th>9995</th>\n",
       "      <td>179.081940</td>\n",
       "      <td>14.291375</td>\n",
       "    </tr>\n",
       "    <tr>\n",
       "      <th>9996</th>\n",
       "      <td>68.969351</td>\n",
       "      <td>31.735752</td>\n",
       "    </tr>\n",
       "    <tr>\n",
       "      <th>9997</th>\n",
       "      <td>141.462846</td>\n",
       "      <td>32.582053</td>\n",
       "    </tr>\n",
       "    <tr>\n",
       "      <th>9998</th>\n",
       "      <td>58.711148</td>\n",
       "      <td>53.036436</td>\n",
       "    </tr>\n",
       "    <tr>\n",
       "      <th>9999</th>\n",
       "      <td>97.227176</td>\n",
       "      <td>51.331335</td>\n",
       "    </tr>\n",
       "  </tbody>\n",
       "</table>\n",
       "</div>"
      ],
      "text/plain": [
       "          Return  Volatility\n",
       "9995  179.081940   14.291375\n",
       "9996   68.969351   31.735752\n",
       "9997  141.462846   32.582053\n",
       "9998   58.711148   53.036436\n",
       "9999   97.227176   51.331335"
      ]
     },
     "execution_count": 21,
     "metadata": {},
     "output_type": "execute_result"
    }
   ],
   "source": [
    "portfolio = pd.DataFrame({'Return': pfolio_returns, 'Volatility': pfolio_volatilities})\n",
    "portfolio.head()\n",
    "portfolio.tail()"
   ]
  },
  {
   "cell_type": "code",
   "execution_count": 22,
   "metadata": {},
   "outputs": [
    {
     "data": {
      "text/plain": [
       "<AxesSubplot:xlabel='Volatility', ylabel='Return'>"
      ]
     },
     "execution_count": 22,
     "metadata": {},
     "output_type": "execute_result"
    },
    {
     "data": {
      "text/plain": [
       "Text(0.5, 0, 'Expected Volatality')"
      ]
     },
     "execution_count": 22,
     "metadata": {},
     "output_type": "execute_result"
    },
    {
     "data": {
      "text/plain": [
       "Text(0, 0.5, 'Expected Return')"
      ]
     },
     "execution_count": 22,
     "metadata": {},
     "output_type": "execute_result"
    },
    {
     "data": {
      "image/png": "[encoded data removed]",
      "text/plain": [
       "<Figure size 1080x576 with 1 Axes>"
      ]
     },
     "metadata": {},
     "output_type": "display_data"
    }
   ],
   "source": [
    "portfolio.plot(x='Volatility',y='Return',kind='scatter',figsize=(15,8))\n",
    "plt.xlabel('Expected Volatality')\n",
    "plt.ylabel('Expected Return')"
   ]
  },
  {
   "cell_type": "code",
   "execution_count": null,
   "metadata": {},
   "outputs": [],
   "source": []
  }
 ],
 "metadata": {
  "kernelspec": {
   "display_name": "Python 3.9.9 64-bit",
   "language": "python",
   "name": "python3"
  },
  "language_info": {
   "codemirror_mode": {
    "name": "ipython",
    "version": 3
   },
   "file_extension": ".py",
   "mimetype": "text/x-python",
   "name": "python",
   "nbconvert_exporter": "python",
   "pygments_lexer": "ipython3",
   "version": "3.9.9"
  },
  "orig_nbformat": 4,
  "vscode": {
   "interpreter": {
    "hash": "3c8d0175d7cae27bf08afa3ed6d379d549d2e185263a683b210b8b618a0db948"
   }
  }
 },
 "nbformat": 4,
 "nbformat_minor": 2
}
