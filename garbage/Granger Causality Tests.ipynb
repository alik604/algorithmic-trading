{
 "cells": [
  {
   "cell_type": "markdown",
   "metadata": {
    "colab_type": "text",
    "id": "view-in-github"
   },
   "source": [
    "<a href=\"https://colab.research.google.com/github/alik604/Notebooks/blob/master/google-Colab/correlation_testing.ipynb\" target=\"_parent\"><img src=\"https://colab.research.google.com/assets/colab-badge.svg\" alt=\"Open In Colab\"/></a>"
   ]
  },
  {
   "cell_type": "markdown",
   "metadata": {},
   "source": [
    "# Demo of `from statsmodels.tsa.stattools import grangercausalitytests`\n",
    "> Written Summer 2018. Rerun Summer 2021. I still dont understand it haha. (p-value that x causes y?)"
   ]
  },
  {
   "cell_type": "code",
   "execution_count": 1,
   "metadata": {
    "colab": {
     "base_uri": "https://localhost:8080/",
     "height": 235
    },
    "colab_type": "code",
    "id": "m8SUlyW9xhdG",
    "outputId": "41915dac-fe17-4f10-b99e-afdd1c4174ae"
   },
   "outputs": [],
   "source": [
    "# Importing the libraries\n",
    "import math\n",
    "import scipy\n",
    "import numpy as np\n",
    "import pandas as pd\n",
    "\n",
    "import matplotlib.pyplot as plt\n",
    "plt.style.use('fivethirtyeight')\n",
    "from sklearn.metrics import mean_squared_error\n",
    "from sklearn import preprocessing\n",
    "\n",
    "import yfinance as yf\n",
    "\n",
    "from statsmodels.tsa.stattools import grangercausalitytests"
   ]
  },
  {
   "cell_type": "code",
   "execution_count": 2,
   "metadata": {
    "colab": {
     "base_uri": "https://localhost:8080/",
     "height": 355
    },
    "colab_type": "code",
    "id": "pu3zopIPxn3Y",
    "outputId": "edaa57ec-fbe3-4ab1-aec6-9071d48cb7e9"
   },
   "outputs": [
    {
     "name": "stdout",
     "output_type": "stream",
     "text": [
      "[*********************100%***********************]  1 of 1 completed\n",
      "[*********************100%***********************]  1 of 1 completed\n",
      "[*********************100%***********************]  1 of 1 completed\n",
      "[*********************100%***********************]  1 of 1 completed\n",
      "[*********************100%***********************]  1 of 1 completed\n",
      "[*********************100%***********************]  1 of 1 completed\n",
      "[*********************100%***********************]  1 of 1 completed\n"
     ]
    },
    {
     "data": {
      "text/html": [
       "<div>\n",
       "<style scoped>\n",
       "    .dataframe tbody tr th:only-of-type {\n",
       "        vertical-align: middle;\n",
       "    }\n",
       "\n",
       "    .dataframe tbody tr th {\n",
       "        vertical-align: top;\n",
       "    }\n",
       "\n",
       "    .dataframe thead th {\n",
       "        text-align: right;\n",
       "    }\n",
       "</style>\n",
       "<table border=\"1\" class=\"dataframe\">\n",
       "  <thead>\n",
       "    <tr style=\"text-align: right;\">\n",
       "      <th></th>\n",
       "      <th>SPX</th>\n",
       "      <th>SPX_MA_3</th>\n",
       "      <th>SPX_shift_3</th>\n",
       "      <th>SPXL</th>\n",
       "      <th>QQQ</th>\n",
       "      <th>TQQQ</th>\n",
       "      <th>GDX</th>\n",
       "      <th>GLD</th>\n",
       "      <th>GOLD</th>\n",
       "    </tr>\n",
       "    <tr>\n",
       "      <th>Date</th>\n",
       "      <th></th>\n",
       "      <th></th>\n",
       "      <th></th>\n",
       "      <th></th>\n",
       "      <th></th>\n",
       "      <th></th>\n",
       "      <th></th>\n",
       "      <th></th>\n",
       "      <th></th>\n",
       "    </tr>\n",
       "  </thead>\n",
       "  <tbody>\n",
       "    <tr>\n",
       "      <th>2013-02-26</th>\n",
       "      <td>150.020004</td>\n",
       "      <td>150.303335</td>\n",
       "      <td>150.419998</td>\n",
       "      <td>8.460000</td>\n",
       "      <td>66.559998</td>\n",
       "      <td>1.137708</td>\n",
       "      <td>39.049999</td>\n",
       "      <td>156.220001</td>\n",
       "      <td>0.13</td>\n",
       "    </tr>\n",
       "    <tr>\n",
       "      <th>2013-02-27</th>\n",
       "      <td>151.910004</td>\n",
       "      <td>150.310003</td>\n",
       "      <td>151.889999</td>\n",
       "      <td>8.773333</td>\n",
       "      <td>67.239998</td>\n",
       "      <td>1.172292</td>\n",
       "      <td>38.259998</td>\n",
       "      <td>154.570007</td>\n",
       "      <td>0.13</td>\n",
       "    </tr>\n",
       "    <tr>\n",
       "      <th>2013-02-28</th>\n",
       "      <td>151.610001</td>\n",
       "      <td>151.180003</td>\n",
       "      <td>149.000000</td>\n",
       "      <td>8.700000</td>\n",
       "      <td>67.099998</td>\n",
       "      <td>1.167917</td>\n",
       "      <td>37.400002</td>\n",
       "      <td>153.000000</td>\n",
       "      <td>0.13</td>\n",
       "    </tr>\n",
       "    <tr>\n",
       "      <th>2013-03-01</th>\n",
       "      <td>152.110001</td>\n",
       "      <td>151.876668</td>\n",
       "      <td>150.020004</td>\n",
       "      <td>8.818333</td>\n",
       "      <td>67.379997</td>\n",
       "      <td>1.180000</td>\n",
       "      <td>37.110001</td>\n",
       "      <td>152.440002</td>\n",
       "      <td>0.13</td>\n",
       "    </tr>\n",
       "    <tr>\n",
       "      <th>2013-03-04</th>\n",
       "      <td>152.919998</td>\n",
       "      <td>152.213333</td>\n",
       "      <td>151.910004</td>\n",
       "      <td>8.949167</td>\n",
       "      <td>67.680000</td>\n",
       "      <td>1.195208</td>\n",
       "      <td>35.910000</td>\n",
       "      <td>152.300003</td>\n",
       "      <td>0.10</td>\n",
       "    </tr>\n",
       "  </tbody>\n",
       "</table>\n",
       "</div>"
      ],
      "text/plain": [
       "                   SPX    SPX_MA_3  SPX_shift_3      SPXL        QQQ  \\\n",
       "Date                                                                   \n",
       "2013-02-26  150.020004  150.303335   150.419998  8.460000  66.559998   \n",
       "2013-02-27  151.910004  150.310003   151.889999  8.773333  67.239998   \n",
       "2013-02-28  151.610001  151.180003   149.000000  8.700000  67.099998   \n",
       "2013-03-01  152.110001  151.876668   150.020004  8.818333  67.379997   \n",
       "2013-03-04  152.919998  152.213333   151.910004  8.949167  67.680000   \n",
       "\n",
       "                TQQQ        GDX         GLD  GOLD  \n",
       "Date                                               \n",
       "2013-02-26  1.137708  39.049999  156.220001  0.13  \n",
       "2013-02-27  1.172292  38.259998  154.570007  0.13  \n",
       "2013-02-28  1.167917  37.400002  153.000000  0.13  \n",
       "2013-03-01  1.180000  37.110001  152.440002  0.13  \n",
       "2013-03-04  1.195208  35.910000  152.300003  0.10  "
      ]
     },
     "execution_count": 2,
     "metadata": {},
     "output_type": "execute_result"
    }
   ],
   "source": [
    "\n",
    "DATA = \"2000-1-1\"\n",
    "SPX = yf.download('spy',DATA).drop(columns=  ['Open','High', 'Low','Adj Close','Volume'])\n",
    "\n",
    "df = pd.DataFrame({\n",
    "    'SPX':SPX.Close,\n",
    "    'SPX_MA_3':SPX.Close.rolling(window=3).mean(),\n",
    "    'SPX_shift_3':SPX.Close.shift(periods= 3),\n",
    "    'SPXL':yf.download('SPXL', DATA).drop(columns=['Open','High', 'Low','Adj Close','Volume']).Close,\n",
    "    'QQQ':yf.download('qqq',   DATA).drop(columns=['Open','High', 'Low','Adj Close','Volume']).Close,\n",
    "    'TQQQ':yf.download('TQQQ', DATA).drop(columns=['Open','High', 'Low','Adj Close','Volume']).Close,\n",
    "    'GDX':yf.download('GDX',   DATA).drop(columns=['Open','High', 'Low','Adj Close','Volume']).Close,\n",
    "    'GLD':yf.download('GLD',   DATA).drop(columns=['Open','High', 'Low','Adj Close','Volume']).Close,\n",
    "    'GOLD':yf.download('XAU',  DATA).drop(columns=['Open','High', 'Low','Adj Close','Volume']).Close\n",
    "})\n",
    "\n",
    "df.dropna(inplace=True)\n",
    "df.head(5)"
   ]
  },
  {
   "cell_type": "code",
   "execution_count": 3,
   "metadata": {
    "colab": {
     "base_uri": "https://localhost:8080/",
     "height": 35
    },
    "colab_type": "code",
    "id": "PT0OoLHQ6Da2",
    "outputId": "334c69ab-a460-4ae3-e1fd-d4cffcbd1915"
   },
   "outputs": [
    {
     "data": {
      "text/plain": [
       "9746.982492264618"
      ]
     },
     "execution_count": 3,
     "metadata": {},
     "output_type": "execute_result"
    }
   ],
   "source": [
    "mse = mean_squared_error(df.SPX, df.QQQ)\n",
    "mse"
   ]
  },
  {
   "cell_type": "code",
   "execution_count": 4,
   "metadata": {
    "colab": {
     "base_uri": "https://localhost:8080/",
     "height": 228
    },
    "colab_type": "code",
    "id": "GiKYDPtK6Ddt",
    "outputId": "749361bb-c8d4-44e5-9a66-012db3208583"
   },
   "outputs": [
    {
     "data": {
      "text/html": [
       "<div>\n",
       "<style scoped>\n",
       "    .dataframe tbody tr th:only-of-type {\n",
       "        vertical-align: middle;\n",
       "    }\n",
       "\n",
       "    .dataframe tbody tr th {\n",
       "        vertical-align: top;\n",
       "    }\n",
       "\n",
       "    .dataframe thead th {\n",
       "        text-align: right;\n",
       "    }\n",
       "</style>\n",
       "<table border=\"1\" class=\"dataframe\">\n",
       "  <thead>\n",
       "    <tr style=\"text-align: right;\">\n",
       "      <th></th>\n",
       "      <th>SPX</th>\n",
       "      <th>SPX_MA_3</th>\n",
       "      <th>SPX_shift_3</th>\n",
       "      <th>SPXL</th>\n",
       "      <th>QQQ</th>\n",
       "      <th>TQQQ</th>\n",
       "      <th>GDX</th>\n",
       "      <th>GLD</th>\n",
       "      <th>GOLD</th>\n",
       "    </tr>\n",
       "    <tr>\n",
       "      <th>Date</th>\n",
       "      <th></th>\n",
       "      <th></th>\n",
       "      <th></th>\n",
       "      <th></th>\n",
       "      <th></th>\n",
       "      <th></th>\n",
       "      <th></th>\n",
       "      <th></th>\n",
       "      <th></th>\n",
       "    </tr>\n",
       "  </thead>\n",
       "  <tbody>\n",
       "    <tr>\n",
       "      <th>2013-02-26</th>\n",
       "      <td>0.000000</td>\n",
       "      <td>0.000000</td>\n",
       "      <td>0.010573</td>\n",
       "      <td>0.000000</td>\n",
       "      <td>0.000000</td>\n",
       "      <td>0.000000</td>\n",
       "      <td>1.000000</td>\n",
       "      <td>0.999462</td>\n",
       "      <td>0.006984</td>\n",
       "    </tr>\n",
       "    <tr>\n",
       "      <th>2013-02-27</th>\n",
       "      <td>0.013840</td>\n",
       "      <td>0.000050</td>\n",
       "      <td>0.021519</td>\n",
       "      <td>0.006809</td>\n",
       "      <td>0.006515</td>\n",
       "      <td>0.002465</td>\n",
       "      <td>0.970278</td>\n",
       "      <td>0.969866</td>\n",
       "      <td>0.006984</td>\n",
       "    </tr>\n",
       "    <tr>\n",
       "      <th>2013-02-28</th>\n",
       "      <td>0.011643</td>\n",
       "      <td>0.006516</td>\n",
       "      <td>0.000000</td>\n",
       "      <td>0.005215</td>\n",
       "      <td>0.005174</td>\n",
       "      <td>0.002153</td>\n",
       "      <td>0.937923</td>\n",
       "      <td>0.941704</td>\n",
       "      <td>0.006984</td>\n",
       "    </tr>\n",
       "    <tr>\n",
       "      <th>2013-03-01</th>\n",
       "      <td>0.015305</td>\n",
       "      <td>0.011693</td>\n",
       "      <td>0.007595</td>\n",
       "      <td>0.007786</td>\n",
       "      <td>0.007857</td>\n",
       "      <td>0.003015</td>\n",
       "      <td>0.927013</td>\n",
       "      <td>0.931659</td>\n",
       "      <td>0.006984</td>\n",
       "    </tr>\n",
       "    <tr>\n",
       "      <th>2013-03-04</th>\n",
       "      <td>0.021236</td>\n",
       "      <td>0.014195</td>\n",
       "      <td>0.021668</td>\n",
       "      <td>0.010629</td>\n",
       "      <td>0.010731</td>\n",
       "      <td>0.004099</td>\n",
       "      <td>0.881866</td>\n",
       "      <td>0.929148</td>\n",
       "      <td>0.003175</td>\n",
       "    </tr>\n",
       "  </tbody>\n",
       "</table>\n",
       "</div>"
      ],
      "text/plain": [
       "                 SPX  SPX_MA_3  SPX_shift_3      SPXL       QQQ      TQQQ  \\\n",
       "Date                                                                        \n",
       "2013-02-26  0.000000  0.000000     0.010573  0.000000  0.000000  0.000000   \n",
       "2013-02-27  0.013840  0.000050     0.021519  0.006809  0.006515  0.002465   \n",
       "2013-02-28  0.011643  0.006516     0.000000  0.005215  0.005174  0.002153   \n",
       "2013-03-01  0.015305  0.011693     0.007595  0.007786  0.007857  0.003015   \n",
       "2013-03-04  0.021236  0.014195     0.021668  0.010629  0.010731  0.004099   \n",
       "\n",
       "                 GDX       GLD      GOLD  \n",
       "Date                                      \n",
       "2013-02-26  1.000000  0.999462  0.006984  \n",
       "2013-02-27  0.970278  0.969866  0.006984  \n",
       "2013-02-28  0.937923  0.941704  0.006984  \n",
       "2013-03-01  0.927013  0.931659  0.006984  \n",
       "2013-03-04  0.881866  0.929148  0.003175  "
      ]
     },
     "execution_count": 4,
     "metadata": {},
     "output_type": "execute_result"
    }
   ],
   "source": [
    "norm_df=(df-df.min())/(df.max()-df.min())\n",
    "norm_df.head()"
   ]
  },
  {
   "cell_type": "code",
   "execution_count": 5,
   "metadata": {
    "colab": {
     "base_uri": "https://localhost:8080/",
     "height": 35
    },
    "colab_type": "code",
    "id": "CRZYzytO6Dg0",
    "outputId": "d7e98996-98ea-431c-8439-2c3dabf09e0f"
   },
   "outputs": [
    {
     "data": {
      "text/plain": [
       "0.09808706000887205"
      ]
     },
     "execution_count": 5,
     "metadata": {},
     "output_type": "execute_result"
    }
   ],
   "source": [
    "mse = mean_squared_error(norm_df.SPX, norm_df.GLD)\n",
    "mse"
   ]
  },
  {
   "cell_type": "code",
   "execution_count": 6,
   "metadata": {
    "colab": {
     "base_uri": "https://localhost:8080/",
     "height": 318
    },
    "colab_type": "code",
    "id": "S3XNxVzjVzQu",
    "outputId": "520543d9-7fab-4522-8646-5a1d4a8b3f9a"
   },
   "outputs": [
    {
     "data": {
      "text/html": [
       "<div>\n",
       "<style scoped>\n",
       "    .dataframe tbody tr th:only-of-type {\n",
       "        vertical-align: middle;\n",
       "    }\n",
       "\n",
       "    .dataframe tbody tr th {\n",
       "        vertical-align: top;\n",
       "    }\n",
       "\n",
       "    .dataframe thead th {\n",
       "        text-align: right;\n",
       "    }\n",
       "</style>\n",
       "<table border=\"1\" class=\"dataframe\">\n",
       "  <thead>\n",
       "    <tr style=\"text-align: right;\">\n",
       "      <th></th>\n",
       "      <th>SPX</th>\n",
       "      <th>SPX_MA_3</th>\n",
       "      <th>SPX_shift_3</th>\n",
       "      <th>SPXL</th>\n",
       "      <th>QQQ</th>\n",
       "      <th>TQQQ</th>\n",
       "      <th>GDX</th>\n",
       "      <th>GLD</th>\n",
       "      <th>GOLD</th>\n",
       "    </tr>\n",
       "  </thead>\n",
       "  <tbody>\n",
       "    <tr>\n",
       "      <th>SPX</th>\n",
       "      <td>0.000000</td>\n",
       "      <td>0.000085</td>\n",
       "      <td>0.000505</td>\n",
       "      <td>0.012054</td>\n",
       "      <td>0.001424</td>\n",
       "      <td>0.026386</td>\n",
       "      <td>0.093452</td>\n",
       "      <td>0.098087</td>\n",
       "      <td>0.057934</td>\n",
       "    </tr>\n",
       "    <tr>\n",
       "      <th>SPX_MA_3</th>\n",
       "      <td>0.000085</td>\n",
       "      <td>0.000000</td>\n",
       "      <td>0.000264</td>\n",
       "      <td>0.012922</td>\n",
       "      <td>0.001483</td>\n",
       "      <td>0.027555</td>\n",
       "      <td>0.095187</td>\n",
       "      <td>0.100049</td>\n",
       "      <td>0.058749</td>\n",
       "    </tr>\n",
       "    <tr>\n",
       "      <th>SPX_shift_3</th>\n",
       "      <td>0.000505</td>\n",
       "      <td>0.000264</td>\n",
       "      <td>0.000000</td>\n",
       "      <td>0.015238</td>\n",
       "      <td>0.002130</td>\n",
       "      <td>0.030700</td>\n",
       "      <td>0.096057</td>\n",
       "      <td>0.101328</td>\n",
       "      <td>0.061079</td>\n",
       "    </tr>\n",
       "    <tr>\n",
       "      <th>SPXL</th>\n",
       "      <td>0.012054</td>\n",
       "      <td>0.012922</td>\n",
       "      <td>0.015238</td>\n",
       "      <td>0.000000</td>\n",
       "      <td>0.010233</td>\n",
       "      <td>0.003214</td>\n",
       "      <td>0.089919</td>\n",
       "      <td>0.087522</td>\n",
       "      <td>0.046098</td>\n",
       "    </tr>\n",
       "    <tr>\n",
       "      <th>QQQ</th>\n",
       "      <td>0.001424</td>\n",
       "      <td>0.001483</td>\n",
       "      <td>0.002130</td>\n",
       "      <td>0.010233</td>\n",
       "      <td>0.000000</td>\n",
       "      <td>0.021489</td>\n",
       "      <td>0.104782</td>\n",
       "      <td>0.107771</td>\n",
       "      <td>0.049407</td>\n",
       "    </tr>\n",
       "    <tr>\n",
       "      <th>TQQQ</th>\n",
       "      <td>0.026386</td>\n",
       "      <td>0.027555</td>\n",
       "      <td>0.030700</td>\n",
       "      <td>0.003214</td>\n",
       "      <td>0.021489</td>\n",
       "      <td>0.000000</td>\n",
       "      <td>0.102616</td>\n",
       "      <td>0.095916</td>\n",
       "      <td>0.044658</td>\n",
       "    </tr>\n",
       "    <tr>\n",
       "      <th>GDX</th>\n",
       "      <td>0.093452</td>\n",
       "      <td>0.095187</td>\n",
       "      <td>0.096057</td>\n",
       "      <td>0.089919</td>\n",
       "      <td>0.104782</td>\n",
       "      <td>0.102616</td>\n",
       "      <td>0.000000</td>\n",
       "      <td>0.004466</td>\n",
       "      <td>0.151234</td>\n",
       "    </tr>\n",
       "    <tr>\n",
       "      <th>GLD</th>\n",
       "      <td>0.098087</td>\n",
       "      <td>0.100049</td>\n",
       "      <td>0.101328</td>\n",
       "      <td>0.087522</td>\n",
       "      <td>0.107771</td>\n",
       "      <td>0.095916</td>\n",
       "      <td>0.004466</td>\n",
       "      <td>0.000000</td>\n",
       "      <td>0.148044</td>\n",
       "    </tr>\n",
       "    <tr>\n",
       "      <th>GOLD</th>\n",
       "      <td>0.057934</td>\n",
       "      <td>0.058749</td>\n",
       "      <td>0.061079</td>\n",
       "      <td>0.046098</td>\n",
       "      <td>0.049407</td>\n",
       "      <td>0.044658</td>\n",
       "      <td>0.151234</td>\n",
       "      <td>0.148044</td>\n",
       "      <td>0.000000</td>\n",
       "    </tr>\n",
       "  </tbody>\n",
       "</table>\n",
       "</div>"
      ],
      "text/plain": [
       "                  SPX  SPX_MA_3  SPX_shift_3      SPXL       QQQ      TQQQ  \\\n",
       "SPX          0.000000  0.000085     0.000505  0.012054  0.001424  0.026386   \n",
       "SPX_MA_3     0.000085  0.000000     0.000264  0.012922  0.001483  0.027555   \n",
       "SPX_shift_3  0.000505  0.000264     0.000000  0.015238  0.002130  0.030700   \n",
       "SPXL         0.012054  0.012922     0.015238  0.000000  0.010233  0.003214   \n",
       "QQQ          0.001424  0.001483     0.002130  0.010233  0.000000  0.021489   \n",
       "TQQQ         0.026386  0.027555     0.030700  0.003214  0.021489  0.000000   \n",
       "GDX          0.093452  0.095187     0.096057  0.089919  0.104782  0.102616   \n",
       "GLD          0.098087  0.100049     0.101328  0.087522  0.107771  0.095916   \n",
       "GOLD         0.057934  0.058749     0.061079  0.046098  0.049407  0.044658   \n",
       "\n",
       "                  GDX       GLD      GOLD  \n",
       "SPX          0.093452  0.098087  0.057934  \n",
       "SPX_MA_3     0.095187  0.100049  0.058749  \n",
       "SPX_shift_3  0.096057  0.101328  0.061079  \n",
       "SPXL         0.089919  0.087522  0.046098  \n",
       "QQQ          0.104782  0.107771  0.049407  \n",
       "TQQQ         0.102616  0.095916  0.044658  \n",
       "GDX          0.000000  0.004466  0.151234  \n",
       "GLD          0.004466  0.000000  0.148044  \n",
       "GOLD         0.151234  0.148044  0.000000  "
      ]
     },
     "execution_count": 6,
     "metadata": {},
     "output_type": "execute_result"
    }
   ],
   "source": [
    "def get_mse_df(df=df):\n",
    "  Matrix = [[round(mean_squared_error(df.iloc[:, row],df.iloc[:, col]),6) for row in range(df.columns.size)] for col in range(df.columns.size)] \n",
    "  cols = df.columns\n",
    "\n",
    "  mse_df = pd.DataFrame(Matrix, columns=cols, index=cols)\n",
    "  return mse_df\n",
    "\n",
    "# mse_df=get_mse_df(norm_df)\n",
    "# norm_df.corr()"
   ]
  },
  {
   "cell_type": "code",
   "execution_count": 8,
   "metadata": {
    "colab": {
     "base_uri": "https://localhost:8080/",
     "height": 654
    },
    "colab_type": "code",
    "id": "r7Nzgx92VjKS",
    "outputId": "7edff9c2-d554-4521-b769-a51686e14678"
   },
   "outputs": [
    {
     "name": "stdout",
     "output_type": "stream",
     "text": [
      "\n",
      "Granger Causality\n",
      "number of lags (no zero) 1\n",
      "ssr based F test:         F=1.6244  , p=0.2027  , df_denom=1180, df_num=1\n",
      "ssr based chi2 test:   chi2=1.6285  , p=0.2019  , df=1\n",
      "likelihood ratio test: chi2=1.6274  , p=0.2021  , df=1\n",
      "parameter F test:         F=1.6244  , p=0.2027  , df_denom=1180, df_num=1\n",
      "\n",
      "Granger Causality\n",
      "number of lags (no zero) 2\n",
      "ssr based F test:         F=0.1328  , p=0.8756  , df_denom=1177, df_num=2\n",
      "ssr based chi2 test:   chi2=0.2668  , p=0.8751  , df=2\n",
      "likelihood ratio test: chi2=0.2667  , p=0.8751  , df=2\n",
      "parameter F test:         F=0.1328  , p=0.8756  , df_denom=1177, df_num=2\n",
      "\n",
      "Granger Causality\n",
      "number of lags (no zero) 3\n",
      "ssr based F test:         F=3.6690  , p=0.0119  , df_denom=1174, df_num=3\n",
      "ssr based chi2 test:   chi2=11.0727 , p=0.0113  , df=3\n",
      "likelihood ratio test: chi2=11.0211 , p=0.0116  , df=3\n",
      "parameter F test:         F=3.6690  , p=0.0119  , df_denom=1174, df_num=3\n",
      "\n",
      "Granger Causality\n",
      "number of lags (no zero) 4\n",
      "ssr based F test:         F=2.8679  , p=0.0222  , df_denom=1171, df_num=4\n",
      "ssr based chi2 test:   chi2=11.5598 , p=0.0209  , df=4\n",
      "likelihood ratio test: chi2=11.5035 , p=0.0215  , df=4\n",
      "parameter F test:         F=2.8679  , p=0.0222  , df_denom=1171, df_num=4\n",
      "\n",
      "Granger Causality\n",
      "number of lags (no zero) 5\n",
      "ssr based F test:         F=1.6425  , p=0.1459  , df_denom=1168, df_num=5\n",
      "ssr based chi2 test:   chi2=8.2897  , p=0.1410  , df=5\n",
      "likelihood ratio test: chi2=8.2606  , p=0.1424  , df=5\n",
      "parameter F test:         F=1.6425  , p=0.1459  , df_denom=1168, df_num=5\n"
     ]
    }
   ],
   "source": [
    "gc_res = grangercausalitytests(norm_df[['SPX', 'SPX_MA_3']],5)"
   ]
  },
  {
   "cell_type": "code",
   "execution_count": 9,
   "metadata": {
    "colab": {
     "base_uri": "https://localhost:8080/",
     "height": 654
    },
    "colab_type": "code",
    "id": "J90UYuGu9mpd",
    "outputId": "353d240a-ccb1-44bf-e540-5f7bfd3645fd"
   },
   "outputs": [
    {
     "name": "stdout",
     "output_type": "stream",
     "text": [
      "\n",
      "Granger Causality\n",
      "number of lags (no zero) 1\n",
      "ssr based F test:         F=1.8322  , p=0.1761  , df_denom=1180, df_num=1\n",
      "ssr based chi2 test:   chi2=1.8369  , p=0.1753  , df=1\n",
      "likelihood ratio test: chi2=1.8355  , p=0.1755  , df=1\n",
      "parameter F test:         F=1.8322  , p=0.1761  , df_denom=1180, df_num=1\n",
      "\n",
      "Granger Causality\n",
      "number of lags (no zero) 2\n",
      "ssr based F test:         F=3.7697  , p=0.0233  , df_denom=1177, df_num=2\n",
      "ssr based chi2 test:   chi2=7.5715  , p=0.0227  , df=2\n",
      "likelihood ratio test: chi2=7.5473  , p=0.0230  , df=2\n",
      "parameter F test:         F=3.7697  , p=0.0233  , df_denom=1177, df_num=2\n",
      "\n",
      "Granger Causality\n",
      "number of lags (no zero) 3\n",
      "ssr based F test:         F=2.4513  , p=0.0620  , df_denom=1174, df_num=3\n",
      "ssr based chi2 test:   chi2=7.3977  , p=0.0602  , df=3\n",
      "likelihood ratio test: chi2=7.3746  , p=0.0609  , df=3\n",
      "parameter F test:         F=2.4513  , p=0.0620  , df_denom=1174, df_num=3\n",
      "\n",
      "Granger Causality\n",
      "number of lags (no zero) 4\n",
      "ssr based F test:         F=2.0522  , p=0.0850  , df_denom=1171, df_num=4\n",
      "ssr based chi2 test:   chi2=8.2720  , p=0.0821  , df=4\n",
      "likelihood ratio test: chi2=8.2431  , p=0.0831  , df=4\n",
      "parameter F test:         F=2.0522  , p=0.0850  , df_denom=1171, df_num=4\n",
      "\n",
      "Granger Causality\n",
      "number of lags (no zero) 5\n",
      "ssr based F test:         F=1.2050  , p=0.3046  , df_denom=1168, df_num=5\n",
      "ssr based chi2 test:   chi2=6.0816  , p=0.2984  , df=5\n",
      "likelihood ratio test: chi2=6.0660  , p=0.2999  , df=5\n",
      "parameter F test:         F=1.2050  , p=0.3046  , df_denom=1168, df_num=5\n"
     ]
    }
   ],
   "source": [
    "gc_res = grangercausalitytests(norm_df[['SPX', 'SPX_shift_3']],5)"
   ]
  },
  {
   "cell_type": "code",
   "execution_count": null,
   "metadata": {
    "colab": {
     "base_uri": "https://localhost:8080/",
     "height": 654
    },
    "colab_type": "code",
    "id": "gM3Mfnn1VjNK",
    "outputId": "562edaf6-5025-4344-ba7f-0a7b7ac25bf7"
   },
   "outputs": [],
   "source": [
    "# gc_res = grangercausalitytests(norm_df[['SPX', 'SPXL']],5)"
   ]
  },
  {
   "cell_type": "code",
   "execution_count": 11,
   "metadata": {
    "colab": {
     "base_uri": "https://localhost:8080/",
     "height": 590
    },
    "colab_type": "code",
    "id": "KKebZsTFVjPj",
    "outputId": "02a187d3-5035-4ef2-99bb-3a0abada9a1f"
   },
   "outputs": [
    {
     "data": {
      "image/png": "[encoded data removed]",
      "text/plain": [
       "<Figure size 432x288 with 1 Axes>"
      ]
     },
     "metadata": {},
     "output_type": "display_data"
    }
   ],
   "source": [
    "from statsmodels.graphics.tsaplots import plot_acf\n",
    "plot_acf(df.SPX_shift_3, lags=10)\n",
    "plt.show()"
   ]
  },
  {
   "cell_type": "code",
   "execution_count": 12,
   "metadata": {
    "colab": {
     "base_uri": "https://localhost:8080/",
     "height": 301
    },
    "colab_type": "code",
    "id": "_Q32fr066DqN",
    "outputId": "c2253f9a-007a-4b7d-944b-6c5115f10018"
   },
   "outputs": [
    {
     "data": {
      "text/plain": [
       "<AxesSubplot:>"
      ]
     },
     "execution_count": 12,
     "metadata": {},
     "output_type": "execute_result"
    },
    {
     "data": {
      "image/png": "[encoded data removed]",
      "text/plain": [
       "<Figure size 432x288 with 1 Axes>"
      ]
     },
     "metadata": {},
     "output_type": "display_data"
    }
   ],
   "source": [
    "x =scipy.signal.correlate(df.SPX,df.SPX_shift_3, mode='same')/len(df.SPX) # https://docs.scipy.org/doc/numpy-1.13.0/reference/generated/numpy.correlate.html\n",
    "\n",
    "x=pd.DataFrame({'x':x})\n",
    "x.plot()"
   ]
  },
  {
   "cell_type": "code",
   "execution_count": null,
   "metadata": {},
   "outputs": [],
   "source": []
  },
  {
   "cell_type": "code",
   "execution_count": null,
   "metadata": {},
   "outputs": [],
   "source": []
  },
  {
   "cell_type": "code",
   "execution_count": null,
   "metadata": {},
   "outputs": [],
   "source": []
  }
 ],
 "metadata": {
  "accelerator": "GPU",
  "colab": {
   "include_colab_link": true,
   "name": "correlation testing.ipynb",
   "provenance": [],
   "version": "0.3.2"
  },
  "kernelspec": {
   "display_name": "Python 3",
   "language": "python",
   "name": "python3"
  },
  "language_info": {
   "codemirror_mode": {
    "name": "ipython",
    "version": 3
   },
   "file_extension": ".py",
   "mimetype": "text/x-python",
   "name": "python",
   "nbconvert_exporter": "python",
   "pygments_lexer": "ipython3",
   "version": "3.9.9"
  }
 },
 "nbformat": 4,
 "nbformat_minor": 4
}
